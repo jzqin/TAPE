{
 "cells": [
  {
   "cell_type": "code",
   "execution_count": 1,
   "metadata": {},
   "outputs": [],
   "source": [
    "# Jason Qin\n",
    "# 04/20/21"
   ]
  },
  {
   "cell_type": "markdown",
   "metadata": {},
   "source": [
    "# Analyzing Generated Data"
   ]
  },
  {
   "cell_type": "code",
   "execution_count": 28,
   "metadata": {},
   "outputs": [],
   "source": [
    "import sys\n",
    "import numpy as np\n",
    "import pandas\n",
    "import matplotlib.pyplot as plt\n",
    "import seaborn as sns\n",
    "import pickle as pkl\n",
    "import torch\n",
    "\n",
    "from scipy.spatial.distance import cdist, hamming\n",
    "import scipy.stats\n",
    "\n",
    "from tape.datasets import FastaDataset, pad_sequences\n",
    "from tape.tokenizers import TAPETokenizer"
   ]
  },
  {
   "cell_type": "markdown",
   "metadata": {},
   "source": [
    "### Finding Perfect Predictions in Generated Data"
   ]
  },
  {
   "cell_type": "code",
   "execution_count": 3,
   "metadata": {},
   "outputs": [],
   "source": [
    "results_data_dir = '/group/ag_cmb/scratch/jqin/projects/tape/results/tcr_transformer_21-04-08-22-42-38_231772/'\n",
    "data_file = results_data_dir + 'generate_results_3_220421_043126.txt'\n",
    "data = pandas.read_csv(data_file, sep='\\t')"
   ]
  },
  {
   "cell_type": "code",
   "execution_count": 4,
   "metadata": {},
   "outputs": [
    {
     "name": "stderr",
     "output_type": "stream",
     "text": [
      "<ipython-input-4-48522cd36268>:5: FutureWarning: The default value of regex will change from True to False in a future version.\n",
      "  data[col] = data[col].str.replace(r'.*\\[', '')\n",
      "<ipython-input-4-48522cd36268>:6: FutureWarning: The default value of regex will change from True to False in a future version.\n",
      "  data[col] = data[col].str.replace(r'\\].*', '')\n"
     ]
    }
   ],
   "source": [
    "# clean and organize data\n",
    "column_names = ['TCR', 'antigen', 'prediction']\n",
    "for col in column_names:\n",
    "    # remove all non-numeric parts of data\n",
    "    data[col] = data[col].str.replace(r'.*\\[', '')\n",
    "    data[col] = data[col].str.replace(r'\\].*', '')\n",
    "    data[col] = data[col].str.replace(r'        ', ',')\n",
    "    data[col] = data[col].str.strip()\n",
    "    \n",
    "    # convert comma-separated string of ints to list of ints\n",
    "    data[col] = [np.array([int(float(y.strip('.'))) for y in x]) for x in data[col].str.split(',')]"
   ]
  },
  {
   "cell_type": "code",
   "execution_count": 5,
   "metadata": {},
   "outputs": [],
   "source": [
    "antigens = data['antigen']\n",
    "predictions = data['prediction']"
   ]
  },
  {
   "cell_type": "code",
   "execution_count": 6,
   "metadata": {},
   "outputs": [],
   "source": [
    "# reduce length of predictions to be closest to each antigen\n",
    "# this lets us find the closest match between the targets and the\n",
    "# generated predictions\n",
    "truncated_predictions = []\n",
    "for antigen, pred in zip(antigens, predictions):\n",
    "    stop_idx = np.where(antigen == 3)[0][0]\n",
    "    if antigen.shape[0] < pred.shape[0]:\n",
    "        pred[stop_idx] = 3\n",
    "        pred = pred[0:(stop_idx+1)]\n",
    "    truncated_predictions += [pred]"
   ]
  },
  {
   "cell_type": "code",
   "execution_count": 7,
   "metadata": {},
   "outputs": [],
   "source": [
    "# compare truncated predictions to the known targets\n",
    "truncated_differences = []\n",
    "for antigen, pred in zip(antigens, truncated_predictions):\n",
    "    antigen = np.expand_dims(antigen, 0)\n",
    "    pred = np.expand_dims(pred, 0)\n",
    "    truncated_differences += [cdist(antigen, pred, metric='hamming').squeeze()]"
   ]
  },
  {
   "cell_type": "code",
   "execution_count": 8,
   "metadata": {},
   "outputs": [],
   "source": [
    "# truncated predictions and Hamming distance scores of truncated predictions\n",
    "# to data frame\n",
    "data['truncated_prediction'] = truncated_predictions\n",
    "data['truncated_difference'] = truncated_differences"
   ]
  },
  {
   "cell_type": "code",
   "execution_count": 9,
   "metadata": {},
   "outputs": [],
   "source": [
    "# find all sequences that were perfectly predicted\n",
    "perf_preds = data[data['truncated_difference'] == 0]['truncated_prediction']"
   ]
  },
  {
   "cell_type": "code",
   "execution_count": 10,
   "metadata": {},
   "outputs": [
    {
     "name": "stdout",
     "output_type": "stream",
     "text": [
      "Number of total sequences with predictions: 3936\n",
      "Number of perfect predictions (after truncation): 761\n"
     ]
    }
   ],
   "source": [
    "print('Number of total sequences with predictions: {}'.format(data.shape[0]))\n",
    "print('Number of perfect predictions (after truncation): {}'.format(len(perf_preds)))"
   ]
  },
  {
   "cell_type": "code",
   "execution_count": 12,
   "metadata": {},
   "outputs": [],
   "source": [
    "# how many of the unique sequences are there in those that were \n",
    "# perfectly predicted?\n",
    "unique_perf_preds = [list(y) for y in set(tuple(x) for x in perf_preds)]"
   ]
  },
  {
   "cell_type": "code",
   "execution_count": 13,
   "metadata": {},
   "outputs": [
    {
     "name": "stdout",
     "output_type": "stream",
     "text": [
      "Among perfect predictions, number of unique sequences: 39\n"
     ]
    }
   ],
   "source": [
    "print('Among perfect predictions, number of unique sequences: {}'.format(len(unique_perf_preds)))"
   ]
  },
  {
   "cell_type": "code",
   "execution_count": 14,
   "metadata": {},
   "outputs": [],
   "source": [
    "# how many times does each of the N unique sequences get generated?\n",
    "unique_pred_counts = []\n",
    "for pred in unique_perf_preds:\n",
    "    pred_match = [list(x) == pred for x in perf_preds]\n",
    "    unique_pred_counts += [sum(pred_match)]"
   ]
  },
  {
   "cell_type": "code",
   "execution_count": 15,
   "metadata": {},
   "outputs": [
    {
     "name": "stdout",
     "output_type": "stream",
     "text": [
      "[2, 3, 1, 1, 1, 14, 46, 4, 3, 1, 4, 1, 2, 3, 3, 2, 300, 1, 1, 1, 4, 2, 49, 3, 6, 4, 1, 3, 2, 3, 17, 1, 1, 1, 1, 4, 248, 10, 7]\n"
     ]
    },
    {
     "data": {
      "text/plain": [
       "(array([35.,  2.,  0.,  0.,  0.,  0.,  0.,  0.,  1.,  1.]),\n",
       " array([  1. ,  30.9,  60.8,  90.7, 120.6, 150.5, 180.4, 210.3, 240.2,\n",
       "        270.1, 300. ]),\n",
       " <BarContainer object of 10 artists>)"
      ]
     },
     "execution_count": 15,
     "metadata": {},
     "output_type": "execute_result"
    },
    {
     "data": {
      "image/png": "[encoded data removed]",
      "text/plain": [
       "<Figure size 432x288 with 1 Axes>"
      ]
     },
     "metadata": {
      "needs_background": "light"
     },
     "output_type": "display_data"
    }
   ],
   "source": [
    "print(unique_pred_counts)\n",
    "plt.hist(unique_pred_counts)"
   ]
  },
  {
   "cell_type": "markdown",
   "metadata": {},
   "source": [
    "### Compare Training Data to Validation Data"
   ]
  },
  {
   "cell_type": "code",
   "execution_count": 16,
   "metadata": {},
   "outputs": [],
   "source": [
    "# relevant data files\n",
    "data_dir = '/group/ag_cmb/scratch/jqin/projects/tape/data/tcr/'\n",
    "cdr3_train_file = data_dir + '/cdr3_train.fasta'\n",
    "antigen_train_file = data_dir + '/antigen_train.fasta'\n",
    "cdr3_valid_file = data_dir + '/cdr3_valid.fasta'\n",
    "antigen_valid_file = data_dir + '/antigen_valid.fasta'\n",
    "\n",
    "# set up tokenizer\n",
    "tokenizer = TAPETokenizer(vocab='iupac')\n",
    "\n",
    "# load relevant data\n",
    "antigen_train_data_uncleaned = FastaDataset(antigen_train_file, in_memory=True)"
   ]
  },
  {
   "cell_type": "code",
   "execution_count": 17,
   "metadata": {},
   "outputs": [],
   "source": [
    "# organize data\n",
    "antigen_train_data = [list(tokenizer.encode(x['primary'])) for x in antigen_train_data_uncleaned]"
   ]
  },
  {
   "cell_type": "code",
   "execution_count": 18,
   "metadata": {},
   "outputs": [],
   "source": [
    "# find number of times each unique perfect (truncated) prediction \n",
    "# can be found in training data\n",
    "unique_pred_counts_in_train = []\n",
    "for pred in unique_perf_preds:\n",
    "    pred_match = [list(x) == pred for x in antigen_train_data]\n",
    "    unique_pred_counts_in_train += [sum(pred_match)]"
   ]
  },
  {
   "cell_type": "code",
   "execution_count": 19,
   "metadata": {},
   "outputs": [
    {
     "data": {
      "text/plain": [
       "<matplotlib.collections.PathCollection at 0x7f1b44efec70>"
      ]
     },
     "execution_count": 19,
     "metadata": {},
     "output_type": "execute_result"
    },
    {
     "data": {
      "image/png": "[encoded data removed]",
      "text/plain": [
       "<Figure size 432x288 with 1 Axes>"
      ]
     },
     "metadata": {
      "needs_background": "light"
     },
     "output_type": "display_data"
    }
   ],
   "source": [
    "plt.scatter(np.log(unique_pred_counts_in_train), np.log(unique_pred_counts))"
   ]
  },
  {
   "cell_type": "code",
   "execution_count": 20,
   "metadata": {},
   "outputs": [],
   "source": [
    "# what is correlation between Hamming distance and number of same\n",
    "# antigens seen in training data?\n",
    "all_pred_counts_in_train = []\n",
    "for pred in truncated_predictions:\n",
    "    pred_match = [list(x) == list(pred) for x in antigen_train_data]\n",
    "    all_pred_counts_in_train += [sum(pred_match)]"
   ]
  },
  {
   "cell_type": "code",
   "execution_count": 21,
   "metadata": {},
   "outputs": [
    {
     "data": {
      "text/plain": [
       "<matplotlib.collections.PathCollection at 0x7f1b44edd2b0>"
      ]
     },
     "execution_count": 21,
     "metadata": {},
     "output_type": "execute_result"
    },
    {
     "data": {
      "image/png": "[encoded data removed]",
      "text/plain": [
       "<Figure size 432x288 with 1 Axes>"
      ]
     },
     "metadata": {
      "needs_background": "light"
     },
     "output_type": "display_data"
    }
   ],
   "source": [
    "plt.scatter(np.log(np.array(all_pred_counts_in_train)+1), np.log(np.array(truncated_differences)+1))"
   ]
  },
  {
   "cell_type": "markdown",
   "metadata": {},
   "source": [
    "### Analyze Beam Search"
   ]
  },
  {
   "cell_type": "markdown",
   "metadata": {},
   "source": [
    "How highly scored are the most accurate predictions?"
   ]
  },
  {
   "cell_type": "code",
   "execution_count": 24,
   "metadata": {},
   "outputs": [],
   "source": [
    "generation_results_file = results_data_dir + 'generate_full_results_3_220421_043126.pkl'\n",
    "generation_results = pkl.load(open(generation_results_file, 'rb'))"
   ]
  },
  {
   "cell_type": "code",
   "execution_count": 25,
   "metadata": {},
   "outputs": [
    {
     "data": {
      "text/plain": [
       "dict_keys(['scores', 'inputs', 'targets', 'all_outputs', 'all_output_probs', 'best_outputs'])"
      ]
     },
     "execution_count": 25,
     "metadata": {},
     "output_type": "execute_result"
    }
   ],
   "source": [
    "generation_results.keys()"
   ]
  },
  {
   "cell_type": "code",
   "execution_count": 26,
   "metadata": {},
   "outputs": [],
   "source": [
    "antigen_targets = generation_results['targets']\n",
    "antigen_predictions = generation_results['all_outputs']\n",
    "antigen_prediction_scores = generation_results['all_output_probs']\n",
    "\n",
    "pred_len = len(antigen_predictions[0][0])"
   ]
  },
  {
   "cell_type": "code",
   "execution_count": 35,
   "metadata": {},
   "outputs": [
    {
     "name": "stderr",
     "output_type": "stream",
     "text": [
      "/group/ag_cmb/scratch/jqin/miniconda3/envs/tape/lib/python3.8/site-packages/seaborn/_decorators.py:36: FutureWarning: Pass the following variable as a keyword arg: x. From version 0.12, the only valid positional argument will be `data`, and passing other arguments without an explicit keyword will result in an error or misinterpretation.\n",
      "  warnings.warn(\n"
     ]
    },
    {
     "data": {
      "text/plain": [
       "<AxesSubplot:>"
      ]
     },
     "execution_count": 35,
     "metadata": {},
     "output_type": "execute_result"
    },
    {
     "data": {
      "image/png": "[encoded data removed]",
      "text/plain": [
       "<Figure size 432x288 with 1 Axes>"
      ]
     },
     "metadata": {
      "needs_background": "light"
     },
     "output_type": "display_data"
    }
   ],
   "source": [
    "sns.violinplot(np.array(antigen_prediction_scores[3].cpu()))"
   ]
  },
  {
   "cell_type": "code",
   "execution_count": 39,
   "metadata": {},
   "outputs": [],
   "source": [
    "antigen_pred_dists = []\n",
    "\n",
    "for target, antigen_preds in zip(antigen_targets, antigen_predictions):\n",
    "    target = target.cpu().type(torch.FloatTensor)\n",
    "    target_len = target.shape[1]\n",
    "    target = torch.nn.functional.pad(target, (0, pred_len-target_len))\n",
    "    # dists = cdist(target, antigen_preds.cpu(), metric='hamming')\n",
    "    antigen_preds = antigen_preds.cpu().type(torch.FloatTensor)\n",
    "    dists = torch.cdist(target, antigen_preds, p=0).squeeze()\n",
    "    antigen_pred_dists += [dists]"
   ]
  },
  {
   "cell_type": "code",
   "execution_count": 51,
   "metadata": {},
   "outputs": [
    {
     "name": "stderr",
     "output_type": "stream",
     "text": [
      "/group/ag_cmb/scratch/jqin/miniconda3/envs/tape/lib/python3.8/site-packages/seaborn/_decorators.py:36: FutureWarning: Pass the following variables as keyword args: x, y. From version 0.12, the only valid positional argument will be `data`, and passing other arguments without an explicit keyword will result in an error or misinterpretation.\n",
      "  warnings.warn(\n"
     ]
    },
    {
     "data": {
      "text/plain": [
       "<AxesSubplot:>"
      ]
     },
     "execution_count": 51,
     "metadata": {},
     "output_type": "execute_result"
    },
    {
     "data": {
      "image/png": "[encoded data removed]",
      "text/plain": [
       "<Figure size 432x288 with 1 Axes>"
      ]
     },
     "metadata": {
      "needs_background": "light"
     },
     "output_type": "display_data"
    }
   ],
   "source": [
    "i = 4\n",
    "sns.scatterplot(antigen_pred_dists[i], np.array(antigen_prediction_scores[i].cpu()))"
   ]
  },
  {
   "cell_type": "code",
   "execution_count": 56,
   "metadata": {},
   "outputs": [],
   "source": [
    "score_dist_corr = []\n",
    "\n",
    "for pred_dists, pred_scores in zip(antigen_pred_dists, antigen_prediction_scores):\n",
    "    corr = np.corrcoef(pred_dists, np.array(pred_scores.cpu()))\n",
    "    score_dist_corr += [corr[0, 1]]"
   ]
  },
  {
   "cell_type": "code",
   "execution_count": 59,
   "metadata": {},
   "outputs": [
    {
     "name": "stderr",
     "output_type": "stream",
     "text": [
      "/group/ag_cmb/scratch/jqin/miniconda3/envs/tape/lib/python3.8/site-packages/seaborn/_decorators.py:36: FutureWarning: Pass the following variable as a keyword arg: x. From version 0.12, the only valid positional argument will be `data`, and passing other arguments without an explicit keyword will result in an error or misinterpretation.\n",
      "  warnings.warn(\n"
     ]
    },
    {
     "data": {
      "text/plain": [
       "<AxesSubplot:>"
      ]
     },
     "execution_count": 59,
     "metadata": {},
     "output_type": "execute_result"
    },
    {
     "data": {
      "image/png": "[encoded data removed]",
      "text/plain": [
       "<Figure size 432x288 with 1 Axes>"
      ]
     },
     "metadata": {
      "needs_background": "light"
     },
     "output_type": "display_data"
    }
   ],
   "source": [
    "sns.violinplot(score_dist_corr)"
   ]
  },
  {
   "cell_type": "code",
   "execution_count": null,
   "metadata": {},
   "outputs": [],
   "source": [
    "sns.scatterplot(antigen_pred_dists[i], )"
   ]
  },
  {
   "cell_type": "code",
   "execution_count": 46,
   "metadata": {},
   "outputs": [
    {
     "data": {
      "text/plain": [
       "DescribeResult(nobs=3936, minmax=(2.0, 18.0), mean=12.766514, variance=7.3220906, skewness=-0.9243189692497253, kurtosis=0.9219455424074217)"
      ]
     },
     "execution_count": 46,
     "metadata": {},
     "output_type": "execute_result"
    }
   ],
   "source": [
    "scipy.stats.describe(min_dists)"
   ]
  },
  {
   "cell_type": "code",
   "execution_count": 42,
   "metadata": {},
   "outputs": [
    {
     "data": {
      "text/plain": [
       "tensor([ 2., 17., 15., 22.,  5., 19., 25., 13., 23., 19., 16.,  9., 25.,  9.,\n",
       "        15.,  5., 17., 21., 23.,  3.], device='cuda:0')"
      ]
     },
     "execution_count": 42,
     "metadata": {},
     "output_type": "execute_result"
    }
   ],
   "source": [
    "generation_results['best_outputs'][0]"
   ]
  },
  {
   "cell_type": "code",
   "execution_count": 22,
   "metadata": {},
   "outputs": [
    {
     "data": {
      "text/html": [
       "<div>\n",
       "<style scoped>\n",
       "    .dataframe tbody tr th:only-of-type {\n",
       "        vertical-align: middle;\n",
       "    }\n",
       "\n",
       "    .dataframe tbody tr th {\n",
       "        vertical-align: top;\n",
       "    }\n",
       "\n",
       "    .dataframe thead th {\n",
       "        text-align: right;\n",
       "    }\n",
       "</style>\n",
       "<table border=\"1\" class=\"dataframe\">\n",
       "  <thead>\n",
       "    <tr style=\"text-align: right;\">\n",
       "      <th></th>\n",
       "      <th>score</th>\n",
       "      <th>TCR</th>\n",
       "      <th>antigen</th>\n",
       "      <th>prediction</th>\n",
       "      <th>truncated_prediction</th>\n",
       "      <th>truncated_difference</th>\n",
       "    </tr>\n",
       "  </thead>\n",
       "  <tbody>\n",
       "    <tr>\n",
       "      <th>0</th>\n",
       "      <td>15.0</td>\n",
       "      <td>[2, 7, 5, 23, 22, 11, 21, 19, 11, 22, 22, 28, ...</td>\n",
       "      <td>[2, 17, 15, 25, 19, 16, 25, 5, 23, 25, 3]</td>\n",
       "      <td>[2, 17, 15, 22, 5, 19, 25, 13, 23, 19, 3, 9, 2...</td>\n",
       "      <td>[2, 17, 15, 22, 5, 19, 25, 13, 23, 19, 3]</td>\n",
       "      <td>0.45454545454545453</td>\n",
       "    </tr>\n",
       "    <tr>\n",
       "      <th>1</th>\n",
       "      <td>10.0</td>\n",
       "      <td>[2, 7, 5, 22, 22, 15, 11, 10, 23, 8, 23, 20, 2...</td>\n",
       "      <td>[2, 11, 13, 15, 11, 10, 25, 10, 23, 15, 3]</td>\n",
       "      <td>[2, 11, 13, 15, 11, 10, 25, 10, 23, 15, 3, 11,...</td>\n",
       "      <td>[2, 11, 13, 15, 11, 10, 25, 10, 23, 15, 3]</td>\n",
       "      <td>0.0</td>\n",
       "    </tr>\n",
       "    <tr>\n",
       "      <th>2</th>\n",
       "      <td>10.0</td>\n",
       "      <td>[2, 7, 5, 28, 11, 23, 17, 5, 11, 11, 23, 22, 2...</td>\n",
       "      <td>[2, 11, 13, 15, 11, 10, 25, 10, 23, 15, 3]</td>\n",
       "      <td>[2, 11, 13, 15, 11, 10, 25, 10, 23, 15, 3, 23,...</td>\n",
       "      <td>[2, 11, 13, 15, 11, 10, 25, 10, 23, 15, 3]</td>\n",
       "      <td>0.0</td>\n",
       "    </tr>\n",
       "    <tr>\n",
       "      <th>3</th>\n",
       "      <td>10.0</td>\n",
       "      <td>[2, 7, 5, 22, 22, 13, 21, 22, 23, 28, 9, 20, 2...</td>\n",
       "      <td>[2, 11, 13, 15, 11, 10, 25, 10, 23, 15, 3]</td>\n",
       "      <td>[2, 11, 13, 15, 11, 10, 25, 10, 23, 15, 3, 23,...</td>\n",
       "      <td>[2, 11, 13, 15, 11, 10, 25, 10, 23, 15, 3]</td>\n",
       "      <td>0.0</td>\n",
       "    </tr>\n",
       "    <tr>\n",
       "      <th>4</th>\n",
       "      <td>10.0</td>\n",
       "      <td>[2, 7, 22, 5, 21, 8, 15, 5, 11, 17, 9, 20, 10,...</td>\n",
       "      <td>[2, 14, 15, 11, 11, 5, 15, 20, 5, 14, 3]</td>\n",
       "      <td>[2, 14, 15, 11, 11, 5, 15, 20, 5, 14, 3, 26, 2...</td>\n",
       "      <td>[2, 14, 15, 11, 11, 5, 15, 20, 5, 14, 3]</td>\n",
       "      <td>0.0</td>\n",
       "    </tr>\n",
       "    <tr>\n",
       "      <th>...</th>\n",
       "      <td>...</td>\n",
       "      <td>...</td>\n",
       "      <td>...</td>\n",
       "      <td>...</td>\n",
       "      <td>...</td>\n",
       "      <td>...</td>\n",
       "    </tr>\n",
       "    <tr>\n",
       "      <th>3931</th>\n",
       "      <td>9.0</td>\n",
       "      <td>[2, 7, 5, 28, 21, 23, 22, 5, 22, 17, 23, 8, 14...</td>\n",
       "      <td>[2, 5, 25, 10, 8, 21, 14, 22, 8, 5, 14, 3]</td>\n",
       "      <td>[2, 5, 25, 10, 8, 21, 14, 22, 8, 5, 14, 3, 21,...</td>\n",
       "      <td>[2, 5, 25, 10, 8, 21, 14, 22, 8, 5, 14, 3]</td>\n",
       "      <td>0.0</td>\n",
       "    </tr>\n",
       "    <tr>\n",
       "      <th>3932</th>\n",
       "      <td>15.0</td>\n",
       "      <td>[2, 7, 15, 25, 11, 9, 5, 16, 17, 22, 17, 22, 1...</td>\n",
       "      <td>[2, 5, 25, 10, 8, 21, 14, 22, 8, 5, 14, 3]</td>\n",
       "      <td>[2, 11, 16, 10, 8, 16, 15, 22, 20, 5, 15, 3, 2...</td>\n",
       "      <td>[2, 11, 16, 10, 8, 16, 15, 22, 20, 5, 15, 3]</td>\n",
       "      <td>0.5</td>\n",
       "    </tr>\n",
       "    <tr>\n",
       "      <th>3933</th>\n",
       "      <td>15.0</td>\n",
       "      <td>[2, 7, 5, 22, 22, 21, 8, 26, 11, 8, 28, 9, 20,...</td>\n",
       "      <td>[2, 21, 5, 15, 9, 28, 14, 17, 15, 3]</td>\n",
       "      <td>[2, 21, 5, 19, 10, 14, 20, 17, 15, 3, 20, 15, ...</td>\n",
       "      <td>[2, 21, 5, 19, 10, 14, 20, 17, 15, 3]</td>\n",
       "      <td>0.4</td>\n",
       "    </tr>\n",
       "    <tr>\n",
       "      <th>3934</th>\n",
       "      <td>12.0</td>\n",
       "      <td>[2, 7, 5, 22, 22, 28, 26, 19, 8, 28, 11, 28, 2...</td>\n",
       "      <td>[2, 14, 15, 11, 11, 5, 15, 20, 5, 14, 3]</td>\n",
       "      <td>[2, 14, 15, 11, 11, 5, 15, 20, 21, 5, 3, 5, 26...</td>\n",
       "      <td>[2, 14, 15, 11, 11, 5, 15, 20, 21, 5, 3]</td>\n",
       "      <td>0.18181818181818182</td>\n",
       "    </tr>\n",
       "    <tr>\n",
       "      <th>3935</th>\n",
       "      <td>13.0</td>\n",
       "      <td>[2, 7, 5, 11, 22, 15, 22, 21, 11, 22, 17, 20, ...</td>\n",
       "      <td>[2, 22, 23, 19, 9, 22, 5, 17, 15, 3]</td>\n",
       "      <td>[2, 22, 23, 19, 22, 22, 5, 17, 9, 3, 16, 9, 17...</td>\n",
       "      <td>[2, 22, 23, 19, 22, 22, 5, 17, 9, 3]</td>\n",
       "      <td>0.2</td>\n",
       "    </tr>\n",
       "  </tbody>\n",
       "</table>\n",
       "<p>3936 rows × 6 columns</p>\n",
       "</div>"
      ],
      "text/plain": [
       "      score                                                TCR  \\\n",
       "0      15.0  [2, 7, 5, 23, 22, 11, 21, 19, 11, 22, 22, 28, ...   \n",
       "1      10.0  [2, 7, 5, 22, 22, 15, 11, 10, 23, 8, 23, 20, 2...   \n",
       "2      10.0  [2, 7, 5, 28, 11, 23, 17, 5, 11, 11, 23, 22, 2...   \n",
       "3      10.0  [2, 7, 5, 22, 22, 13, 21, 22, 23, 28, 9, 20, 2...   \n",
       "4      10.0  [2, 7, 22, 5, 21, 8, 15, 5, 11, 17, 9, 20, 10,...   \n",
       "...     ...                                                ...   \n",
       "3931    9.0  [2, 7, 5, 28, 21, 23, 22, 5, 22, 17, 23, 8, 14...   \n",
       "3932   15.0  [2, 7, 15, 25, 11, 9, 5, 16, 17, 22, 17, 22, 1...   \n",
       "3933   15.0  [2, 7, 5, 22, 22, 21, 8, 26, 11, 8, 28, 9, 20,...   \n",
       "3934   12.0  [2, 7, 5, 22, 22, 28, 26, 19, 8, 28, 11, 28, 2...   \n",
       "3935   13.0  [2, 7, 5, 11, 22, 15, 22, 21, 11, 22, 17, 20, ...   \n",
       "\n",
       "                                         antigen  \\\n",
       "0      [2, 17, 15, 25, 19, 16, 25, 5, 23, 25, 3]   \n",
       "1     [2, 11, 13, 15, 11, 10, 25, 10, 23, 15, 3]   \n",
       "2     [2, 11, 13, 15, 11, 10, 25, 10, 23, 15, 3]   \n",
       "3     [2, 11, 13, 15, 11, 10, 25, 10, 23, 15, 3]   \n",
       "4       [2, 14, 15, 11, 11, 5, 15, 20, 5, 14, 3]   \n",
       "...                                          ...   \n",
       "3931  [2, 5, 25, 10, 8, 21, 14, 22, 8, 5, 14, 3]   \n",
       "3932  [2, 5, 25, 10, 8, 21, 14, 22, 8, 5, 14, 3]   \n",
       "3933        [2, 21, 5, 15, 9, 28, 14, 17, 15, 3]   \n",
       "3934    [2, 14, 15, 11, 11, 5, 15, 20, 5, 14, 3]   \n",
       "3935        [2, 22, 23, 19, 9, 22, 5, 17, 15, 3]   \n",
       "\n",
       "                                             prediction  \\\n",
       "0     [2, 17, 15, 22, 5, 19, 25, 13, 23, 19, 3, 9, 2...   \n",
       "1     [2, 11, 13, 15, 11, 10, 25, 10, 23, 15, 3, 11,...   \n",
       "2     [2, 11, 13, 15, 11, 10, 25, 10, 23, 15, 3, 23,...   \n",
       "3     [2, 11, 13, 15, 11, 10, 25, 10, 23, 15, 3, 23,...   \n",
       "4     [2, 14, 15, 11, 11, 5, 15, 20, 5, 14, 3, 26, 2...   \n",
       "...                                                 ...   \n",
       "3931  [2, 5, 25, 10, 8, 21, 14, 22, 8, 5, 14, 3, 21,...   \n",
       "3932  [2, 11, 16, 10, 8, 16, 15, 22, 20, 5, 15, 3, 2...   \n",
       "3933  [2, 21, 5, 19, 10, 14, 20, 17, 15, 3, 20, 15, ...   \n",
       "3934  [2, 14, 15, 11, 11, 5, 15, 20, 21, 5, 3, 5, 26...   \n",
       "3935  [2, 22, 23, 19, 22, 22, 5, 17, 9, 3, 16, 9, 17...   \n",
       "\n",
       "                              truncated_prediction truncated_difference  \n",
       "0        [2, 17, 15, 22, 5, 19, 25, 13, 23, 19, 3]  0.45454545454545453  \n",
       "1       [2, 11, 13, 15, 11, 10, 25, 10, 23, 15, 3]                  0.0  \n",
       "2       [2, 11, 13, 15, 11, 10, 25, 10, 23, 15, 3]                  0.0  \n",
       "3       [2, 11, 13, 15, 11, 10, 25, 10, 23, 15, 3]                  0.0  \n",
       "4         [2, 14, 15, 11, 11, 5, 15, 20, 5, 14, 3]                  0.0  \n",
       "...                                            ...                  ...  \n",
       "3931    [2, 5, 25, 10, 8, 21, 14, 22, 8, 5, 14, 3]                  0.0  \n",
       "3932  [2, 11, 16, 10, 8, 16, 15, 22, 20, 5, 15, 3]                  0.5  \n",
       "3933         [2, 21, 5, 19, 10, 14, 20, 17, 15, 3]                  0.4  \n",
       "3934      [2, 14, 15, 11, 11, 5, 15, 20, 21, 5, 3]  0.18181818181818182  \n",
       "3935          [2, 22, 23, 19, 22, 22, 5, 17, 9, 3]                  0.2  \n",
       "\n",
       "[3936 rows x 6 columns]"
      ]
     },
     "execution_count": 22,
     "metadata": {},
     "output_type": "execute_result"
    }
   ],
   "source": [
    "data"
   ]
  }
 ],
 "metadata": {
  "kernelspec": {
   "display_name": "Python 3",
   "language": "python",
   "name": "python3"
  },
  "language_info": {
   "codemirror_mode": {
    "name": "ipython",
    "version": 3
   },
   "file_extension": ".py",
   "mimetype": "text/x-python",
   "name": "python",
   "nbconvert_exporter": "python",
   "pygments_lexer": "ipython3",
   "version": "3.8.5"
  }
 },
 "nbformat": 4,
 "nbformat_minor": 4
}
