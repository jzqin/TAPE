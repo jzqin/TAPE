{
 "cells": [
  {
   "cell_type": "code",
   "execution_count": null,
   "metadata": {},
   "outputs": [],
   "source": [
    "# Jason Qin\n",
    "# 04/20/21"
   ]
  },
  {
   "cell_type": "markdown",
   "metadata": {},
   "source": [
    "# Analyzing Generated Data"
   ]
  },
  {
   "cell_type": "code",
   "execution_count": 2,
   "metadata": {},
   "outputs": [],
   "source": [
    "import numpy as np\n",
    "import pandas\n",
    "import matplotlib.pyplot as plt\n",
    "\n",
    "from scipy.spatial.distance import cdist, hamming\n",
    "import scipy.stats\n",
    "\n",
    "from tape.datasets import FastaDataset, pad_sequences\n",
    "from tape.tokenizers import TAPETokenizer"
   ]
  },
  {
   "cell_type": "markdown",
   "metadata": {},
   "source": [
    "### Finding Perfect Predictions in Generated Data"
   ]
  },
  {
   "cell_type": "code",
   "execution_count": 6,
   "metadata": {},
   "outputs": [],
   "source": [
    "data_file = '/group/ag_cmb/scratch/jqin/projects/tape/results/tcr_transformer_21-04-08-22-42-38_231772/generate_results_3_220421_043126.txt'\n",
    "data = pandas.read_csv(data_file, sep='\\t')"
   ]
  },
  {
   "cell_type": "code",
   "execution_count": 7,
   "metadata": {},
   "outputs": [
    {
     "name": "stderr",
     "output_type": "stream",
     "text": [
      "<ipython-input-7-48522cd36268>:5: FutureWarning: The default value of regex will change from True to False in a future version.\n",
      "  data[col] = data[col].str.replace(r'.*\\[', '')\n",
      "<ipython-input-7-48522cd36268>:6: FutureWarning: The default value of regex will change from True to False in a future version.\n",
      "  data[col] = data[col].str.replace(r'\\].*', '')\n"
     ]
    }
   ],
   "source": [
    "# clean and organize data\n",
    "column_names = ['TCR', 'antigen', 'prediction']\n",
    "for col in column_names:\n",
    "    # remove all non-numeric parts of data\n",
    "    data[col] = data[col].str.replace(r'.*\\[', '')\n",
    "    data[col] = data[col].str.replace(r'\\].*', '')\n",
    "    data[col] = data[col].str.replace(r'        ', ',')\n",
    "    data[col] = data[col].str.strip()\n",
    "    \n",
    "    # convert comma-separated string of ints to list of ints\n",
    "    data[col] = [np.array([int(float(y.strip('.'))) for y in x]) for x in data[col].str.split(',')]"
   ]
  },
  {
   "cell_type": "code",
   "execution_count": 8,
   "metadata": {},
   "outputs": [],
   "source": [
    "antigens = data['antigen']\n",
    "predictions = data['prediction']"
   ]
  },
  {
   "cell_type": "code",
   "execution_count": 9,
   "metadata": {},
   "outputs": [],
   "source": [
    "# reduce length of predictions to be closest to each antigen\n",
    "# this lets us find the closest match between the targets and the\n",
    "# generated predictions\n",
    "truncated_predictions = []\n",
    "for antigen, pred in zip(antigens, predictions):\n",
    "    stop_idx = np.where(antigen == 3)[0][0]\n",
    "    if antigen.shape[0] < pred.shape[0]:\n",
    "        pred[stop_idx] = 3\n",
    "        pred = pred[0:(stop_idx+1)]\n",
    "    truncated_predictions += [pred]"
   ]
  },
  {
   "cell_type": "code",
   "execution_count": 10,
   "metadata": {},
   "outputs": [],
   "source": [
    "# compare truncated predictions to the known targets\n",
    "truncated_differences = []\n",
    "for antigen, pred in zip(antigens, truncated_predictions):\n",
    "    antigen = np.expand_dims(antigen, 0)\n",
    "    pred = np.expand_dims(pred, 0)\n",
    "    truncated_differences += [cdist(antigen, pred, metric='hamming').squeeze()]"
   ]
  },
  {
   "cell_type": "code",
   "execution_count": 11,
   "metadata": {},
   "outputs": [],
   "source": [
    "# truncated predictions and Hamming distance scores of truncated predictions\n",
    "# to data frame\n",
    "data['truncated_prediction'] = truncated_predictions\n",
    "data['truncated_difference'] = truncated_differences"
   ]
  },
  {
   "cell_type": "code",
   "execution_count": 12,
   "metadata": {},
   "outputs": [],
   "source": [
    "# find all sequences that were perfectly predicted\n",
    "perf_preds = data[data['truncated_difference'] == 0]['truncated_prediction']"
   ]
  },
  {
   "cell_type": "code",
   "execution_count": 13,
   "metadata": {},
   "outputs": [
    {
     "name": "stdout",
     "output_type": "stream",
     "text": [
      "Number of total sequences with predictions: 3936\n",
      "Number of perfect predictions (after truncation): 761\n"
     ]
    }
   ],
   "source": [
    "print('Number of total sequences with predictions: {}'.format(data.shape[0]))\n",
    "print('Number of perfect predictions (after truncation): {}'.format(len(perf_preds)))"
   ]
  },
  {
   "cell_type": "code",
   "execution_count": 14,
   "metadata": {},
   "outputs": [],
   "source": [
    "# how many of the unique sequences are there in those that were \n",
    "# perfectly predicted?\n",
    "unique_perf_preds = [list(y) for y in set(tuple(x) for x in perf_preds)]"
   ]
  },
  {
   "cell_type": "code",
   "execution_count": 15,
   "metadata": {},
   "outputs": [
    {
     "name": "stdout",
     "output_type": "stream",
     "text": [
      "Among perfect predictions, number of unique sequences: 39\n"
     ]
    }
   ],
   "source": [
    "print('Among perfect predictions, number of unique sequences: {}'.format(len(unique_perf_preds)))"
   ]
  },
  {
   "cell_type": "code",
   "execution_count": 16,
   "metadata": {},
   "outputs": [],
   "source": [
    "# how many times does each of the N unique sequences get generated?\n",
    "unique_pred_counts = []\n",
    "for pred in unique_perf_preds:\n",
    "    pred_match = [list(x) == pred for x in perf_preds]\n",
    "    unique_pred_counts += [sum(pred_match)]"
   ]
  },
  {
   "cell_type": "code",
   "execution_count": 18,
   "metadata": {},
   "outputs": [
    {
     "name": "stdout",
     "output_type": "stream",
     "text": [
      "[2, 3, 1, 1, 1, 14, 46, 4, 3, 1, 4, 1, 2, 3, 3, 2, 300, 1, 1, 1, 4, 2, 49, 3, 6, 4, 1, 3, 2, 3, 17, 1, 1, 1, 1, 4, 248, 10, 7]\n"
     ]
    },
    {
     "data": {
      "text/plain": [
       "(array([35.,  2.,  0.,  0.,  0.,  0.,  0.,  0.,  1.,  1.]),\n",
       " array([  1. ,  30.9,  60.8,  90.7, 120.6, 150.5, 180.4, 210.3, 240.2,\n",
       "        270.1, 300. ]),\n",
       " <BarContainer object of 10 artists>)"
      ]
     },
     "execution_count": 18,
     "metadata": {},
     "output_type": "execute_result"
    },
    {
     "data": {
      "image/png": "[encoded data removed]",
      "text/plain": [
       "<Figure size 432x288 with 1 Axes>"
      ]
     },
     "metadata": {
      "needs_background": "light"
     },
     "output_type": "display_data"
    }
   ],
   "source": [
    "print(unique_pred_counts)\n",
    "plt.hist(unique_pred_counts)"
   ]
  },
  {
   "cell_type": "markdown",
   "metadata": {},
   "source": [
    "### Compare Training Data to Validation Data"
   ]
  },
  {
   "cell_type": "code",
   "execution_count": 19,
   "metadata": {},
   "outputs": [],
   "source": [
    "# relevant data files\n",
    "data_dir = '/group/ag_cmb/scratch/jqin/projects/tape/data/tcr'\n",
    "cdr3_train_file = data_dir + '/cdr3_train.fasta'\n",
    "antigen_train_file = data_dir + '/antigen_train.fasta'\n",
    "cdr3_valid_file = data_dir + '/cdr3_valid.fasta'\n",
    "antigen_valid_file = data_dir + '/antigen_valid.fasta'\n",
    "\n",
    "# set up tokenizer\n",
    "tokenizer = TAPETokenizer(vocab='iupac')\n",
    "\n",
    "# load relevant data\n",
    "antigen_train_data_uncleaned = FastaDataset(antigen_train_file, in_memory=True)"
   ]
  },
  {
   "cell_type": "code",
   "execution_count": 20,
   "metadata": {},
   "outputs": [],
   "source": [
    "# organize data\n",
    "antigen_train_data = [list(tokenizer.encode(x['primary'])) for x in antigen_train_data_uncleaned]"
   ]
  },
  {
   "cell_type": "code",
   "execution_count": 21,
   "metadata": {},
   "outputs": [],
   "source": [
    "# find number of times each unique perfect (truncated) prediction \n",
    "# can be found in training data\n",
    "unique_pred_counts_in_train = []\n",
    "for pred in unique_perf_preds:\n",
    "    pred_match = [list(x) == pred for x in antigen_train_data]\n",
    "    unique_pred_counts_in_train += [sum(pred_match)]"
   ]
  },
  {
   "cell_type": "code",
   "execution_count": 22,
   "metadata": {},
   "outputs": [
    {
     "data": {
      "text/plain": [
       "<matplotlib.collections.PathCollection at 0x7f27369f2310>"
      ]
     },
     "execution_count": 22,
     "metadata": {},
     "output_type": "execute_result"
    },
    {
     "data": {
      "image/png": "[encoded data removed]",
      "text/plain": [
       "<Figure size 432x288 with 1 Axes>"
      ]
     },
     "metadata": {
      "needs_background": "light"
     },
     "output_type": "display_data"
    }
   ],
   "source": [
    "plt.scatter(np.log(unique_pred_counts_in_train), np.log(unique_pred_counts))"
   ]
  },
  {
   "cell_type": "code",
   "execution_count": 23,
   "metadata": {},
   "outputs": [],
   "source": [
    "# what is correlation between Hamming distance and number of same\n",
    "# antigens seen in training data?\n",
    "all_pred_counts_in_train = []\n",
    "for pred in truncated_predictions:\n",
    "    pred_match = [list(x) == list(pred) for x in antigen_train_data]\n",
    "    all_pred_counts_in_train += [sum(pred_match)]"
   ]
  },
  {
   "cell_type": "code",
   "execution_count": 24,
   "metadata": {},
   "outputs": [
    {
     "data": {
      "text/plain": [
       "<matplotlib.collections.PathCollection at 0x7f27369d65b0>"
      ]
     },
     "execution_count": 24,
     "metadata": {},
     "output_type": "execute_result"
    },
    {
     "data": {
      "image/png": "[encoded data removed]",
      "text/plain": [
       "<Figure size 432x288 with 1 Axes>"
      ]
     },
     "metadata": {
      "needs_background": "light"
     },
     "output_type": "display_data"
    }
   ],
   "source": [
    "plt.scatter(np.log(np.array(all_pred_counts_in_train)+1), np.log(np.array(truncated_differences)+1))"
   ]
  }
 ],
 "metadata": {
  "kernelspec": {
   "display_name": "Python 3",
   "language": "python",
   "name": "python3"
  },
  "language_info": {
   "codemirror_mode": {
    "name": "ipython",
    "version": 3
   },
   "file_extension": ".py",
   "mimetype": "text/x-python",
   "name": "python",
   "nbconvert_exporter": "python",
   "pygments_lexer": "ipython3",
   "version": "3.8.5"
  }
 },
 "nbformat": 4,
 "nbformat_minor": 4
}
