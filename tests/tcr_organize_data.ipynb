{
 "cells": [
  {
   "cell_type": "code",
   "execution_count": null,
   "metadata": {},
   "outputs": [],
   "source": [
    "# Jason Qin\n",
    "# 05/05/21"
   ]
  },
  {
   "cell_type": "markdown",
   "metadata": {},
   "source": [
    "# Organize VDJdb TCR-antigen data\n",
    "\n",
    "Organize data by:\n",
    "1) TCR chain\n",
    "2) Species\n",
    "3) Unique antigens"
   ]
  },
  {
   "cell_type": "code",
   "execution_count": 2,
   "metadata": {},
   "outputs": [],
   "source": [
    "import numpy as np\n",
    "import pandas as pd\n",
    "import seaborn as sns\n",
    "import matplotlib.pyplot as plt\n",
    "\n",
    "from scipy.spatial.distance import cdist, hamming\n",
    "import scipy.stats\n",
    "import sklearn.metrics\n",
    "\n",
    "from tape.datasets import FastaDataset, pad_sequences\n",
    "from tape.tokenizers import TAPETokenizer"
   ]
  },
  {
   "cell_type": "code",
   "execution_count": 16,
   "metadata": {},
   "outputs": [],
   "source": [
    "# relevant data files\n",
    "data_dir = '/group/ag_cmb/scratch/jqin/projects/tape/data/tcr'\n",
    "data_file = data_dir + '/full_data.tsv'\n",
    "data = pd.read_csv(data_file, sep='\\t')"
   ]
  },
  {
   "cell_type": "markdown",
   "metadata": {},
   "source": [
    "### Organize Sequences by Species\n",
    "\n",
    "Find all CDR3 sequences for each species"
   ]
  },
  {
   "cell_type": "code",
   "execution_count": 29,
   "metadata": {},
   "outputs": [],
   "source": [
    "species = ['HomoSapiens', 'MusMusculus', 'MacacaMulatta']\n",
    "species_cdr3_seq = {} # dict mapping species to all CDR3 sequences that come from it\n",
    "for sp in species:\n",
    "    species_cdr3_seq[sp] = set(data[data['Species'] == sp]['CDR3'].tolist())"
   ]
  },
  {
   "cell_type": "code",
   "execution_count": 30,
   "metadata": {},
   "outputs": [],
   "source": [
    "# write the genes to file\n",
    "for sp in species:\n",
    "    with open('{}/{}_cdr3.fasta'.format(data_dir, sp), 'w') as f:\n",
    "        for i, seq in enumerate(species_cdr3_seq[sp]):\n",
    "            f.write('>SEQ_{}\\n'.format(i))\n",
    "            f.write('{}\\n'.format(seq))"
   ]
  },
  {
   "cell_type": "code",
   "execution_count": 32,
   "metadata": {},
   "outputs": [],
   "source": [
    "human_cdr3 = species_cdr3_seq['HomoSapiens']\n",
    "macaque_cdr3 = species_cdr3_seq['MacacaMulatta']\n",
    "mouse_cdr3 = species_cdr3_seq['MusMusculus']"
   ]
  },
  {
   "cell_type": "code",
   "execution_count": 33,
   "metadata": {},
   "outputs": [
    {
     "name": "stdout",
     "output_type": "stream",
     "text": [
      "Human and macaque CDR3 overlap: set()\n",
      "Human and mouse CDR3 overlap: {'CAVSEGNYQLIW', 'CASSEQGYEQYF', 'CASSDAGTGDYEQYF', 'CASSLDRGEQYF', 'CASSLSGYEQYF', 'CASSPGQGYEQYF', 'CAALDSNYQLIW', 'CAVDSNYQLIW', 'CALIGGSNYKLTF', 'CASRQGYEQYF', 'CASSLGDEQYF', 'CAALNSGGSNYKLTF', 'CVVQDSNYQLIW', 'CASSFGREQYF', 'CAVGSNYQLIW', 'CASSESYEQYF', 'CAMRHSNYQLIW', 'CASSLRGAYEQYF', 'CAYSGGSNYKLTF', 'CASRDTYEQYF', 'CAVRPGNTGKLIF', 'CASSYSYEQYF', 'CASSLGGYEQYF', 'CAVSMDSNYQLIW', 'CAASGNYQLIW', 'CAVNSNYQLIW', 'CAASASGGSNYKLTF', 'CAASMDSNYQLIW', 'CASSLSGAYEQYF', 'CAMREGSGGSNYKLTF', 'CAVSLDSNYQLIW', 'CASSEGGPYEQYF', 'CATGSNYQLIW', 'CAVMDSNYQLIW', 'CAVSGGDSNYQLIW', 'CASSSGGEQYF', 'CASSLGLYEQYF', 'CASSFDSYEQYF'}\n",
      "Mouse and macaque CDR3 overlap: set()\n"
     ]
    }
   ],
   "source": [
    "# are there any CDR3 sequences common between the three species?\n",
    "print('Human and macaque CDR3 overlap: {}'.format(human_cdr3.intersection(macaque_cdr3)))\n",
    "print('Human and mouse CDR3 overlap: {}'.format(human_cdr3.intersection(mouse_cdr3)))\n",
    "print('Mouse and macaque CDR3 overlap: {}'.format(mouse_cdr3.intersection(macaque_cdr3)))"
   ]
  },
  {
   "cell_type": "code",
   "execution_count": 39,
   "metadata": {},
   "outputs": [
    {
     "name": "stdout",
     "output_type": "stream",
     "text": [
      "Number of CDR3 sequences shared between human and mouse: 38\n",
      "Number of unique mouse CDR3 sequences: 3197\n",
      "Number of unique human CDR3 sequences: 52897\n"
     ]
    }
   ],
   "source": [
    "print('Number of CDR3 sequences shared between human and mouse: {}'.format(len(human_cdr3.intersection(mouse_cdr3))))\n",
    "print('Number of unique mouse CDR3 sequences: {}'.format(len(mouse_cdr3)))\n",
    "print('Number of unique human CDR3 sequences: {}'.format(len(human_cdr3)))"
   ]
  },
  {
   "cell_type": "markdown",
   "metadata": {},
   "source": [
    "Find all antigen sequences for each species"
   ]
  },
  {
   "cell_type": "code",
   "execution_count": 19,
   "metadata": {},
   "outputs": [],
   "source": [
    "# want to do: do any species have the same antigens? If so, may need to\n",
    "# be careful about separating datasets down the line\n",
    "species_antigen_seq = {}\n",
    "for sp in species:\n",
    "    species_antigen_seq[sp] = set(data[data['Species'] == sp]['Epitope'].tolist())"
   ]
  },
  {
   "cell_type": "code",
   "execution_count": 47,
   "metadata": {},
   "outputs": [],
   "source": [
    "# write the antigens to file\n",
    "for sp in species:\n",
    "    with open('{}/{}_antigen.fasta'.format(data_dir, sp), 'w') as f:\n",
    "        for i, seq in enumerate(species_antigen_seq[sp]):\n",
    "            f.write('>SEQ_{}\\n'.format(i))\n",
    "            f.write('{}\\n'.format(seq))"
   ]
  },
  {
   "cell_type": "code",
   "execution_count": 20,
   "metadata": {},
   "outputs": [],
   "source": [
    "human_antigens = species_antigen_seq['HomoSapiens']\n",
    "macaque_antigens = species_antigen_seq['MacacaMulatta']\n",
    "mouse_antigens = species_antigen_seq['MusMusculus']"
   ]
  },
  {
   "cell_type": "code",
   "execution_count": 25,
   "metadata": {},
   "outputs": [
    {
     "name": "stdout",
     "output_type": "stream",
     "text": [
      "Human and macaque antigen overlap: set()\n",
      "Human and mouse antigen overlap: set()\n",
      "Mouse and macaque antigen overlap: set()\n"
     ]
    }
   ],
   "source": [
    "# are any antigens common between the three species?\n",
    "print('Human and macaque antigen overlap: {}'.format(human_antigens.intersection(macaque_antigens)))\n",
    "print('Human and mouse antigen overlap: {}'.format(human_antigens.intersection(mouse_antigens)))\n",
    "print('Mouse and macaque antigen overlap: {}'.format(mouse_antigens.intersection(macaque_antigens)))"
   ]
  },
  {
   "cell_type": "markdown",
   "metadata": {},
   "source": [
    "Takeaways:\n",
    "- All antigens are unique between different species\n",
    "- Most TCR sequences are unique between different species\n",
    "- But: some TCR sequences are shared between mouse and human, despite the fact that no antigen sequences are shared. This means that the same TCR sequence binds to different antigens depending on the species"
   ]
  },
  {
   "cell_type": "markdown",
   "metadata": {},
   "source": [
    "### Organize Sequence by TRA vs TRB Chain"
   ]
  },
  {
   "cell_type": "code",
   "execution_count": 28,
   "metadata": {},
   "outputs": [],
   "source": [
    "chains = ['TRA', 'TRB']\n",
    "chain_cdr3_seq = {} # dict mapping TRA/TRB to all CDR3 sequences that come from it\n",
    "for chain in chains:\n",
    "    chain_cdr3_seq[chain] = set(data[data['Gene'] == chain]['CDR3'].tolist())"
   ]
  },
  {
   "cell_type": "code",
   "execution_count": 45,
   "metadata": {},
   "outputs": [],
   "source": [
    "# write the genes to file\n",
    "for chain in chains:\n",
    "    with open('{}/{}_cdr3.fasta'.format(data_dir, chain), 'w') as f:\n",
    "        for i, seq in enumerate(chain_cdr3_seq[chain]):\n",
    "            f.write('>SEQ_{}\\n'.format(i))\n",
    "            f.write('{}\\n'.format(seq))"
   ]
  },
  {
   "cell_type": "code",
   "execution_count": 40,
   "metadata": {},
   "outputs": [],
   "source": [
    "# are there any CDR3 sequences common between the two genes?\n",
    "tra_cdr3 = chain_cdr3_seq['TRA']\n",
    "trb_cdr3 = chain_cdr3_seq['TRB']"
   ]
  },
  {
   "cell_type": "code",
   "execution_count": 44,
   "metadata": {},
   "outputs": [
    {
     "name": "stdout",
     "output_type": "stream",
     "text": [
      "TRA and TRB CDR3 overlap: {'CASSDSRGTEAFF', 'CASSSVNEQYF'}\n",
      "TRA CDR3 sequences: 22352\n",
      "TRB CDR3 sequences: 34900\n"
     ]
    }
   ],
   "source": [
    "print('TRA and TRB CDR3 overlap: {}'.format(tra_cdr3.intersection(trb_cdr3)))\n",
    "print('TRA CDR3 sequences: {}'.format(len(tra_cdr3)))\n",
    "print('TRB CDR3 sequences: {}'.format(len(trb_cdr3)))"
   ]
  },
  {
   "cell_type": "markdown",
   "metadata": {},
   "source": [
    "### Organize data by unique antigen"
   ]
  },
  {
   "cell_type": "code",
   "execution_count": 49,
   "metadata": {},
   "outputs": [],
   "source": [
    "# keep track of counts and locations of each antigen\n",
    "antigens = data['Epitope']\n",
    "antigen_loc_dict = {}\n",
    "antigen_count_dict = {}\n",
    "for i, antigen in enumerate(antigens):\n",
    "    if antigen not in antigen_loc_dict.keys():\n",
    "        antigen_loc_dict[antigen] = [i]\n",
    "        antigen_count_dict[antigen] = 0\n",
    "    else:\n",
    "        antigen_loc_dict[antigen] += [i]\n",
    "        antigen_count_dict[antigen] += 1"
   ]
  },
  {
   "cell_type": "code",
   "execution_count": 52,
   "metadata": {},
   "outputs": [],
   "source": [
    "# find all antigens with same copy number in data\n",
    "count_antigen_dict = {}\n",
    "for antigen, count in antigen_count_dict.items():\n",
    "    if count not in count_antigen_dict.keys():\n",
    "        count_antigen_dict[count] = [antigen]\n",
    "    else:\n",
    "        count_antigen_dict[count] += [antigen]"
   ]
  },
  {
   "cell_type": "code",
   "execution_count": 89,
   "metadata": {},
   "outputs": [],
   "source": [
    "# split data into 90/5/5 train/valid/test\n",
    "total_counts = data.shape[0]\n",
    "data_counts = {'train': int(total_counts * 0.9), \n",
    "               'valid': int(total_counts * 0.05), \n",
    "               'test': total_counts - train_counts - valid_counts}"
   ]
  },
  {
   "cell_type": "code",
   "execution_count": 92,
   "metadata": {},
   "outputs": [],
   "source": [
    "# keep track of antigen sequences for train/valid/test sets\n",
    "antigen_data_split_lists = {'train': [],\n",
    "                            'valid': [],\n",
    "                            'test': []}\n",
    "current_counts = {'train': 0, \n",
    "                  'valid': 0, \n",
    "                  'test': 0}\n",
    "\n",
    "for count, antigens in count_antigen_dict.items():\n",
    "    i = 0\n",
    "    for antigen in antigens:\n",
    "        if (i%3 == 0) and (current_counts['train'] < data_counts['train']*0.9):\n",
    "            antigen_data_split_lists['train'] += [antigen]\n",
    "            current_counts['train'] += count\n",
    "        elif (i%3 == 1) and (current_counts['valid'] < data_counts['valid']*0.9):\n",
    "            antigen_data_split_lists['valid'] += [antigen]\n",
    "            current_counts['valid'] += count\n",
    "        else:\n",
    "            if current_counts['test'] < data_counts['test']:\n",
    "                antigen_data_split_lists['test'] += [antigen]\n",
    "                current_counts['test'] += count\n",
    "            else:\n",
    "                antigen_data_split_lists['valid'] += [antigen]\n",
    "                current_counts['valid'] += count\n",
    "        i += 1"
   ]
  },
  {
   "cell_type": "code",
   "execution_count": 97,
   "metadata": {},
   "outputs": [],
   "source": [
    "# find indices in data for antigens in train/valid/test sets\n",
    "antigen_data_split_idx = {'train': [],\n",
    "                          'valid': [],\n",
    "                          'test': []}\n",
    "\n",
    "for data_split, antigens in antigen_data_split_lists.items():\n",
    "    for antigen in antigens:\n",
    "        antigen_data_split_idx[data_split] += antigen_loc_dict[antigen]"
   ]
  },
  {
   "cell_type": "code",
   "execution_count": 101,
   "metadata": {},
   "outputs": [],
   "source": [
    "# write antigens and CDR3 sequences to file\n",
    "for data_split, idx in antigen_data_split_idx.items():\n",
    "    antigen_seq = data['Epitope'][idx]\n",
    "    with open('{}/antigen_unique_{}.fasta'.format(data_dir, data_split), 'w') as f:\n",
    "        for seq in antigen_seq:\n",
    "            f.write('>SEQ_{}\\n'.format(i))\n",
    "            f.write('{}\\n'.format(seq))\n",
    "    \n",
    "    cdr3_seq = data['CDR3'][idx]\n",
    "    with open('{}/cdr3_unique_{}.fasta'.format(data_dir, data_split), 'w') as f:\n",
    "        for seq in cdr3_seq:\n",
    "            f.write('>SEQ_{}\\n'.format(i))\n",
    "            f.write('{}\\n'.format(seq))"
   ]
  },
  {
   "cell_type": "code",
   "execution_count": 98,
   "metadata": {},
   "outputs": [
    {
     "data": {
      "text/html": [
       "<div>\n",
       "<style scoped>\n",
       "    .dataframe tbody tr th:only-of-type {\n",
       "        vertical-align: middle;\n",
       "    }\n",
       "\n",
       "    .dataframe tbody tr th {\n",
       "        vertical-align: top;\n",
       "    }\n",
       "\n",
       "    .dataframe thead th {\n",
       "        text-align: right;\n",
       "    }\n",
       "</style>\n",
       "<table border=\"1\" class=\"dataframe\">\n",
       "  <thead>\n",
       "    <tr style=\"text-align: right;\">\n",
       "      <th></th>\n",
       "      <th>complex.id</th>\n",
       "      <th>Gene</th>\n",
       "      <th>CDR3</th>\n",
       "      <th>V</th>\n",
       "      <th>J</th>\n",
       "      <th>Species</th>\n",
       "      <th>MHC A</th>\n",
       "      <th>MHC B</th>\n",
       "      <th>MHC class</th>\n",
       "      <th>Epitope</th>\n",
       "      <th>Epitope gene</th>\n",
       "      <th>Epitope species</th>\n",
       "      <th>Reference</th>\n",
       "      <th>Method</th>\n",
       "      <th>Meta</th>\n",
       "      <th>CDR3fix</th>\n",
       "      <th>Score</th>\n",
       "    </tr>\n",
       "  </thead>\n",
       "  <tbody>\n",
       "    <tr>\n",
       "      <th>0</th>\n",
       "      <td>1</td>\n",
       "      <td>TRA</td>\n",
       "      <td>CIVRAPGRADMRF</td>\n",
       "      <td>TRAV26-1*01</td>\n",
       "      <td>TRAJ43*01</td>\n",
       "      <td>HomoSapiens</td>\n",
       "      <td>HLA-B*08</td>\n",
       "      <td>B2M</td>\n",
       "      <td>MHCI</td>\n",
       "      <td>FLKEKGGL</td>\n",
       "      <td>Nef</td>\n",
       "      <td>HIV-1</td>\n",
       "      <td>PMID:15596521</td>\n",
       "      <td>{\"frequency\": \"\", \"identification\": \"tetramer-...</td>\n",
       "      <td>{\"cell.subset\": \"CD8+\", \"clone.id\": \"\", \"donor...</td>\n",
       "      <td>{\"cdr3\": \"CIVRAPGRADMRF\", \"cdr3_old\": \"CIVRAPG...</td>\n",
       "      <td>2</td>\n",
       "    </tr>\n",
       "    <tr>\n",
       "      <th>1</th>\n",
       "      <td>1</td>\n",
       "      <td>TRB</td>\n",
       "      <td>CASSYLPGQGDHYSNQPQHF</td>\n",
       "      <td>TRBV13*01</td>\n",
       "      <td>TRBJ1-5*01</td>\n",
       "      <td>HomoSapiens</td>\n",
       "      <td>HLA-B*08</td>\n",
       "      <td>B2M</td>\n",
       "      <td>MHCI</td>\n",
       "      <td>FLKEKGGL</td>\n",
       "      <td>Nef</td>\n",
       "      <td>HIV-1</td>\n",
       "      <td>PMID:15596521</td>\n",
       "      <td>{\"frequency\": \"\", \"identification\": \"tetramer-...</td>\n",
       "      <td>{\"cell.subset\": \"CD8+\", \"clone.id\": \"\", \"donor...</td>\n",
       "      <td>{\"cdr3\": \"CASSYLPGQGDHYSNQPQHF\", \"cdr3_old\": \"...</td>\n",
       "      <td>2</td>\n",
       "    </tr>\n",
       "    <tr>\n",
       "      <th>2</th>\n",
       "      <td>0</td>\n",
       "      <td>TRB</td>\n",
       "      <td>CASSFEAGQGFFSNQPQHF</td>\n",
       "      <td>TRBV13*01</td>\n",
       "      <td>TRBJ1-5*01</td>\n",
       "      <td>HomoSapiens</td>\n",
       "      <td>HLA-B*08</td>\n",
       "      <td>B2M</td>\n",
       "      <td>MHCI</td>\n",
       "      <td>FLKEKGGL</td>\n",
       "      <td>Nef</td>\n",
       "      <td>HIV-1</td>\n",
       "      <td>PMID:15596521</td>\n",
       "      <td>{\"frequency\": \"\", \"identification\": \"tetramer-...</td>\n",
       "      <td>{\"cell.subset\": \"CD8+\", \"clone.id\": \"\", \"donor...</td>\n",
       "      <td>{\"cdr3\": \"CASSFEAGQGFFSNQPQHF\", \"cdr3_old\": \"C...</td>\n",
       "      <td>2</td>\n",
       "    </tr>\n",
       "    <tr>\n",
       "      <th>3</th>\n",
       "      <td>2</td>\n",
       "      <td>TRA</td>\n",
       "      <td>CAVPSGAGSYQLTF</td>\n",
       "      <td>TRAV20*01</td>\n",
       "      <td>TRAJ28*01</td>\n",
       "      <td>HomoSapiens</td>\n",
       "      <td>HLA-B*08</td>\n",
       "      <td>B2M</td>\n",
       "      <td>MHCI</td>\n",
       "      <td>FLKEKGGL</td>\n",
       "      <td>Nef</td>\n",
       "      <td>HIV-1</td>\n",
       "      <td>PMID:15596521</td>\n",
       "      <td>{\"frequency\": \"\", \"identification\": \"tetramer-...</td>\n",
       "      <td>{\"cell.subset\": \"CD8+\", \"clone.id\": \"\", \"donor...</td>\n",
       "      <td>{\"cdr3\": \"CAVPSGAGSYQLTF\", \"cdr3_old\": \"CAVPSG...</td>\n",
       "      <td>2</td>\n",
       "    </tr>\n",
       "    <tr>\n",
       "      <th>4</th>\n",
       "      <td>2</td>\n",
       "      <td>TRB</td>\n",
       "      <td>CASSFEPGQGFYSNQPQHF</td>\n",
       "      <td>TRBV13*01</td>\n",
       "      <td>TRBJ1-5*01</td>\n",
       "      <td>HomoSapiens</td>\n",
       "      <td>HLA-B*08</td>\n",
       "      <td>B2M</td>\n",
       "      <td>MHCI</td>\n",
       "      <td>FLKEKGGL</td>\n",
       "      <td>Nef</td>\n",
       "      <td>HIV-1</td>\n",
       "      <td>PMID:15596521</td>\n",
       "      <td>{\"frequency\": \"\", \"identification\": \"tetramer-...</td>\n",
       "      <td>{\"cell.subset\": \"CD8+\", \"clone.id\": \"\", \"donor...</td>\n",
       "      <td>{\"cdr3\": \"CASSFEPGQGFYSNQPQHF\", \"cdr3_old\": \"C...</td>\n",
       "      <td>2</td>\n",
       "    </tr>\n",
       "    <tr>\n",
       "      <th>...</th>\n",
       "      <td>...</td>\n",
       "      <td>...</td>\n",
       "      <td>...</td>\n",
       "      <td>...</td>\n",
       "      <td>...</td>\n",
       "      <td>...</td>\n",
       "      <td>...</td>\n",
       "      <td>...</td>\n",
       "      <td>...</td>\n",
       "      <td>...</td>\n",
       "      <td>...</td>\n",
       "      <td>...</td>\n",
       "      <td>...</td>\n",
       "      <td>...</td>\n",
       "      <td>...</td>\n",
       "      <td>...</td>\n",
       "      <td>...</td>\n",
       "    </tr>\n",
       "    <tr>\n",
       "      <th>77671</th>\n",
       "      <td>24823</td>\n",
       "      <td>TRA</td>\n",
       "      <td>CAGQRATDSWGKLQF</td>\n",
       "      <td>TRAV25*01</td>\n",
       "      <td>TRAJ24*01</td>\n",
       "      <td>HomoSapiens</td>\n",
       "      <td>HLA-A*02:01</td>\n",
       "      <td>B2M</td>\n",
       "      <td>MHCI</td>\n",
       "      <td>LLWNGPMAV</td>\n",
       "      <td>NS4B</td>\n",
       "      <td>YFV</td>\n",
       "      <td>PMID:28934479</td>\n",
       "      <td>{\"frequency\": \"1/109\", \"identification\": \"tetr...</td>\n",
       "      <td>{\"cell.subset\": \"\", \"clone.id\": \"\", \"donor.MHC...</td>\n",
       "      <td>{\"cdr3\": \"CAGQRATDSWGKLQF\", \"cdr3_old\": \"CAGQR...</td>\n",
       "      <td>0</td>\n",
       "    </tr>\n",
       "    <tr>\n",
       "      <th>77672</th>\n",
       "      <td>24829</td>\n",
       "      <td>TRA</td>\n",
       "      <td>CAVDGQKLLF</td>\n",
       "      <td>TRAV12-2*01</td>\n",
       "      <td>NaN</td>\n",
       "      <td>HomoSapiens</td>\n",
       "      <td>HLA-A*02:01</td>\n",
       "      <td>B2M</td>\n",
       "      <td>MHCI</td>\n",
       "      <td>LLWNGPMAV</td>\n",
       "      <td>NS4B</td>\n",
       "      <td>YFV</td>\n",
       "      <td>PMID:28934479</td>\n",
       "      <td>{\"frequency\": \"1/109\", \"identification\": \"tetr...</td>\n",
       "      <td>{\"cell.subset\": \"\", \"clone.id\": \"\", \"donor.MHC...</td>\n",
       "      <td>{\"cdr3\": \"CAVDGQKLLF\", \"cdr3_old\": \"CAVDGQKLLF...</td>\n",
       "      <td>0</td>\n",
       "    </tr>\n",
       "    <tr>\n",
       "      <th>77673</th>\n",
       "      <td>24834</td>\n",
       "      <td>TRA</td>\n",
       "      <td>CAASQETSGSRLTF</td>\n",
       "      <td>TRAV13-1*01</td>\n",
       "      <td>NaN</td>\n",
       "      <td>HomoSapiens</td>\n",
       "      <td>HLA-A*02:01</td>\n",
       "      <td>B2M</td>\n",
       "      <td>MHCI</td>\n",
       "      <td>LLWNGPMAV</td>\n",
       "      <td>NS4B</td>\n",
       "      <td>YFV</td>\n",
       "      <td>PMID:28934479</td>\n",
       "      <td>{\"frequency\": \"1/109\", \"identification\": \"tetr...</td>\n",
       "      <td>{\"cell.subset\": \"\", \"clone.id\": \"\", \"donor.MHC...</td>\n",
       "      <td>{\"cdr3\": \"CAASQETSGSRLTF\", \"cdr3_old\": \"CAASQE...</td>\n",
       "      <td>0</td>\n",
       "    </tr>\n",
       "    <tr>\n",
       "      <th>77674</th>\n",
       "      <td>24848</td>\n",
       "      <td>TRA</td>\n",
       "      <td>CFHYGGATNKLIF</td>\n",
       "      <td>TRAV1-2*01</td>\n",
       "      <td>TRAJ32*01</td>\n",
       "      <td>HomoSapiens</td>\n",
       "      <td>HLA-A*02:01</td>\n",
       "      <td>B2M</td>\n",
       "      <td>MHCI</td>\n",
       "      <td>LLWNGPMAV</td>\n",
       "      <td>NS4B</td>\n",
       "      <td>YFV</td>\n",
       "      <td>PMID:28934479</td>\n",
       "      <td>{\"frequency\": \"1/109\", \"identification\": \"tetr...</td>\n",
       "      <td>{\"cell.subset\": \"\", \"clone.id\": \"\", \"donor.MHC...</td>\n",
       "      <td>{\"cdr3\": \"CFHYGGATNKLIF\", \"cdr3_old\": \"CFHYGGA...</td>\n",
       "      <td>0</td>\n",
       "    </tr>\n",
       "    <tr>\n",
       "      <th>77675</th>\n",
       "      <td>24855</td>\n",
       "      <td>TRA</td>\n",
       "      <td>CARSTDSWGKLQF</td>\n",
       "      <td>TRAV24*01</td>\n",
       "      <td>TRAJ24*01</td>\n",
       "      <td>HomoSapiens</td>\n",
       "      <td>HLA-A*02:01</td>\n",
       "      <td>B2M</td>\n",
       "      <td>MHCI</td>\n",
       "      <td>LLWNGPMAV</td>\n",
       "      <td>NS4B</td>\n",
       "      <td>YFV</td>\n",
       "      <td>PMID:28934479</td>\n",
       "      <td>{\"frequency\": \"1/109\", \"identification\": \"tetr...</td>\n",
       "      <td>{\"cell.subset\": \"\", \"clone.id\": \"\", \"donor.MHC...</td>\n",
       "      <td>{\"cdr3\": \"CARSTDSWGKLQF\", \"cdr3_old\": \"CARSTDS...</td>\n",
       "      <td>0</td>\n",
       "    </tr>\n",
       "  </tbody>\n",
       "</table>\n",
       "<p>77676 rows × 17 columns</p>\n",
       "</div>"
      ],
      "text/plain": [
       "       complex.id Gene                  CDR3            V           J  \\\n",
       "0               1  TRA         CIVRAPGRADMRF  TRAV26-1*01   TRAJ43*01   \n",
       "1               1  TRB  CASSYLPGQGDHYSNQPQHF    TRBV13*01  TRBJ1-5*01   \n",
       "2               0  TRB   CASSFEAGQGFFSNQPQHF    TRBV13*01  TRBJ1-5*01   \n",
       "3               2  TRA        CAVPSGAGSYQLTF    TRAV20*01   TRAJ28*01   \n",
       "4               2  TRB   CASSFEPGQGFYSNQPQHF    TRBV13*01  TRBJ1-5*01   \n",
       "...           ...  ...                   ...          ...         ...   \n",
       "77671       24823  TRA       CAGQRATDSWGKLQF    TRAV25*01   TRAJ24*01   \n",
       "77672       24829  TRA            CAVDGQKLLF  TRAV12-2*01         NaN   \n",
       "77673       24834  TRA        CAASQETSGSRLTF  TRAV13-1*01         NaN   \n",
       "77674       24848  TRA         CFHYGGATNKLIF   TRAV1-2*01   TRAJ32*01   \n",
       "77675       24855  TRA         CARSTDSWGKLQF    TRAV24*01   TRAJ24*01   \n",
       "\n",
       "           Species        MHC A MHC B MHC class    Epitope Epitope gene  \\\n",
       "0      HomoSapiens     HLA-B*08   B2M      MHCI   FLKEKGGL          Nef   \n",
       "1      HomoSapiens     HLA-B*08   B2M      MHCI   FLKEKGGL          Nef   \n",
       "2      HomoSapiens     HLA-B*08   B2M      MHCI   FLKEKGGL          Nef   \n",
       "3      HomoSapiens     HLA-B*08   B2M      MHCI   FLKEKGGL          Nef   \n",
       "4      HomoSapiens     HLA-B*08   B2M      MHCI   FLKEKGGL          Nef   \n",
       "...            ...          ...   ...       ...        ...          ...   \n",
       "77671  HomoSapiens  HLA-A*02:01   B2M      MHCI  LLWNGPMAV         NS4B   \n",
       "77672  HomoSapiens  HLA-A*02:01   B2M      MHCI  LLWNGPMAV         NS4B   \n",
       "77673  HomoSapiens  HLA-A*02:01   B2M      MHCI  LLWNGPMAV         NS4B   \n",
       "77674  HomoSapiens  HLA-A*02:01   B2M      MHCI  LLWNGPMAV         NS4B   \n",
       "77675  HomoSapiens  HLA-A*02:01   B2M      MHCI  LLWNGPMAV         NS4B   \n",
       "\n",
       "      Epitope species      Reference  \\\n",
       "0               HIV-1  PMID:15596521   \n",
       "1               HIV-1  PMID:15596521   \n",
       "2               HIV-1  PMID:15596521   \n",
       "3               HIV-1  PMID:15596521   \n",
       "4               HIV-1  PMID:15596521   \n",
       "...               ...            ...   \n",
       "77671             YFV  PMID:28934479   \n",
       "77672             YFV  PMID:28934479   \n",
       "77673             YFV  PMID:28934479   \n",
       "77674             YFV  PMID:28934479   \n",
       "77675             YFV  PMID:28934479   \n",
       "\n",
       "                                                  Method  \\\n",
       "0      {\"frequency\": \"\", \"identification\": \"tetramer-...   \n",
       "1      {\"frequency\": \"\", \"identification\": \"tetramer-...   \n",
       "2      {\"frequency\": \"\", \"identification\": \"tetramer-...   \n",
       "3      {\"frequency\": \"\", \"identification\": \"tetramer-...   \n",
       "4      {\"frequency\": \"\", \"identification\": \"tetramer-...   \n",
       "...                                                  ...   \n",
       "77671  {\"frequency\": \"1/109\", \"identification\": \"tetr...   \n",
       "77672  {\"frequency\": \"1/109\", \"identification\": \"tetr...   \n",
       "77673  {\"frequency\": \"1/109\", \"identification\": \"tetr...   \n",
       "77674  {\"frequency\": \"1/109\", \"identification\": \"tetr...   \n",
       "77675  {\"frequency\": \"1/109\", \"identification\": \"tetr...   \n",
       "\n",
       "                                                    Meta  \\\n",
       "0      {\"cell.subset\": \"CD8+\", \"clone.id\": \"\", \"donor...   \n",
       "1      {\"cell.subset\": \"CD8+\", \"clone.id\": \"\", \"donor...   \n",
       "2      {\"cell.subset\": \"CD8+\", \"clone.id\": \"\", \"donor...   \n",
       "3      {\"cell.subset\": \"CD8+\", \"clone.id\": \"\", \"donor...   \n",
       "4      {\"cell.subset\": \"CD8+\", \"clone.id\": \"\", \"donor...   \n",
       "...                                                  ...   \n",
       "77671  {\"cell.subset\": \"\", \"clone.id\": \"\", \"donor.MHC...   \n",
       "77672  {\"cell.subset\": \"\", \"clone.id\": \"\", \"donor.MHC...   \n",
       "77673  {\"cell.subset\": \"\", \"clone.id\": \"\", \"donor.MHC...   \n",
       "77674  {\"cell.subset\": \"\", \"clone.id\": \"\", \"donor.MHC...   \n",
       "77675  {\"cell.subset\": \"\", \"clone.id\": \"\", \"donor.MHC...   \n",
       "\n",
       "                                                 CDR3fix  Score  \n",
       "0      {\"cdr3\": \"CIVRAPGRADMRF\", \"cdr3_old\": \"CIVRAPG...      2  \n",
       "1      {\"cdr3\": \"CASSYLPGQGDHYSNQPQHF\", \"cdr3_old\": \"...      2  \n",
       "2      {\"cdr3\": \"CASSFEAGQGFFSNQPQHF\", \"cdr3_old\": \"C...      2  \n",
       "3      {\"cdr3\": \"CAVPSGAGSYQLTF\", \"cdr3_old\": \"CAVPSG...      2  \n",
       "4      {\"cdr3\": \"CASSFEPGQGFYSNQPQHF\", \"cdr3_old\": \"C...      2  \n",
       "...                                                  ...    ...  \n",
       "77671  {\"cdr3\": \"CAGQRATDSWGKLQF\", \"cdr3_old\": \"CAGQR...      0  \n",
       "77672  {\"cdr3\": \"CAVDGQKLLF\", \"cdr3_old\": \"CAVDGQKLLF...      0  \n",
       "77673  {\"cdr3\": \"CAASQETSGSRLTF\", \"cdr3_old\": \"CAASQE...      0  \n",
       "77674  {\"cdr3\": \"CFHYGGATNKLIF\", \"cdr3_old\": \"CFHYGGA...      0  \n",
       "77675  {\"cdr3\": \"CARSTDSWGKLQF\", \"cdr3_old\": \"CARSTDS...      0  \n",
       "\n",
       "[77676 rows x 17 columns]"
      ]
     },
     "execution_count": 98,
     "metadata": {},
     "output_type": "execute_result"
    }
   ],
   "source": [
    "data"
   ]
  }
 ],
 "metadata": {
  "kernelspec": {
   "display_name": "Python 3",
   "language": "python",
   "name": "python3"
  },
  "language_info": {
   "codemirror_mode": {
    "name": "ipython",
    "version": 3
   },
   "file_extension": ".py",
   "mimetype": "text/x-python",
   "name": "python",
   "nbconvert_exporter": "python",
   "pygments_lexer": "ipython3",
   "version": "3.8.5"
  }
 },
 "nbformat": 4,
 "nbformat_minor": 4
}
