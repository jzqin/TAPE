{
 "cells": [
  {
   "cell_type": "code",
   "execution_count": 1,
   "metadata": {},
   "outputs": [],
   "source": [
    "# Jason Qin\n",
    "# 05/05/21"
   ]
  },
  {
   "cell_type": "markdown",
   "metadata": {},
   "source": [
    "# Organize VDJdb TCR-antigen data\n",
    "\n",
    "Organize data by:\n",
    "1) TCR chain\n",
    "2) Species\n",
    "3) Unique antigens"
   ]
  },
  {
   "cell_type": "code",
   "execution_count": 2,
   "metadata": {},
   "outputs": [],
   "source": [
    "import numpy as np\n",
    "import pandas as pd\n",
    "import seaborn as sns\n",
    "import matplotlib.pyplot as plt\n",
    "import random\n",
    "\n",
    "from scipy.spatial.distance import cdist, hamming\n",
    "import scipy.stats\n",
    "import sklearn.metrics\n",
    "\n",
    "from tape.datasets import FastaDataset, pad_sequences\n",
    "from tape.tokenizers import TAPETokenizer"
   ]
  },
  {
   "cell_type": "code",
   "execution_count": 3,
   "metadata": {},
   "outputs": [],
   "source": [
    "# relevant data files\n",
    "data_dir = '/group/ag_cmb/scratch/jqin/projects/tape/data/tcr'\n",
    "data_file = data_dir + '/full_data.tsv'\n",
    "data = pd.read_csv(data_file, sep='\\t')\n",
    "data = data.sort_values('complex.id')"
   ]
  },
  {
   "cell_type": "markdown",
   "metadata": {},
   "source": [
    "### Organize Sequences by Species\n",
    "\n",
    "Find all CDR3 sequences for each species"
   ]
  },
  {
   "cell_type": "code",
   "execution_count": 4,
   "metadata": {},
   "outputs": [],
   "source": [
    "species = ['HomoSapiens', 'MusMusculus', 'MacacaMulatta']\n",
    "species_cdr3_seq = {} # dict mapping species to all CDR3 sequences that come from it\n",
    "for sp in species:\n",
    "    species_cdr3_seq[sp] = set(data[data['Species'] == sp]['CDR3'].tolist())"
   ]
  },
  {
   "cell_type": "code",
   "execution_count": 5,
   "metadata": {},
   "outputs": [],
   "source": [
    "# write the genes to file\n",
    "for sp in species:\n",
    "    with open('{}/{}_cdr3.fasta'.format(data_dir, sp), 'w') as f:\n",
    "        for i, seq in enumerate(species_cdr3_seq[sp]):\n",
    "            f.write('>SEQ_{}\\n'.format(i))\n",
    "            f.write('{}\\n'.format(seq))"
   ]
  },
  {
   "cell_type": "code",
   "execution_count": 6,
   "metadata": {},
   "outputs": [],
   "source": [
    "human_cdr3 = species_cdr3_seq['HomoSapiens']\n",
    "macaque_cdr3 = species_cdr3_seq['MacacaMulatta']\n",
    "mouse_cdr3 = species_cdr3_seq['MusMusculus']"
   ]
  },
  {
   "cell_type": "code",
   "execution_count": 7,
   "metadata": {},
   "outputs": [
    {
     "name": "stdout",
     "output_type": "stream",
     "text": [
      "Human and macaque CDR3 overlap: set()\n",
      "Human and mouse CDR3 overlap: {'CASSSGGEQYF', 'CASSLDRGEQYF', 'CAYSGGSNYKLTF', 'CAMRHSNYQLIW', 'CATGSNYQLIW', 'CAVRPGNTGKLIF', 'CAMREGSGGSNYKLTF', 'CAVNSNYQLIW', 'CASSPGQGYEQYF', 'CASSLRGAYEQYF', 'CASRDTYEQYF', 'CAALNSGGSNYKLTF', 'CAASASGGSNYKLTF', 'CASSLGLYEQYF', 'CASSEGGPYEQYF', 'CAVSMDSNYQLIW', 'CASSYSYEQYF', 'CASSFGREQYF', 'CAVDSNYQLIW', 'CAVMDSNYQLIW', 'CAASGNYQLIW', 'CAVSLDSNYQLIW', 'CASRQGYEQYF', 'CALIGGSNYKLTF', 'CASSLGGYEQYF', 'CASSLGDEQYF', 'CASSEQGYEQYF', 'CASSLSGYEQYF', 'CASSLSGAYEQYF', 'CASSESYEQYF', 'CAVSEGNYQLIW', 'CAASMDSNYQLIW', 'CAALDSNYQLIW', 'CVVQDSNYQLIW', 'CASSDAGTGDYEQYF', 'CAVGSNYQLIW', 'CAVSGGDSNYQLIW', 'CASSFDSYEQYF'}\n",
      "Mouse and macaque CDR3 overlap: set()\n"
     ]
    }
   ],
   "source": [
    "# are there any CDR3 sequences common between the three species?\n",
    "print('Human and macaque CDR3 overlap: {}'.format(human_cdr3.intersection(macaque_cdr3)))\n",
    "print('Human and mouse CDR3 overlap: {}'.format(human_cdr3.intersection(mouse_cdr3)))\n",
    "print('Mouse and macaque CDR3 overlap: {}'.format(mouse_cdr3.intersection(macaque_cdr3)))"
   ]
  },
  {
   "cell_type": "code",
   "execution_count": 8,
   "metadata": {},
   "outputs": [
    {
     "name": "stdout",
     "output_type": "stream",
     "text": [
      "Number of CDR3 sequences shared between human and mouse: 38\n",
      "Number of unique mouse CDR3 sequences: 3197\n",
      "Number of unique human CDR3 sequences: 52897\n"
     ]
    }
   ],
   "source": [
    "print('Number of CDR3 sequences shared between human and mouse: {}'.format(len(human_cdr3.intersection(mouse_cdr3))))\n",
    "print('Number of unique mouse CDR3 sequences: {}'.format(len(mouse_cdr3)))\n",
    "print('Number of unique human CDR3 sequences: {}'.format(len(human_cdr3)))"
   ]
  },
  {
   "cell_type": "markdown",
   "metadata": {},
   "source": [
    "Find all antigen sequences for each species"
   ]
  },
  {
   "cell_type": "code",
   "execution_count": 9,
   "metadata": {},
   "outputs": [],
   "source": [
    "# want to do: do any species have the same antigens? If so, may need to\n",
    "# be careful about separating datasets down the line\n",
    "species_antigen_seq = {}\n",
    "for sp in species:\n",
    "    species_antigen_seq[sp] = set(data[data['Species'] == sp]['Epitope'].tolist())"
   ]
  },
  {
   "cell_type": "code",
   "execution_count": 10,
   "metadata": {},
   "outputs": [],
   "source": [
    "# write the antigens to file\n",
    "for sp in species:\n",
    "    with open('{}/{}_antigen.fasta'.format(data_dir, sp), 'w') as f:\n",
    "        for i, seq in enumerate(species_antigen_seq[sp]):\n",
    "            f.write('>SEQ_{}\\n'.format(i))\n",
    "            f.write('{}\\n'.format(seq))"
   ]
  },
  {
   "cell_type": "code",
   "execution_count": 11,
   "metadata": {},
   "outputs": [],
   "source": [
    "human_antigens = species_antigen_seq['HomoSapiens']\n",
    "macaque_antigens = species_antigen_seq['MacacaMulatta']\n",
    "mouse_antigens = species_antigen_seq['MusMusculus']"
   ]
  },
  {
   "cell_type": "code",
   "execution_count": 12,
   "metadata": {},
   "outputs": [
    {
     "name": "stdout",
     "output_type": "stream",
     "text": [
      "Human and macaque antigen overlap: set()\n",
      "Human and mouse antigen overlap: set()\n",
      "Mouse and macaque antigen overlap: set()\n"
     ]
    }
   ],
   "source": [
    "# are any antigens common between the three species?\n",
    "print('Human and macaque antigen overlap: {}'.format(human_antigens.intersection(macaque_antigens)))\n",
    "print('Human and mouse antigen overlap: {}'.format(human_antigens.intersection(mouse_antigens)))\n",
    "print('Mouse and macaque antigen overlap: {}'.format(mouse_antigens.intersection(macaque_antigens)))"
   ]
  },
  {
   "cell_type": "markdown",
   "metadata": {},
   "source": [
    "Takeaways:\n",
    "- All antigens are unique between different species\n",
    "- Most TCR sequences are unique between different species\n",
    "- But: some TCR sequences are shared between mouse and human, despite the fact that no antigen sequences are shared. This means that the same TCR sequence binds to different antigens depending on the species"
   ]
  },
  {
   "cell_type": "markdown",
   "metadata": {},
   "source": [
    "### Organize Sequence by TRA vs TRB Chain"
   ]
  },
  {
   "cell_type": "code",
   "execution_count": 13,
   "metadata": {},
   "outputs": [],
   "source": [
    "chains = ['TRA', 'TRB']\n",
    "chain_cdr3_seq = {} # dict mapping TRA/TRB to all CDR3 sequences that come from it\n",
    "for chain in chains:\n",
    "    chain_cdr3_seq[chain] = set(data[data['Gene'] == chain]['CDR3'].tolist())"
   ]
  },
  {
   "cell_type": "code",
   "execution_count": 14,
   "metadata": {},
   "outputs": [],
   "source": [
    "# write the genes to file\n",
    "for chain in chains:\n",
    "    with open('{}/{}_cdr3.fasta'.format(data_dir, chain), 'w') as f:\n",
    "        for i, seq in enumerate(chain_cdr3_seq[chain]):\n",
    "            f.write('>SEQ_{}\\n'.format(i))\n",
    "            f.write('{}\\n'.format(seq))"
   ]
  },
  {
   "cell_type": "code",
   "execution_count": 15,
   "metadata": {},
   "outputs": [],
   "source": [
    "# are there any CDR3 sequences common between the two genes?\n",
    "tra_cdr3 = chain_cdr3_seq['TRA']\n",
    "trb_cdr3 = chain_cdr3_seq['TRB']"
   ]
  },
  {
   "cell_type": "code",
   "execution_count": 16,
   "metadata": {},
   "outputs": [
    {
     "name": "stdout",
     "output_type": "stream",
     "text": [
      "TRA and TRB CDR3 overlap: {'CASSSVNEQYF', 'CASSDSRGTEAFF'}\n",
      "TRA CDR3 sequences: 22352\n",
      "TRB CDR3 sequences: 34900\n"
     ]
    }
   ],
   "source": [
    "print('TRA and TRB CDR3 overlap: {}'.format(tra_cdr3.intersection(trb_cdr3)))\n",
    "print('TRA CDR3 sequences: {}'.format(len(tra_cdr3)))\n",
    "print('TRB CDR3 sequences: {}'.format(len(trb_cdr3)))"
   ]
  },
  {
   "cell_type": "markdown",
   "metadata": {},
   "source": [
    "### Organize data by unique antigen"
   ]
  },
  {
   "cell_type": "code",
   "execution_count": 17,
   "metadata": {},
   "outputs": [],
   "source": [
    "# keep track of counts and locations of each antigen\n",
    "antigens = list(data['Epitope'])\n",
    "antigen_loc_dict = {}\n",
    "antigen_count_dict = {}\n",
    "for i, antigen in enumerate(antigens):\n",
    "    if antigen not in antigen_loc_dict.keys():\n",
    "        antigen_loc_dict[antigen] = [i]\n",
    "        antigen_count_dict[antigen] = 0\n",
    "    else:\n",
    "        antigen_loc_dict[antigen] += [i]\n",
    "        antigen_count_dict[antigen] += 1"
   ]
  },
  {
   "cell_type": "code",
   "execution_count": 18,
   "metadata": {},
   "outputs": [],
   "source": [
    "# find all antigens with same copy number in data\n",
    "count_antigen_dict = {}\n",
    "for antigen, count in antigen_count_dict.items():\n",
    "    if count not in count_antigen_dict.keys():\n",
    "        count_antigen_dict[count] = [antigen]\n",
    "    else:\n",
    "        count_antigen_dict[count] += [antigen]"
   ]
  },
  {
   "cell_type": "code",
   "execution_count": 19,
   "metadata": {},
   "outputs": [],
   "source": [
    "# split data into 90/5/5 train/valid/test\n",
    "total_counts = data.shape[0]\n",
    "data_counts = {'train': int(total_counts * 0.9), \n",
    "               'valid': int(total_counts * 0.05), \n",
    "               'test': int(total_counts * 0.05)+1}"
   ]
  },
  {
   "cell_type": "code",
   "execution_count": 20,
   "metadata": {},
   "outputs": [],
   "source": [
    "# keep track of antigen sequences for train/valid/test sets\n",
    "antigen_data_split_lists = {'train': set(),\n",
    "                            'valid': set(),\n",
    "                            'test': set()}\n",
    "current_counts = {'train': 0, \n",
    "                  'valid': 0, \n",
    "                  'test': 0}\n",
    "\n",
    "for count, antigens in count_antigen_dict.items():\n",
    "    i = 0\n",
    "    for antigen in antigens:\n",
    "        if (i%3 == 0) and (current_counts['train'] < data_counts['train']*0.9):\n",
    "            antigen_data_split_lists['train'].add(antigen)\n",
    "            current_counts['train'] += count\n",
    "        elif (i%3 == 1) and (current_counts['valid'] < data_counts['valid']*0.9):\n",
    "            antigen_data_split_lists['valid'].add(antigen)\n",
    "            current_counts['valid'] += count\n",
    "        else:\n",
    "            if current_counts['test'] < data_counts['test']:\n",
    "                antigen_data_split_lists['test'].add(antigen)\n",
    "                current_counts['test'] += count\n",
    "            else:\n",
    "                antigen_data_split_lists['valid'].add(antigen)\n",
    "                current_counts['valid'] += count\n",
    "        i += 1"
   ]
  },
  {
   "cell_type": "code",
   "execution_count": 21,
   "metadata": {},
   "outputs": [],
   "source": [
    "# find indices in data for antigens in train/valid/test sets\n",
    "antigen_data_split_idx = {'train': [],\n",
    "                          'valid': [],\n",
    "                          'test': []}\n",
    "\n",
    "for data_split, antigens in antigen_data_split_lists.items():\n",
    "    for antigen in antigens:\n",
    "        antigen_data_split_idx[data_split] += antigen_loc_dict[antigen]"
   ]
  },
  {
   "cell_type": "code",
   "execution_count": 22,
   "metadata": {},
   "outputs": [
    {
     "name": "stdout",
     "output_type": "stream",
     "text": [
      "set()\n",
      "set()\n",
      "set()\n"
     ]
    }
   ],
   "source": [
    "# confirm that the antigens were uniquely partitioned in to train/valid/test\n",
    "antigen_data_split_train_seqs = set()\n",
    "antigen_data_split_valid_seqs = set()\n",
    "antigen_data_split_test_seqs = set()\n",
    "antigens = list(data['Epitope'])\n",
    "\n",
    "for idx in antigen_data_split_idx['train']:\n",
    "    antigen_data_split_train_seqs.add(antigens[idx])\n",
    "\n",
    "for idx in antigen_data_split_idx['valid']:\n",
    "    antigen_data_split_valid_seqs.add(antigens[idx])\n",
    "\n",
    "for idx in antigen_data_split_idx['test']:\n",
    "    antigen_data_split_test_seqs.add(antigens[idx])\n",
    "    \n",
    "print(antigen_data_split_train_seqs.intersection(antigen_data_split_valid_seqs))\n",
    "print(antigen_data_split_train_seqs.intersection(antigen_data_split_test_seqs))\n",
    "print(antigen_data_split_valid_seqs.intersection(antigen_data_split_test_seqs))"
   ]
  },
  {
   "cell_type": "code",
   "execution_count": 23,
   "metadata": {},
   "outputs": [],
   "source": [
    "# write antigens and CDR3 sequences to file\n",
    "for data_split, idx in antigen_data_split_idx.items():\n",
    "    antigen_seq = list(data['Epitope'])\n",
    "    with open('{}/antigen_unique_{}.fasta'.format(data_dir, data_split), 'w') as f:\n",
    "        for i in idx:\n",
    "            f.write('>SEQ_{}\\n'.format(i))\n",
    "            f.write('{}\\n'.format(antigen_seq[i]))\n",
    "    \n",
    "    cdr3_seq = list(data['CDR3'])\n",
    "    with open('{}/cdr3_unique_{}.fasta'.format(data_dir, data_split), 'w') as f:\n",
    "        for i in idx:\n",
    "            f.write('>SEQ_{}\\n'.format(i))\n",
    "            f.write('{}\\n'.format(cdr3_seq[i]))"
   ]
  },
  {
   "cell_type": "markdown",
   "metadata": {},
   "source": [
    "### Organize data by pairs of TRA and TRB CDR3 sequences"
   ]
  },
  {
   "cell_type": "code",
   "execution_count": 24,
   "metadata": {},
   "outputs": [],
   "source": [
    "# find all TCR CDR3 chains that have both TRA and TRB information\n",
    "num_seqs = np.max(data['complex.id']) + 1\n",
    "tra_cdr3_seqs = num_seqs * ['']\n",
    "trb_cdr3_seqs = num_seqs * ['']\n",
    "antigen_seqs = num_seqs * ['']\n",
    "\n",
    "for i, chain, cdr3_seq, antigen_seq in zip(list(data['complex.id']), list(data['Gene']), list(data['CDR3']), list(data['Epitope'])):\n",
    "    if chain == 'TRA':\n",
    "        tra_cdr3_seqs[i] = cdr3_seq\n",
    "    else:\n",
    "        trb_cdr3_seqs[i] = cdr3_seq\n",
    "    antigen_seqs[i] = antigen_seq"
   ]
  },
  {
   "cell_type": "code",
   "execution_count": 25,
   "metadata": {},
   "outputs": [
    {
     "name": "stdout",
     "output_type": "stream",
     "text": [
      "(array([    0,     2, 27938]), array([    8, 24869,     1]))\n"
     ]
    }
   ],
   "source": [
    "# check number of entries for each 'complex.id' of data\n",
    "complex_id_counts = num_seqs * [0]\n",
    "for i in data['complex.id']:\n",
    "    complex_id_counts[i] += 1\n",
    "    \n",
    "print(np.unique(complex_id_counts, return_counts=True))"
   ]
  },
  {
   "cell_type": "code",
   "execution_count": 26,
   "metadata": {},
   "outputs": [],
   "source": [
    "split_order = random.sample(range(num_seqs), k=num_seqs)\n",
    "train_split = int(num_seqs*0.9)\n",
    "valid_split = int(num_seqs*0.95)\n",
    "\n",
    "train_idx = split_order[:train_split]\n",
    "valid_idx = split_order[train_split:valid_split]\n",
    "test_idx = split_order[valid_split:]\n",
    "\n",
    "split_idx = {'train': train_idx, 'valid': valid_idx, 'test': test_idx}"
   ]
  },
  {
   "cell_type": "code",
   "execution_count": 27,
   "metadata": {},
   "outputs": [],
   "source": [
    "for split, idx in split_idx.items():\n",
    "    with open('{}/tra_cdr3_paired_{}.fasta'.format(data_dir, split), 'w') as f:\n",
    "        for i in idx:\n",
    "            f.write('>SEQ_{}\\n'.format(i))\n",
    "            f.write('{}\\n'.format(tra_cdr3_seqs[i]))\n",
    "        \n",
    "    with open('{}/trb_cdr3_paired_{}.fasta'.format(data_dir, split), 'w') as f:\n",
    "        for i in idx:\n",
    "            f.write('>SEQ_{}\\n'.format(i))\n",
    "            f.write('{}\\n'.format(trb_cdr3_seqs[i]))\n",
    "            \n",
    "    with open('{}/antigen_paired_{}.fasta'.format(data_dir, split), 'w') as f:\n",
    "        for i in idx:\n",
    "            f.write('>SEQ_{}\\n'.format(i))\n",
    "            f.write('{}\\n'.format(antigen_seqs[i]))"
   ]
  },
  {
   "cell_type": "markdown",
   "metadata": {},
   "source": [
    "### Organize data by pairs of TRA and TRB CDR3 sequences AND unique antigens"
   ]
  },
  {
   "cell_type": "code",
   "execution_count": 28,
   "metadata": {},
   "outputs": [],
   "source": [
    "# use all data with from 'complex.id' > 1\n",
    "# separate into train, valid, test sets with unique antigens in each\n",
    "tra_cdr3_seqs_split = {'train': [], 'valid': [], 'test': []}\n",
    "trb_cdr3_seqs_split = {'train': [], 'valid': [], 'test': []}\n",
    "antigen_seqs_split = {'train': [], 'valid': [], 'test': []}\n",
    "\n",
    "for i in range(1, num_seqs):\n",
    "    if (tra_cdr3_seqs[i] == '') or (trb_cdr3_seqs[i] == ''):\n",
    "        continue\n",
    "    if (antigen_seqs[i] in antigen_data_split_lists['train']):\n",
    "        key = 'train'\n",
    "    elif (antigen_seqs[i] in antigen_data_split_lists['valid']):\n",
    "        key = 'valid'\n",
    "    elif (antigen_seqs[i] in antigen_data_split_lists['test']):\n",
    "        key = 'test'\n",
    "    else:\n",
    "        raise ValueError('Antigen must be in one of {train, valid, test} set.')\n",
    "    tra_cdr3_seqs_split[key] += [tra_cdr3_seqs[i]]\n",
    "    trb_cdr3_seqs_split[key] += [trb_cdr3_seqs[i]]\n",
    "    antigen_seqs_split[key] += [antigen_seqs[i]]"
   ]
  },
  {
   "cell_type": "code",
   "execution_count": 29,
   "metadata": {},
   "outputs": [],
   "source": [
    "for split, seqs in tra_cdr3_seqs_split.items():\n",
    "    with open('{}/tra_cdr3_paired_unique_{}.fasta'.format(data_dir, split), 'w') as f:\n",
    "        for i, seq in enumerate(seqs):\n",
    "            f.write('>SEQ_{}\\n'.format(i))\n",
    "            f.write('{}\\n'.format(seq))\n",
    "        \n",
    "for split, seqs in trb_cdr3_seqs_split.items():\n",
    "    with open('{}/trb_cdr3_paired_unique_{}.fasta'.format(data_dir, split), 'w') as f:\n",
    "        for i, seq in enumerate(seqs):\n",
    "            f.write('>SEQ_{}\\n'.format(i))\n",
    "            f.write('{}\\n'.format(seq))\n",
    "            \n",
    "for split, seqs in antigen_seqs_split.items():\n",
    "    with open('{}/antigen_paired_unique_{}.fasta'.format(data_dir, split), 'w') as f:\n",
    "        for i, seq in enumerate(seqs):\n",
    "            f.write('>SEQ_{}\\n'.format(i))\n",
    "            f.write('{}\\n'.format(seq))"
   ]
  },
  {
   "cell_type": "code",
   "execution_count": 30,
   "metadata": {},
   "outputs": [
    {
     "data": {
      "text/html": [
       "<div>\n",
       "<style scoped>\n",
       "    .dataframe tbody tr th:only-of-type {\n",
       "        vertical-align: middle;\n",
       "    }\n",
       "\n",
       "    .dataframe tbody tr th {\n",
       "        vertical-align: top;\n",
       "    }\n",
       "\n",
       "    .dataframe thead th {\n",
       "        text-align: right;\n",
       "    }\n",
       "</style>\n",
       "<table border=\"1\" class=\"dataframe\">\n",
       "  <thead>\n",
       "    <tr style=\"text-align: right;\">\n",
       "      <th></th>\n",
       "      <th>complex.id</th>\n",
       "      <th>Gene</th>\n",
       "      <th>CDR3</th>\n",
       "      <th>V</th>\n",
       "      <th>J</th>\n",
       "      <th>Species</th>\n",
       "      <th>MHC A</th>\n",
       "      <th>MHC B</th>\n",
       "      <th>MHC class</th>\n",
       "      <th>Epitope</th>\n",
       "      <th>Epitope gene</th>\n",
       "      <th>Epitope species</th>\n",
       "      <th>Reference</th>\n",
       "      <th>Method</th>\n",
       "      <th>Meta</th>\n",
       "      <th>CDR3fix</th>\n",
       "      <th>Score</th>\n",
       "    </tr>\n",
       "  </thead>\n",
       "  <tbody>\n",
       "    <tr>\n",
       "      <th>62277</th>\n",
       "      <td>0</td>\n",
       "      <td>TRB</td>\n",
       "      <td>CSARGEAITEKLFF</td>\n",
       "      <td>TRBV20-1*01</td>\n",
       "      <td>TRBJ1-4*01</td>\n",
       "      <td>HomoSapiens</td>\n",
       "      <td>HLA-A*02:01</td>\n",
       "      <td>B2M</td>\n",
       "      <td>MHCI</td>\n",
       "      <td>GLCTLVAML</td>\n",
       "      <td>BMLF1</td>\n",
       "      <td>EBV</td>\n",
       "      <td>PMID:24512815</td>\n",
       "      <td>{\"frequency\": \"43/60\", \"identification\": \"anti...</td>\n",
       "      <td>{\"cell.subset\": \"CD8\", \"clone.id\": \"\", \"donor....</td>\n",
       "      <td>{\"cdr3\": \"CSARGEAITEKLFF\", \"cdr3_old\": \"CSARGE...</td>\n",
       "      <td>3</td>\n",
       "    </tr>\n",
       "    <tr>\n",
       "      <th>18631</th>\n",
       "      <td>0</td>\n",
       "      <td>TRB</td>\n",
       "      <td>CASSLGWLNSDYTF</td>\n",
       "      <td>TRBV16*01</td>\n",
       "      <td>TRBJ1-2*01</td>\n",
       "      <td>MusMusculus</td>\n",
       "      <td>H-2Kb</td>\n",
       "      <td>B2M</td>\n",
       "      <td>MHCI</td>\n",
       "      <td>RALEYKNL</td>\n",
       "      <td>IE3</td>\n",
       "      <td>MCMV</td>\n",
       "      <td>PMID:31818981</td>\n",
       "      <td>{\"frequency\": \"3/33\", \"identification\": \"tetra...</td>\n",
       "      <td>{\"cell.subset\": \"CD8+\", \"clone.id\": \"\", \"donor...</td>\n",
       "      <td>{\"cdr3\": \"CASSLGWLNSDYTF\", \"cdr3_old\": \"CASSLG...</td>\n",
       "      <td>1</td>\n",
       "    </tr>\n",
       "    <tr>\n",
       "      <th>18630</th>\n",
       "      <td>0</td>\n",
       "      <td>TRB</td>\n",
       "      <td>CASRRQLSNERLFF</td>\n",
       "      <td>TRBV16*01</td>\n",
       "      <td>TRBJ1-4*01</td>\n",
       "      <td>MusMusculus</td>\n",
       "      <td>H-2Kb</td>\n",
       "      <td>B2M</td>\n",
       "      <td>MHCI</td>\n",
       "      <td>RALEYKNL</td>\n",
       "      <td>IE3</td>\n",
       "      <td>MCMV</td>\n",
       "      <td>PMID:31818981</td>\n",
       "      <td>{\"frequency\": \"3/33\", \"identification\": \"tetra...</td>\n",
       "      <td>{\"cell.subset\": \"CD8+\", \"clone.id\": \"\", \"donor...</td>\n",
       "      <td>{\"cdr3\": \"CASRRQLSNERLFF\", \"cdr3_old\": \"CASRRQ...</td>\n",
       "      <td>1</td>\n",
       "    </tr>\n",
       "    <tr>\n",
       "      <th>18629</th>\n",
       "      <td>0</td>\n",
       "      <td>TRB</td>\n",
       "      <td>CASSLDSGDTEVFF</td>\n",
       "      <td>TRBV16*01</td>\n",
       "      <td>TRBJ1-1*01</td>\n",
       "      <td>MusMusculus</td>\n",
       "      <td>H-2Kb</td>\n",
       "      <td>B2M</td>\n",
       "      <td>MHCI</td>\n",
       "      <td>RALEYKNL</td>\n",
       "      <td>IE3</td>\n",
       "      <td>MCMV</td>\n",
       "      <td>PMID:31818981</td>\n",
       "      <td>{\"frequency\": \"6/33\", \"identification\": \"tetra...</td>\n",
       "      <td>{\"cell.subset\": \"CD8+\", \"clone.id\": \"\", \"donor...</td>\n",
       "      <td>{\"cdr3\": \"CASSLDSGDTEVFF\", \"cdr3_old\": \"CASSLD...</td>\n",
       "      <td>1</td>\n",
       "    </tr>\n",
       "    <tr>\n",
       "      <th>18628</th>\n",
       "      <td>0</td>\n",
       "      <td>TRB</td>\n",
       "      <td>CASSLDAGNQAPLF</td>\n",
       "      <td>TRBV16*01</td>\n",
       "      <td>TRBJ1-5*01</td>\n",
       "      <td>MusMusculus</td>\n",
       "      <td>H-2Kb</td>\n",
       "      <td>B2M</td>\n",
       "      <td>MHCI</td>\n",
       "      <td>RALEYKNL</td>\n",
       "      <td>IE3</td>\n",
       "      <td>MCMV</td>\n",
       "      <td>PMID:31818981</td>\n",
       "      <td>{\"frequency\": \"2/84\", \"identification\": \"tetra...</td>\n",
       "      <td>{\"cell.subset\": \"CD8+\", \"clone.id\": \"\", \"donor...</td>\n",
       "      <td>{\"cdr3\": \"CASSLDAGNQAPLF\", \"cdr3_old\": \"CASSLD...</td>\n",
       "      <td>0</td>\n",
       "    </tr>\n",
       "    <tr>\n",
       "      <th>...</th>\n",
       "      <td>...</td>\n",
       "      <td>...</td>\n",
       "      <td>...</td>\n",
       "      <td>...</td>\n",
       "      <td>...</td>\n",
       "      <td>...</td>\n",
       "      <td>...</td>\n",
       "      <td>...</td>\n",
       "      <td>...</td>\n",
       "      <td>...</td>\n",
       "      <td>...</td>\n",
       "      <td>...</td>\n",
       "      <td>...</td>\n",
       "      <td>...</td>\n",
       "      <td>...</td>\n",
       "      <td>...</td>\n",
       "      <td>...</td>\n",
       "    </tr>\n",
       "    <tr>\n",
       "      <th>74805</th>\n",
       "      <td>24875</td>\n",
       "      <td>TRB</td>\n",
       "      <td>CAWGTLATEQYF</td>\n",
       "      <td>TRBV28*01</td>\n",
       "      <td>TRBJ2-7*01</td>\n",
       "      <td>HomoSapiens</td>\n",
       "      <td>HLA-A*02</td>\n",
       "      <td>B2M</td>\n",
       "      <td>MHCI</td>\n",
       "      <td>RMFPNAPYL</td>\n",
       "      <td>WT1</td>\n",
       "      <td>HomoSapiens</td>\n",
       "      <td>PMID:23637823</td>\n",
       "      <td>{\"frequency\": \"1/4\", \"identification\": \"multim...</td>\n",
       "      <td>{\"cell.subset\": \"CD8+\", \"clone.id\": \"TCR5A\", \"...</td>\n",
       "      <td>{\"cdr3\": \"CAWGTLATEQYF\", \"cdr3_old\": \"CAWGTLAT...</td>\n",
       "      <td>3</td>\n",
       "    </tr>\n",
       "    <tr>\n",
       "      <th>74806</th>\n",
       "      <td>24876</td>\n",
       "      <td>TRA</td>\n",
       "      <td>CAMSLYYGGSQGNLIF</td>\n",
       "      <td>TRAV12-3*01</td>\n",
       "      <td>TRAJ42*01</td>\n",
       "      <td>HomoSapiens</td>\n",
       "      <td>HLA-A*02</td>\n",
       "      <td>B2M</td>\n",
       "      <td>MHCI</td>\n",
       "      <td>KIFGSLAFL</td>\n",
       "      <td>ERBB2</td>\n",
       "      <td>HomoSapiens</td>\n",
       "      <td>PMID:23637823</td>\n",
       "      <td>{\"frequency\": \"\", \"identification\": \"multimer-...</td>\n",
       "      <td>{\"cell.subset\": \"CD8+\", \"clone.id\": \"4A\", \"don...</td>\n",
       "      <td>{\"cdr3\": \"CAMSLYYGGSQGNLIF\", \"cdr3_old\": \"CAMS...</td>\n",
       "      <td>2</td>\n",
       "    </tr>\n",
       "    <tr>\n",
       "      <th>74807</th>\n",
       "      <td>24876</td>\n",
       "      <td>TRB</td>\n",
       "      <td>CASSLEIFGGIADTDTQYF</td>\n",
       "      <td>TRBV11-2*01</td>\n",
       "      <td>TRBJ2-3*01</td>\n",
       "      <td>HomoSapiens</td>\n",
       "      <td>HLA-A*02</td>\n",
       "      <td>B2M</td>\n",
       "      <td>MHCI</td>\n",
       "      <td>KIFGSLAFL</td>\n",
       "      <td>ERBB2</td>\n",
       "      <td>HomoSapiens</td>\n",
       "      <td>PMID:23637823</td>\n",
       "      <td>{\"frequency\": \"\", \"identification\": \"multimer-...</td>\n",
       "      <td>{\"cell.subset\": \"CD8+\", \"clone.id\": \"4A\", \"don...</td>\n",
       "      <td>{\"cdr3\": \"CASSLEIFGGIADTDTQYF\", \"cdr3_old\": \"C...</td>\n",
       "      <td>2</td>\n",
       "    </tr>\n",
       "    <tr>\n",
       "      <th>74844</th>\n",
       "      <td>24877</td>\n",
       "      <td>TRA</td>\n",
       "      <td>CAASIGDFGNEKLTF</td>\n",
       "      <td>TRAV13-1*01</td>\n",
       "      <td>TRAJ48*01</td>\n",
       "      <td>HomoSapiens</td>\n",
       "      <td>HLA-B*07:02</td>\n",
       "      <td>B2M</td>\n",
       "      <td>MHCI</td>\n",
       "      <td>RPHERNGFTVL</td>\n",
       "      <td>pp65</td>\n",
       "      <td>CMV</td>\n",
       "      <td>PMID:22323539</td>\n",
       "      <td>{\"frequency\": \"3/3\", \"identification\": \"antige...</td>\n",
       "      <td>{\"cell.subset\": \"CD8+\", \"clone.id\": \"\", \"donor...</td>\n",
       "      <td>{\"cdr3\": \"CAASIGDFGNEKLTF\", \"cdr3_old\": \"CAASI...</td>\n",
       "      <td>1</td>\n",
       "    </tr>\n",
       "    <tr>\n",
       "      <th>74845</th>\n",
       "      <td>24877</td>\n",
       "      <td>TRB</td>\n",
       "      <td>CASSPYRNTEAFF</td>\n",
       "      <td>TRBV4-3*01</td>\n",
       "      <td>TRBJ1-1*01</td>\n",
       "      <td>HomoSapiens</td>\n",
       "      <td>HLA-B*07:02</td>\n",
       "      <td>B2M</td>\n",
       "      <td>MHCI</td>\n",
       "      <td>RPHERNGFTVL</td>\n",
       "      <td>pp65</td>\n",
       "      <td>CMV</td>\n",
       "      <td>PMID:22323539</td>\n",
       "      <td>{\"frequency\": \"3/3\", \"identification\": \"antige...</td>\n",
       "      <td>{\"cell.subset\": \"CD8+\", \"clone.id\": \"\", \"donor...</td>\n",
       "      <td>{\"cdr3\": \"CASSPYRNTEAFF\", \"cdr3_old\": \"CASSPYR...</td>\n",
       "      <td>1</td>\n",
       "    </tr>\n",
       "  </tbody>\n",
       "</table>\n",
       "<p>77676 rows × 17 columns</p>\n",
       "</div>"
      ],
      "text/plain": [
       "       complex.id Gene                 CDR3            V           J  \\\n",
       "62277           0  TRB       CSARGEAITEKLFF  TRBV20-1*01  TRBJ1-4*01   \n",
       "18631           0  TRB       CASSLGWLNSDYTF    TRBV16*01  TRBJ1-2*01   \n",
       "18630           0  TRB       CASRRQLSNERLFF    TRBV16*01  TRBJ1-4*01   \n",
       "18629           0  TRB       CASSLDSGDTEVFF    TRBV16*01  TRBJ1-1*01   \n",
       "18628           0  TRB       CASSLDAGNQAPLF    TRBV16*01  TRBJ1-5*01   \n",
       "...           ...  ...                  ...          ...         ...   \n",
       "74805       24875  TRB         CAWGTLATEQYF    TRBV28*01  TRBJ2-7*01   \n",
       "74806       24876  TRA     CAMSLYYGGSQGNLIF  TRAV12-3*01   TRAJ42*01   \n",
       "74807       24876  TRB  CASSLEIFGGIADTDTQYF  TRBV11-2*01  TRBJ2-3*01   \n",
       "74844       24877  TRA      CAASIGDFGNEKLTF  TRAV13-1*01   TRAJ48*01   \n",
       "74845       24877  TRB        CASSPYRNTEAFF   TRBV4-3*01  TRBJ1-1*01   \n",
       "\n",
       "           Species        MHC A MHC B MHC class      Epitope Epitope gene  \\\n",
       "62277  HomoSapiens  HLA-A*02:01   B2M      MHCI    GLCTLVAML        BMLF1   \n",
       "18631  MusMusculus        H-2Kb   B2M      MHCI     RALEYKNL          IE3   \n",
       "18630  MusMusculus        H-2Kb   B2M      MHCI     RALEYKNL          IE3   \n",
       "18629  MusMusculus        H-2Kb   B2M      MHCI     RALEYKNL          IE3   \n",
       "18628  MusMusculus        H-2Kb   B2M      MHCI     RALEYKNL          IE3   \n",
       "...            ...          ...   ...       ...          ...          ...   \n",
       "74805  HomoSapiens     HLA-A*02   B2M      MHCI    RMFPNAPYL          WT1   \n",
       "74806  HomoSapiens     HLA-A*02   B2M      MHCI    KIFGSLAFL        ERBB2   \n",
       "74807  HomoSapiens     HLA-A*02   B2M      MHCI    KIFGSLAFL        ERBB2   \n",
       "74844  HomoSapiens  HLA-B*07:02   B2M      MHCI  RPHERNGFTVL         pp65   \n",
       "74845  HomoSapiens  HLA-B*07:02   B2M      MHCI  RPHERNGFTVL         pp65   \n",
       "\n",
       "      Epitope species      Reference  \\\n",
       "62277             EBV  PMID:24512815   \n",
       "18631            MCMV  PMID:31818981   \n",
       "18630            MCMV  PMID:31818981   \n",
       "18629            MCMV  PMID:31818981   \n",
       "18628            MCMV  PMID:31818981   \n",
       "...               ...            ...   \n",
       "74805     HomoSapiens  PMID:23637823   \n",
       "74806     HomoSapiens  PMID:23637823   \n",
       "74807     HomoSapiens  PMID:23637823   \n",
       "74844             CMV  PMID:22323539   \n",
       "74845             CMV  PMID:22323539   \n",
       "\n",
       "                                                  Method  \\\n",
       "62277  {\"frequency\": \"43/60\", \"identification\": \"anti...   \n",
       "18631  {\"frequency\": \"3/33\", \"identification\": \"tetra...   \n",
       "18630  {\"frequency\": \"3/33\", \"identification\": \"tetra...   \n",
       "18629  {\"frequency\": \"6/33\", \"identification\": \"tetra...   \n",
       "18628  {\"frequency\": \"2/84\", \"identification\": \"tetra...   \n",
       "...                                                  ...   \n",
       "74805  {\"frequency\": \"1/4\", \"identification\": \"multim...   \n",
       "74806  {\"frequency\": \"\", \"identification\": \"multimer-...   \n",
       "74807  {\"frequency\": \"\", \"identification\": \"multimer-...   \n",
       "74844  {\"frequency\": \"3/3\", \"identification\": \"antige...   \n",
       "74845  {\"frequency\": \"3/3\", \"identification\": \"antige...   \n",
       "\n",
       "                                                    Meta  \\\n",
       "62277  {\"cell.subset\": \"CD8\", \"clone.id\": \"\", \"donor....   \n",
       "18631  {\"cell.subset\": \"CD8+\", \"clone.id\": \"\", \"donor...   \n",
       "18630  {\"cell.subset\": \"CD8+\", \"clone.id\": \"\", \"donor...   \n",
       "18629  {\"cell.subset\": \"CD8+\", \"clone.id\": \"\", \"donor...   \n",
       "18628  {\"cell.subset\": \"CD8+\", \"clone.id\": \"\", \"donor...   \n",
       "...                                                  ...   \n",
       "74805  {\"cell.subset\": \"CD8+\", \"clone.id\": \"TCR5A\", \"...   \n",
       "74806  {\"cell.subset\": \"CD8+\", \"clone.id\": \"4A\", \"don...   \n",
       "74807  {\"cell.subset\": \"CD8+\", \"clone.id\": \"4A\", \"don...   \n",
       "74844  {\"cell.subset\": \"CD8+\", \"clone.id\": \"\", \"donor...   \n",
       "74845  {\"cell.subset\": \"CD8+\", \"clone.id\": \"\", \"donor...   \n",
       "\n",
       "                                                 CDR3fix  Score  \n",
       "62277  {\"cdr3\": \"CSARGEAITEKLFF\", \"cdr3_old\": \"CSARGE...      3  \n",
       "18631  {\"cdr3\": \"CASSLGWLNSDYTF\", \"cdr3_old\": \"CASSLG...      1  \n",
       "18630  {\"cdr3\": \"CASRRQLSNERLFF\", \"cdr3_old\": \"CASRRQ...      1  \n",
       "18629  {\"cdr3\": \"CASSLDSGDTEVFF\", \"cdr3_old\": \"CASSLD...      1  \n",
       "18628  {\"cdr3\": \"CASSLDAGNQAPLF\", \"cdr3_old\": \"CASSLD...      0  \n",
       "...                                                  ...    ...  \n",
       "74805  {\"cdr3\": \"CAWGTLATEQYF\", \"cdr3_old\": \"CAWGTLAT...      3  \n",
       "74806  {\"cdr3\": \"CAMSLYYGGSQGNLIF\", \"cdr3_old\": \"CAMS...      2  \n",
       "74807  {\"cdr3\": \"CASSLEIFGGIADTDTQYF\", \"cdr3_old\": \"C...      2  \n",
       "74844  {\"cdr3\": \"CAASIGDFGNEKLTF\", \"cdr3_old\": \"CAASI...      1  \n",
       "74845  {\"cdr3\": \"CASSPYRNTEAFF\", \"cdr3_old\": \"CASSPYR...      1  \n",
       "\n",
       "[77676 rows x 17 columns]"
      ]
     },
     "execution_count": 30,
     "metadata": {},
     "output_type": "execute_result"
    }
   ],
   "source": [
    "data"
   ]
  }
 ],
 "metadata": {
  "kernelspec": {
   "display_name": "Python 3",
   "language": "python",
   "name": "python3"
  },
  "language_info": {
   "codemirror_mode": {
    "name": "ipython",
    "version": 3
   },
   "file_extension": ".py",
   "mimetype": "text/x-python",
   "name": "python",
   "nbconvert_exporter": "python",
   "pygments_lexer": "ipython3",
   "version": "3.8.5"
  }
 },
 "nbformat": 4,
 "nbformat_minor": 4
}
