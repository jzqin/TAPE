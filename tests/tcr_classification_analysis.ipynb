{
 "cells": [
  {
   "cell_type": "code",
   "execution_count": null,
   "metadata": {},
   "outputs": [],
   "source": [
    "# Jason Qin\n",
    "# 04/26/21"
   ]
  },
  {
   "cell_type": "markdown",
   "metadata": {},
   "source": [
    "# Analyzing Classification Data\n",
    "\n",
    "Classification results from running TAPE on VDJdb TCR-antigen data."
   ]
  },
  {
   "cell_type": "code",
   "execution_count": 49,
   "metadata": {},
   "outputs": [],
   "source": [
    "import numpy as np\n",
    "import pandas as pd\n",
    "import seaborn as sns\n",
    "import matplotlib.pyplot as plt\n",
    "\n",
    "from scipy.spatial.distance import cdist, hamming\n",
    "import scipy.stats\n",
    "import sklearn.metrics\n",
    "\n",
    "from tape.datasets import FastaDataset, pad_sequences\n",
    "from tape.tokenizers import TAPETokenizer"
   ]
  },
  {
   "cell_type": "markdown",
   "metadata": {},
   "source": [
    "### Analyze Performance of Classification Model on Validation Data"
   ]
  },
  {
   "cell_type": "code",
   "execution_count": 168,
   "metadata": {},
   "outputs": [],
   "source": [
    "data_file = '/group/ag_cmb/scratch/jqin/projects/tape/results/tcr_classification_transformer_21-05-04-17-05-03_317740/eval_predictions_050521_010157.txt'\n",
    "data = pd.read_csv(data_file, sep='\\t')"
   ]
  },
  {
   "cell_type": "code",
   "execution_count": 169,
   "metadata": {},
   "outputs": [
    {
     "name": "stderr",
     "output_type": "stream",
     "text": [
      "<ipython-input-169-8978dd737fa3>:7: FutureWarning: The default value of regex will change from True to False in a future version.\n",
      "  data[col] = data[col].str.replace(r'.*\\[', '')\n",
      "<ipython-input-169-8978dd737fa3>:8: FutureWarning: The default value of regex will change from True to False in a future version.\n",
      "  data[col] = data[col].str.replace(r'\\].*', '')\n"
     ]
    }
   ],
   "source": [
    "# clean and organize data\n",
    "column_names = ['input', 'target', 'prediction', 'index']\n",
    "for col in column_names:\n",
    "    # remove all non-numeric parts of data\n",
    "    if type(data[col][0]) != str:\n",
    "        continue\n",
    "    data[col] = data[col].str.replace(r'.*\\[', '')\n",
    "    data[col] = data[col].str.replace(r'\\].*', '')\n",
    "    data[col] = data[col].str.replace(r'        ', ',')\n",
    "    data[col] = data[col].str.strip()\n",
    "    \n",
    "    # convert comma-separated string of ints to list of ints\n",
    "    data[col] = [np.array([float(y.strip('.')) for y in x]) for x in data[col].str.split(',')]\n",
    "\n",
    "data = data.sort_values('index')"
   ]
  },
  {
   "cell_type": "code",
   "execution_count": 170,
   "metadata": {},
   "outputs": [],
   "source": [
    "inputs = data['input']\n",
    "predictions = data['prediction']\n",
    "targets = data['target']\n",
    "\n",
    "# round predictions to nearest int\n",
    "preds_round = np.rint(predictions)"
   ]
  },
  {
   "cell_type": "code",
   "execution_count": 172,
   "metadata": {},
   "outputs": [
    {
     "name": "stderr",
     "output_type": "stream",
     "text": [
      "/group/ag_cmb/scratch/jqin/miniconda3/envs/tape/lib/python3.8/site-packages/seaborn/_decorators.py:36: FutureWarning: Pass the following variables as keyword args: x, y. From version 0.12, the only valid positional argument will be `data`, and passing other arguments without an explicit keyword will result in an error or misinterpretation.\n",
      "  warnings.warn(\n"
     ]
    },
    {
     "data": {
      "text/plain": [
       "<AxesSubplot:xlabel='target', ylabel='prediction'>"
      ]
     },
     "execution_count": 172,
     "metadata": {},
     "output_type": "execute_result"
    },
    {
     "data": {
      "image/png": "[encoded data removed]",
      "text/plain": [
       "<Figure size 432x288 with 1 Axes>"
      ]
     },
     "metadata": {
      "needs_background": "light"
     },
     "output_type": "display_data"
    }
   ],
   "source": [
    "# how do predictions compare to targets?\n",
    "sns.scatterplot(targets, predictions, alpha=0.01)"
   ]
  },
  {
   "cell_type": "code",
   "execution_count": 199,
   "metadata": {},
   "outputs": [],
   "source": [
    "# calculate true positives, true negatives, false pos, and false neg\n",
    "preds_confusion_matrix = sklearn.metrics.confusion_matrix(targets, preds_round)\n",
    "\n",
    "true_neg = preds_confusion_matrix[0,0]\n",
    "false_pos = preds_confusion_matrix[0,1]\n",
    "false_neg = preds_confusion_matrix[1,0]\n",
    "true_pos = preds_confusion_matrix[1,1]\n",
    "\n",
    "true_neg_rate = true_neg / (true_neg + false_pos)\n",
    "false_pos_rate = false_pos / (true_neg + false_pos)\n",
    "false_neg_rate = false_neg / (true_pos + false_neg)\n",
    "true_pos_rate = true_pos / (true_pos + false_neg)"
   ]
  },
  {
   "cell_type": "code",
   "execution_count": 174,
   "metadata": {},
   "outputs": [
    {
     "name": "stdout",
     "output_type": "stream",
     "text": [
      "True Negative Rate: 0.8317242547425474\n",
      "False Positive Rate: 0.16827574525745256\n",
      "False Negative Rate: 0.1676829268292683\n",
      "True Positive Rate: 0.8323170731707317\n"
     ]
    }
   ],
   "source": [
    "print('True Negative Rate: {}'.format(true_neg_rate))\n",
    "print('False Positive Rate: {}'.format(false_pos_rate))\n",
    "print('False Negative Rate: {}'.format(false_neg_rate))\n",
    "print('True Positive Rate: {}'.format(true_pos_rate))"
   ]
  },
  {
   "cell_type": "markdown",
   "metadata": {},
   "source": [
    "### Analyze uniqueness of CDR3 and antigen sequences in training data"
   ]
  },
  {
   "cell_type": "code",
   "execution_count": 70,
   "metadata": {},
   "outputs": [],
   "source": [
    "# relevant data files\n",
    "data_dir = '/group/ag_cmb/scratch/jqin/projects/tape/data/tcr'\n",
    "cdr3_train_file = data_dir + '/cdr3_train.fasta'\n",
    "antigen_train_file = data_dir + '/antigen_train.fasta'\n",
    "cdr3_valid_file = data_dir + '/cdr3_valid.fasta'\n",
    "antigen_valid_file = data_dir + '/antigen_valid.fasta'\n",
    "\n",
    "# set up tokenizer\n",
    "tokenizer = TAPETokenizer(vocab='iupac')\n",
    "\n",
    "# load relevant data\n",
    "cdr3_train_data_uncleaned = FastaDataset(cdr3_train_file, in_memory=True)\n",
    "antigen_train_data_uncleaned = FastaDataset(antigen_train_file, in_memory=True)"
   ]
  },
  {
   "cell_type": "code",
   "execution_count": 73,
   "metadata": {},
   "outputs": [],
   "source": [
    "# organize data\n",
    "cdr3_train_data = [tuple(tokenizer.encode(x['primary'])) for x in cdr3_train_data_uncleaned]\n",
    "antigen_train_data = [tuple(tokenizer.encode(x['primary'])) for x in antigen_train_data_uncleaned]"
   ]
  },
  {
   "cell_type": "code",
   "execution_count": 79,
   "metadata": {},
   "outputs": [],
   "source": [
    "# find how many times each CDR3 sequence appears in the training data\n",
    "cdr3_train_counts = {}\n",
    "for cdr3 in cdr3_train_data:\n",
    "    if cdr3 not in cdr3_train_counts.keys():\n",
    "        cdr3_train_counts[cdr3] = 1\n",
    "    else:\n",
    "        cdr3_train_counts[cdr3] += 1\n",
    "        \n",
    "# find how many times each antigen sequence appears in the training data\n",
    "antigen_train_counts = {}\n",
    "for antigen in antigen_train_data:\n",
    "    if antigen not in antigen_train_counts.keys():\n",
    "        antigen_train_counts[antigen] = 1\n",
    "    else:\n",
    "        antigen_train_counts[antigen] += 1"
   ]
  },
  {
   "cell_type": "code",
   "execution_count": 94,
   "metadata": {},
   "outputs": [],
   "source": [
    "# find frequency of how many sequences are unique vs. duplicates\n",
    "cdr3_train_unique_freq = []         # number of sequences with each copy #\n",
    "cdr3_train_weighted_freq = []       # num of seq with each copy #, weighted by copy #\n",
    "for key, item in cdr3_train_counts.items():\n",
    "    cdr3_train_unique_freq += [item]\n",
    "    cdr3_train_weighted_freq += item*[item]\n",
    "\n",
    "antigen_train_unique_freq = []\n",
    "antigen_train_weighted_freq = []\n",
    "for key, item in antigen_train_counts.items():\n",
    "    antigen_train_unique_freq += [item]\n",
    "    antigen_train_weighted_freq += item*[item]"
   ]
  },
  {
   "cell_type": "code",
   "execution_count": 104,
   "metadata": {},
   "outputs": [
    {
     "data": {
      "text/html": [
       "<div>\n",
       "<style scoped>\n",
       "    .dataframe tbody tr th:only-of-type {\n",
       "        vertical-align: middle;\n",
       "    }\n",
       "\n",
       "    .dataframe tbody tr th {\n",
       "        vertical-align: top;\n",
       "    }\n",
       "\n",
       "    .dataframe thead th {\n",
       "        text-align: right;\n",
       "    }\n",
       "</style>\n",
       "<table border=\"1\" class=\"dataframe\">\n",
       "  <thead>\n",
       "    <tr style=\"text-align: right;\">\n",
       "      <th></th>\n",
       "      <th>1</th>\n",
       "      <th>2</th>\n",
       "      <th>3</th>\n",
       "      <th>4</th>\n",
       "      <th>5</th>\n",
       "      <th>6</th>\n",
       "      <th>7</th>\n",
       "      <th>8</th>\n",
       "      <th>9</th>\n",
       "      <th>10</th>\n",
       "      <th>...</th>\n",
       "      <th>92</th>\n",
       "      <th>95</th>\n",
       "      <th>102</th>\n",
       "      <th>117</th>\n",
       "      <th>124</th>\n",
       "      <th>127</th>\n",
       "      <th>138</th>\n",
       "      <th>142</th>\n",
       "      <th>145</th>\n",
       "      <th>323</th>\n",
       "    </tr>\n",
       "  </thead>\n",
       "  <tbody>\n",
       "    <tr>\n",
       "      <th>0</th>\n",
       "      <td>45931</td>\n",
       "      <td>4636</td>\n",
       "      <td>1162</td>\n",
       "      <td>489</td>\n",
       "      <td>236</td>\n",
       "      <td>125</td>\n",
       "      <td>91</td>\n",
       "      <td>70</td>\n",
       "      <td>37</td>\n",
       "      <td>45</td>\n",
       "      <td>...</td>\n",
       "      <td>2</td>\n",
       "      <td>1</td>\n",
       "      <td>1</td>\n",
       "      <td>1</td>\n",
       "      <td>1</td>\n",
       "      <td>1</td>\n",
       "      <td>1</td>\n",
       "      <td>1</td>\n",
       "      <td>1</td>\n",
       "      <td>1</td>\n",
       "    </tr>\n",
       "  </tbody>\n",
       "</table>\n",
       "<p>1 rows × 60 columns</p>\n",
       "</div>"
      ],
      "text/plain": [
       "     1     2     3    4    5    6    7    8    9    10   ...  92   95   102  \\\n",
       "0  45931  4636  1162  489  236  125   91   70   37   45  ...    2    1    1   \n",
       "\n",
       "   117  124  127  138  142  145  323  \n",
       "0    1    1    1    1    1    1    1  \n",
       "\n",
       "[1 rows x 60 columns]"
      ]
     },
     "execution_count": 104,
     "metadata": {},
     "output_type": "execute_result"
    }
   ],
   "source": [
    "# table of CDR3 sequence frequency in training data\n",
    "pd.value_counts(cdr3_train_unique_freq).to_frame().sort_index().transpose()"
   ]
  },
  {
   "cell_type": "code",
   "execution_count": 95,
   "metadata": {},
   "outputs": [
    {
     "data": {
      "text/plain": [
       "<AxesSubplot:ylabel='Density'>"
      ]
     },
     "execution_count": 95,
     "metadata": {},
     "output_type": "execute_result"
    },
    {
     "data": {
      "image/png": "[encoded data removed]",
      "text/plain": [
       "<Figure size 432x288 with 1 Axes>"
      ]
     },
     "metadata": {
      "needs_background": "light"
     },
     "output_type": "display_data"
    }
   ],
   "source": [
    "# density plot of CDR3 sequence frequency in training data\n",
    "# density is weighted by how much each sequence appears in training data\n",
    "sns.kdeplot(cdr3_train_weighted_freq)"
   ]
  },
  {
   "cell_type": "code",
   "execution_count": 107,
   "metadata": {},
   "outputs": [
    {
     "data": {
      "text/html": [
       "<div>\n",
       "<style scoped>\n",
       "    .dataframe tbody tr th:only-of-type {\n",
       "        vertical-align: middle;\n",
       "    }\n",
       "\n",
       "    .dataframe tbody tr th {\n",
       "        vertical-align: top;\n",
       "    }\n",
       "\n",
       "    .dataframe thead th {\n",
       "        text-align: right;\n",
       "    }\n",
       "</style>\n",
       "<table border=\"1\" class=\"dataframe\">\n",
       "  <thead>\n",
       "    <tr style=\"text-align: right;\">\n",
       "      <th></th>\n",
       "      <th>1</th>\n",
       "      <th>2</th>\n",
       "      <th>3</th>\n",
       "      <th>4</th>\n",
       "      <th>5</th>\n",
       "      <th>6</th>\n",
       "      <th>7</th>\n",
       "      <th>8</th>\n",
       "      <th>9</th>\n",
       "      <th>10</th>\n",
       "      <th>...</th>\n",
       "      <th>871</th>\n",
       "      <th>1211</th>\n",
       "      <th>1355</th>\n",
       "      <th>1507</th>\n",
       "      <th>2414</th>\n",
       "      <th>2449</th>\n",
       "      <th>3171</th>\n",
       "      <th>6527</th>\n",
       "      <th>8810</th>\n",
       "      <th>25160</th>\n",
       "    </tr>\n",
       "  </thead>\n",
       "  <tbody>\n",
       "    <tr>\n",
       "      <th>0</th>\n",
       "      <td>45</td>\n",
       "      <td>96</td>\n",
       "      <td>15</td>\n",
       "      <td>18</td>\n",
       "      <td>4</td>\n",
       "      <td>6</td>\n",
       "      <td>9</td>\n",
       "      <td>5</td>\n",
       "      <td>3</td>\n",
       "      <td>5</td>\n",
       "      <td>...</td>\n",
       "      <td>1</td>\n",
       "      <td>1</td>\n",
       "      <td>1</td>\n",
       "      <td>1</td>\n",
       "      <td>1</td>\n",
       "      <td>1</td>\n",
       "      <td>1</td>\n",
       "      <td>1</td>\n",
       "      <td>1</td>\n",
       "      <td>1</td>\n",
       "    </tr>\n",
       "  </tbody>\n",
       "</table>\n",
       "<p>1 rows × 112 columns</p>\n",
       "</div>"
      ],
      "text/plain": [
       "   1      2      3      4      5      6      7      8      9      10     ...  \\\n",
       "0     45     96     15     18      4      6      9      5      3      5  ...   \n",
       "\n",
       "   871    1211   1355   1507   2414   2449   3171   6527   8810   25160  \n",
       "0      1      1      1      1      1      1      1      1      1      1  \n",
       "\n",
       "[1 rows x 112 columns]"
      ]
     },
     "execution_count": 107,
     "metadata": {},
     "output_type": "execute_result"
    }
   ],
   "source": [
    "# table of antigen sequence frequency in training data\n",
    "pd.value_counts(antigen_train_unique_freq).to_frame().sort_index().transpose()"
   ]
  },
  {
   "cell_type": "code",
   "execution_count": 105,
   "metadata": {},
   "outputs": [
    {
     "data": {
      "text/plain": [
       "<AxesSubplot:ylabel='Density'>"
      ]
     },
     "execution_count": 105,
     "metadata": {},
     "output_type": "execute_result"
    },
    {
     "data": {
      "image/png": "[encoded data removed]",
      "text/plain": [
       "<Figure size 432x288 with 1 Axes>"
      ]
     },
     "metadata": {
      "needs_background": "light"
     },
     "output_type": "display_data"
    }
   ],
   "source": [
    "# density plot of CDR3 sequence frequency in training data\n",
    "# density is weighted by how much each sequence appears in training data\n",
    "sns.kdeplot(antigen_train_weighted_freq, bw_adjust=0.1)"
   ]
  },
  {
   "cell_type": "markdown",
   "metadata": {},
   "source": [
    "### Compare validation classification accuracy to frequency of appearance in training data"
   ]
  },
  {
   "cell_type": "code",
   "execution_count": 175,
   "metadata": {},
   "outputs": [],
   "source": [
    "# create dictionaries that map all unique CDR3 and antigen sequences\n",
    "# to their targets and predictions of classification\n",
    "cdr3_valid_preds = {}\n",
    "cdr3_valid_targets = {}\n",
    "antigen_valid_preds = {}\n",
    "antigen_valid_targets = {}\n",
    "\n",
    "for inp, tar, pred in zip(inputs, targets, preds_round):\n",
    "    sep = np.where(inp == 3)[0]\n",
    "    cdr3_sep = sep[0]      # where does CDR3 seq end and antigen begin?\n",
    "    antigen_sep = sep[1]   # where does antigen seq end and padding begin?\n",
    "    cdr3 = tuple(inp[:cdr3_sep+1])\n",
    "    antigen = tuple(np.concatenate(([2], inp[cdr3_sep+1:antigen_sep+1])))   # truncate to only antigen\n",
    "    if cdr3 not in cdr3_valid_preds.keys():\n",
    "        cdr3_valid_preds[cdr3] = [pred]\n",
    "        cdr3_valid_targets[cdr3] = [tar]\n",
    "    else:\n",
    "        cdr3_valid_preds[cdr3] += [pred]\n",
    "        cdr3_valid_targets[cdr3] += [tar]\n",
    "        \n",
    "    if antigen not in antigen_valid_preds.keys():\n",
    "        antigen_valid_preds[antigen] = [pred]\n",
    "        antigen_valid_targets[antigen] = [tar]\n",
    "    else:\n",
    "        antigen_valid_preds[antigen] += [pred]\n",
    "        antigen_valid_targets[antigen] += [tar]"
   ]
  },
  {
   "cell_type": "code",
   "execution_count": 176,
   "metadata": {},
   "outputs": [],
   "source": [
    "# find accuracy of model performance on each CDR3 sequence\n",
    "cdr3_valid_accuracy = {}\n",
    "for cdr3 in cdr3_valid_preds.keys():\n",
    "    pred = cdr3_valid_preds[cdr3]\n",
    "    tar = cdr3_valid_targets[cdr3]\n",
    "    matches = np.sum(np.logical_xor(pred, tar))\n",
    "    accuracy = matches / float(len(pred))\n",
    "    cdr3_valid_accuracy[cdr3] = accuracy\n",
    "\n",
    "antigen_valid_accuracy = {}\n",
    "for antigen in antigen_valid_preds.keys():\n",
    "    pred = antigen_valid_preds[antigen]\n",
    "    tar = antigen_valid_targets[antigen]\n",
    "    matches = np.sum(np.logical_xor(pred, tar))\n",
    "    accuracy = matches / float(len(pred))\n",
    "    antigen_valid_accuracy[antigen] = accuracy"
   ]
  },
  {
   "cell_type": "code",
   "execution_count": 177,
   "metadata": {},
   "outputs": [],
   "source": [
    "cdr3_valid_accuracy_list = []\n",
    "cdr3_valid_freq_in_train = []\n",
    "for cdr3 in cdr3_valid_accuracy.keys():\n",
    "    cdr3_valid_accuracy_list += [cdr3_valid_accuracy[cdr3]]\n",
    "    if cdr3 not in cdr3_train_counts.keys():\n",
    "        cdr3_valid_freq_in_train += [0]\n",
    "    else:\n",
    "        cdr3_valid_freq_in_train += [cdr3_train_counts[cdr3]]\n",
    "        \n",
    "antigen_valid_accuracy_list = []\n",
    "antigen_valid_freq_in_train = []\n",
    "for antigen in antigen_valid_accuracy.keys():\n",
    "    antigen_valid_accuracy_list += [antigen_valid_accuracy[antigen]]\n",
    "    if antigen not in antigen_train_counts.keys():\n",
    "        antigen_valid_freq_in_train += [0]\n",
    "    else:\n",
    "        antigen_valid_freq_in_train += [antigen_train_counts[antigen]]\n",
    "        \n",
    "cdr3_valid_accuracy_list = np.array(cdr3_valid_accuracy_list)\n",
    "cdr3_valid_freq_in_train = np.array(cdr3_valid_freq_in_train)\n",
    "antigen_valid_accuracy_list = np.array(antigen_valid_accuracy_list)\n",
    "antigen_valid_freq_in_train = np.array(antigen_valid_freq_in_train)"
   ]
  },
  {
   "cell_type": "code",
   "execution_count": 178,
   "metadata": {},
   "outputs": [
    {
     "name": "stderr",
     "output_type": "stream",
     "text": [
      "/group/ag_cmb/scratch/jqin/miniconda3/envs/tape/lib/python3.8/site-packages/seaborn/_decorators.py:36: FutureWarning: Pass the following variables as keyword args: x, y. From version 0.12, the only valid positional argument will be `data`, and passing other arguments without an explicit keyword will result in an error or misinterpretation.\n",
      "  warnings.warn(\n"
     ]
    },
    {
     "data": {
      "text/plain": [
       "<AxesSubplot:>"
      ]
     },
     "execution_count": 178,
     "metadata": {},
     "output_type": "execute_result"
    },
    {
     "data": {
      "image/png": "[encoded data removed]",
      "text/plain": [
       "<Figure size 432x288 with 1 Axes>"
      ]
     },
     "metadata": {
      "needs_background": "light"
     },
     "output_type": "display_data"
    }
   ],
   "source": [
    "sns.regplot(np.log(cdr3_valid_freq_in_train+1), cdr3_valid_accuracy_list)"
   ]
  },
  {
   "cell_type": "code",
   "execution_count": 179,
   "metadata": {},
   "outputs": [
    {
     "name": "stderr",
     "output_type": "stream",
     "text": [
      "/group/ag_cmb/scratch/jqin/miniconda3/envs/tape/lib/python3.8/site-packages/seaborn/_decorators.py:36: FutureWarning: Pass the following variables as keyword args: x, y. From version 0.12, the only valid positional argument will be `data`, and passing other arguments without an explicit keyword will result in an error or misinterpretation.\n",
      "  warnings.warn(\n"
     ]
    },
    {
     "data": {
      "text/plain": [
       "<AxesSubplot:>"
      ]
     },
     "execution_count": 179,
     "metadata": {},
     "output_type": "execute_result"
    },
    {
     "data": {
      "image/png": "[encoded data removed]",
      "text/plain": [
       "<Figure size 432x288 with 1 Axes>"
      ]
     },
     "metadata": {
      "needs_background": "light"
     },
     "output_type": "display_data"
    }
   ],
   "source": [
    "sns.regplot(np.log(antigen_valid_freq_in_train+1), antigen_valid_accuracy_list)"
   ]
  },
  {
   "cell_type": "markdown",
   "metadata": {},
   "source": [
    "### Compare model performance across different classes of synthetic data"
   ]
  },
  {
   "cell_type": "code",
   "execution_count": 197,
   "metadata": {},
   "outputs": [
    {
     "name": "stderr",
     "output_type": "stream",
     "text": [
      "/group/ag_cmb/scratch/jqin/miniconda3/envs/tape/lib/python3.8/site-packages/seaborn/_decorators.py:36: FutureWarning: Pass the following variable as a keyword arg: x. From version 0.12, the only valid positional argument will be `data`, and passing other arguments without an explicit keyword will result in an error or misinterpretation.\n",
      "  warnings.warn(\n"
     ]
    },
    {
     "data": {
      "text/plain": [
       "<AxesSubplot:xlabel='prediction'>"
      ]
     },
     "execution_count": 197,
     "metadata": {},
     "output_type": "execute_result"
    },
    {
     "data": {
      "image/png": "[encoded data removed]",
      "text/plain": [
       "<Figure size 432x288 with 1 Axes>"
      ]
     },
     "metadata": {
      "needs_background": "light"
     },
     "output_type": "display_data"
    }
   ],
   "source": [
    "sns.violinplot(predictions[:3936])"
   ]
  },
  {
   "cell_type": "code",
   "execution_count": 194,
   "metadata": {},
   "outputs": [
    {
     "name": "stderr",
     "output_type": "stream",
     "text": [
      "/group/ag_cmb/scratch/jqin/miniconda3/envs/tape/lib/python3.8/site-packages/seaborn/_decorators.py:36: FutureWarning: Pass the following variable as a keyword arg: x. From version 0.12, the only valid positional argument will be `data`, and passing other arguments without an explicit keyword will result in an error or misinterpretation.\n",
      "  warnings.warn(\n"
     ]
    },
    {
     "data": {
      "text/plain": [
       "<AxesSubplot:xlabel='prediction'>"
      ]
     },
     "execution_count": 194,
     "metadata": {},
     "output_type": "execute_result"
    },
    {
     "data": {
      "image/png": "[encoded data removed]",
      "text/plain": [
       "<Figure size 432x288 with 1 Axes>"
      ]
     },
     "metadata": {
      "needs_background": "light"
     },
     "output_type": "display_data"
    }
   ],
   "source": [
    "sns.violinplot(predictions[3936:7872])"
   ]
  },
  {
   "cell_type": "code",
   "execution_count": 195,
   "metadata": {},
   "outputs": [
    {
     "name": "stderr",
     "output_type": "stream",
     "text": [
      "/group/ag_cmb/scratch/jqin/miniconda3/envs/tape/lib/python3.8/site-packages/seaborn/_decorators.py:36: FutureWarning: Pass the following variable as a keyword arg: x. From version 0.12, the only valid positional argument will be `data`, and passing other arguments without an explicit keyword will result in an error or misinterpretation.\n",
      "  warnings.warn(\n"
     ]
    },
    {
     "data": {
      "text/plain": [
       "<AxesSubplot:xlabel='prediction'>"
      ]
     },
     "execution_count": 195,
     "metadata": {},
     "output_type": "execute_result"
    },
    {
     "data": {
      "image/png": "[encoded data removed]",
      "text/plain": [
       "<Figure size 432x288 with 1 Axes>"
      ]
     },
     "metadata": {
      "needs_background": "light"
     },
     "output_type": "display_data"
    }
   ],
   "source": [
    "sns.violinplot(predictions[7872:11808])"
   ]
  },
  {
   "cell_type": "code",
   "execution_count": 196,
   "metadata": {},
   "outputs": [
    {
     "name": "stderr",
     "output_type": "stream",
     "text": [
      "/group/ag_cmb/scratch/jqin/miniconda3/envs/tape/lib/python3.8/site-packages/seaborn/_decorators.py:36: FutureWarning: Pass the following variable as a keyword arg: x. From version 0.12, the only valid positional argument will be `data`, and passing other arguments without an explicit keyword will result in an error or misinterpretation.\n",
      "  warnings.warn(\n"
     ]
    },
    {
     "data": {
      "text/plain": [
       "<AxesSubplot:xlabel='prediction'>"
      ]
     },
     "execution_count": 196,
     "metadata": {},
     "output_type": "execute_result"
    },
    {
     "data": {
      "image/png": "[encoded data removed]",
      "text/plain": [
       "<Figure size 432x288 with 1 Axes>"
      ]
     },
     "metadata": {
      "needs_background": "light"
     },
     "output_type": "display_data"
    }
   ],
   "source": [
    "sns.violinplot(predictions[11808:])"
   ]
  },
  {
   "cell_type": "code",
   "execution_count": 203,
   "metadata": {},
   "outputs": [],
   "source": [
    "# find confusion matrix of positive and permuted negative data\n",
    "preds_subset_confusion_matrix = sklearn.metrics.confusion_matrix(targets[:7872], preds_round[:7872])\n",
    "\n",
    "true_neg_subset = preds_subset_confusion_matrix[0,0]\n",
    "false_pos_subset = preds_subset_confusion_matrix[0,1]\n",
    "false_neg_subset = preds_subset_confusion_matrix[1,0]\n",
    "true_pos_subset = preds_subset_confusion_matrix[1,1]\n",
    "\n",
    "true_neg_subset_rate = true_neg_subset / (true_neg_subset + false_pos_subset)\n",
    "false_pos_subset_rate = false_pos_subset / (true_neg_subset + false_pos_subset)\n",
    "false_neg_subset_rate = false_neg_subset / (true_pos_subset + false_neg_subset)\n",
    "true_pos_subset_rate = true_pos_subset / (true_pos_subset + false_neg_subset)"
   ]
  },
  {
   "cell_type": "code",
   "execution_count": 204,
   "metadata": {},
   "outputs": [
    {
     "name": "stdout",
     "output_type": "stream",
     "text": [
      "True Negative Subset Rate: 0.5180386178861789\n",
      "False Positive Subset Rate: 0.4819613821138211\n",
      "False Negative Subset Rate: 0.1676829268292683\n",
      "True Positive Subset Rate: 0.8323170731707317\n"
     ]
    }
   ],
   "source": [
    "print('True Negative Subset Rate: {}'.format(true_neg_subset_rate))\n",
    "print('False Positive Subset Rate: {}'.format(false_pos_subset_rate))\n",
    "print('False Negative Subset Rate: {}'.format(false_neg_subset_rate))\n",
    "print('True Positive Subset Rate: {}'.format(true_pos_subset_rate))"
   ]
  },
  {
   "cell_type": "code",
   "execution_count": null,
   "metadata": {},
   "outputs": [],
   "source": []
  },
  {
   "cell_type": "code",
   "execution_count": null,
   "metadata": {},
   "outputs": [],
   "source": []
  },
  {
   "cell_type": "code",
   "execution_count": null,
   "metadata": {},
   "outputs": [],
   "source": []
  },
  {
   "cell_type": "code",
   "execution_count": null,
   "metadata": {},
   "outputs": [],
   "source": []
  },
  {
   "cell_type": "code",
   "execution_count": null,
   "metadata": {},
   "outputs": [],
   "source": []
  },
  {
   "cell_type": "code",
   "execution_count": null,
   "metadata": {},
   "outputs": [],
   "source": []
  },
  {
   "cell_type": "code",
   "execution_count": 4,
   "metadata": {},
   "outputs": [],
   "source": [
    "antigens = data['antigen']\n",
    "predictions = data['prediction']"
   ]
  },
  {
   "cell_type": "code",
   "execution_count": 5,
   "metadata": {},
   "outputs": [],
   "source": [
    "# reduce length of predictions to be closest to each antigen\n",
    "# this lets us find the closest match between the targets and the\n",
    "# generated predictions\n",
    "truncated_predictions = []\n",
    "for antigen, pred in zip(antigens, predictions):\n",
    "    stop_idx = np.where(antigen == 3)[0][0]\n",
    "    if antigen.shape[0] < pred.shape[0]:\n",
    "        pred[stop_idx] = 3\n",
    "        pred = pred[0:(stop_idx+1)]\n",
    "    truncated_predictions += [pred]"
   ]
  },
  {
   "cell_type": "code",
   "execution_count": 26,
   "metadata": {},
   "outputs": [],
   "source": [
    "# compare truncated predictions to the known targets\n",
    "truncated_differences = []\n",
    "for antigen, pred in zip(antigens, truncated_predictions):\n",
    "    antigen = np.expand_dims(antigen, 0)\n",
    "    pred = np.expand_dims(pred, 0)\n",
    "    truncated_differences += [cdist(antigen, pred, metric='hamming').squeeze()]"
   ]
  },
  {
   "cell_type": "code",
   "execution_count": 28,
   "metadata": {},
   "outputs": [],
   "source": [
    "# truncated predictions and Hamming distance scores of truncated predictions\n",
    "# to data frame\n",
    "data['truncated_prediction'] = truncated_predictions\n",
    "data['truncated_difference'] = truncated_differences"
   ]
  },
  {
   "cell_type": "code",
   "execution_count": 45,
   "metadata": {},
   "outputs": [],
   "source": [
    "# find all sequences that were perfectly predicted\n",
    "perf_preds = data[data['truncated_difference'] == 0]['truncated_prediction']"
   ]
  },
  {
   "cell_type": "code",
   "execution_count": 46,
   "metadata": {},
   "outputs": [
    {
     "name": "stdout",
     "output_type": "stream",
     "text": [
      "Number of total sequences predicted: 1174\n",
      "Number of perfect predictions (after truncation): 239\n"
     ]
    }
   ],
   "source": [
    "print('Number of total sequences with predictions: {}'.format(data.shape[0]))\n",
    "print('Number of perfect predictions (after truncation): {}'.format(len(perf_preds)))"
   ]
  },
  {
   "cell_type": "code",
   "execution_count": 3,
   "metadata": {},
   "outputs": [
    {
     "ename": "NameError",
     "evalue": "name 'perf_preds' is not defined",
     "output_type": "error",
     "traceback": [
      "\u001b[0;31m---------------------------------------------------------------------------\u001b[0m",
      "\u001b[0;31mNameError\u001b[0m                                 Traceback (most recent call last)",
      "\u001b[0;32m<ipython-input-3-b3998df7f2b0>\u001b[0m in \u001b[0;36m<module>\u001b[0;34m\u001b[0m\n\u001b[1;32m      1\u001b[0m \u001b[0;31m# how many of the unique sequences are there in those that were\u001b[0m\u001b[0;34m\u001b[0m\u001b[0;34m\u001b[0m\u001b[0;34m\u001b[0m\u001b[0m\n\u001b[1;32m      2\u001b[0m \u001b[0;31m# perfectly predicted?\u001b[0m\u001b[0;34m\u001b[0m\u001b[0;34m\u001b[0m\u001b[0;34m\u001b[0m\u001b[0m\n\u001b[0;32m----> 3\u001b[0;31m \u001b[0munique_perf_preds\u001b[0m \u001b[0;34m=\u001b[0m \u001b[0;34m[\u001b[0m\u001b[0mlist\u001b[0m\u001b[0;34m(\u001b[0m\u001b[0my\u001b[0m\u001b[0;34m)\u001b[0m \u001b[0;32mfor\u001b[0m \u001b[0my\u001b[0m \u001b[0;32min\u001b[0m \u001b[0mset\u001b[0m\u001b[0;34m(\u001b[0m\u001b[0mtuple\u001b[0m\u001b[0;34m(\u001b[0m\u001b[0mx\u001b[0m\u001b[0;34m)\u001b[0m \u001b[0;32mfor\u001b[0m \u001b[0mx\u001b[0m \u001b[0;32min\u001b[0m \u001b[0mperf_preds\u001b[0m\u001b[0;34m)\u001b[0m\u001b[0;34m]\u001b[0m\u001b[0;34m\u001b[0m\u001b[0;34m\u001b[0m\u001b[0m\n\u001b[0m",
      "\u001b[0;31mNameError\u001b[0m: name 'perf_preds' is not defined"
     ]
    }
   ],
   "source": [
    "# how many of the unique sequences are there in those that were \n",
    "# perfectly predicted?\n",
    "unique_perf_preds = [list(y) for y in set(tuple(x) for x in perf_preds)]"
   ]
  },
  {
   "cell_type": "code",
   "execution_count": 49,
   "metadata": {},
   "outputs": [
    {
     "name": "stdout",
     "output_type": "stream",
     "text": [
      "Among perfect predictions, number of unique sequences: 30\n"
     ]
    }
   ],
   "source": [
    "print('Among perfect predictions, number of unique sequences: {}'.format(len(unique_perf_preds)))"
   ]
  },
  {
   "cell_type": "code",
   "execution_count": 59,
   "metadata": {},
   "outputs": [],
   "source": [
    "# how many times does each of the 30 unique sequences get generated?\n",
    "unique_pred_counts = []\n",
    "for pred in unique_perf_preds:\n",
    "    pred_match = [list(x) == pred for x in perf_preds]\n",
    "    unique_pred_counts += [sum(pred_match)]"
   ]
  },
  {
   "cell_type": "code",
   "execution_count": 63,
   "metadata": {},
   "outputs": [
    {
     "data": {
      "text/plain": [
       "(array([25.,  3.,  0.,  0.,  0.,  0.,  0.,  0.,  0.,  2.]),\n",
       " array([ 1. ,  9.3, 17.6, 25.9, 34.2, 42.5, 50.8, 59.1, 67.4, 75.7, 84. ]),\n",
       " <BarContainer object of 10 artists>)"
      ]
     },
     "execution_count": 63,
     "metadata": {},
     "output_type": "execute_result"
    },
    {
     "data": {
      "image/png": "[encoded data removed]",
      "text/plain": [
       "<Figure size 432x288 with 1 Axes>"
      ]
     },
     "metadata": {
      "needs_background": "light"
     },
     "output_type": "display_data"
    }
   ],
   "source": [
    "plt.hist(unique_pred_counts)"
   ]
  },
  {
   "cell_type": "markdown",
   "metadata": {},
   "source": [
    "### Compare Training Data to Validation Data"
   ]
  },
  {
   "cell_type": "code",
   "execution_count": 2,
   "metadata": {},
   "outputs": [
    {
     "ename": "NameError",
     "evalue": "name 'unique_perf_preds' is not defined",
     "output_type": "error",
     "traceback": [
      "\u001b[0;31m---------------------------------------------------------------------------\u001b[0m",
      "\u001b[0;31mNameError\u001b[0m                                 Traceback (most recent call last)",
      "\u001b[0;32m<ipython-input-2-66f735e092f7>\u001b[0m in \u001b[0;36m<module>\u001b[0;34m\u001b[0m\n\u001b[1;32m      2\u001b[0m \u001b[0;31m# can be found in training data\u001b[0m\u001b[0;34m\u001b[0m\u001b[0;34m\u001b[0m\u001b[0;34m\u001b[0m\u001b[0m\n\u001b[1;32m      3\u001b[0m \u001b[0munique_pred_counts_in_train\u001b[0m \u001b[0;34m=\u001b[0m \u001b[0;34m[\u001b[0m\u001b[0;34m]\u001b[0m\u001b[0;34m\u001b[0m\u001b[0;34m\u001b[0m\u001b[0m\n\u001b[0;32m----> 4\u001b[0;31m \u001b[0;32mfor\u001b[0m \u001b[0mpred\u001b[0m \u001b[0;32min\u001b[0m \u001b[0munique_perf_preds\u001b[0m\u001b[0;34m:\u001b[0m\u001b[0;34m\u001b[0m\u001b[0;34m\u001b[0m\u001b[0m\n\u001b[0m\u001b[1;32m      5\u001b[0m     \u001b[0mpred_match\u001b[0m \u001b[0;34m=\u001b[0m \u001b[0;34m[\u001b[0m\u001b[0mlist\u001b[0m\u001b[0;34m(\u001b[0m\u001b[0mx\u001b[0m\u001b[0;34m)\u001b[0m \u001b[0;34m==\u001b[0m \u001b[0mpred\u001b[0m \u001b[0;32mfor\u001b[0m \u001b[0mx\u001b[0m \u001b[0;32min\u001b[0m \u001b[0mantigen_train_data\u001b[0m\u001b[0;34m]\u001b[0m\u001b[0;34m\u001b[0m\u001b[0;34m\u001b[0m\u001b[0m\n\u001b[1;32m      6\u001b[0m     \u001b[0munique_pred_counts_in_train\u001b[0m \u001b[0;34m+=\u001b[0m \u001b[0;34m[\u001b[0m\u001b[0msum\u001b[0m\u001b[0;34m(\u001b[0m\u001b[0mpred_match\u001b[0m\u001b[0;34m)\u001b[0m\u001b[0;34m]\u001b[0m\u001b[0;34m\u001b[0m\u001b[0;34m\u001b[0m\u001b[0m\n",
      "\u001b[0;31mNameError\u001b[0m: name 'unique_perf_preds' is not defined"
     ]
    }
   ],
   "source": [
    "# find number of times each unique perfect (truncated) prediction \n",
    "# can be found in training data\n",
    "unique_pred_counts_in_train = []\n",
    "for pred in unique_perf_preds:\n",
    "    pred_match = [list(x) == pred for x in antigen_train_data]\n",
    "    unique_pred_counts_in_train += [sum(pred_match)]"
   ]
  },
  {
   "cell_type": "code",
   "execution_count": 90,
   "metadata": {},
   "outputs": [
    {
     "data": {
      "text/plain": [
       "<matplotlib.collections.PathCollection at 0x7f2335bd5f70>"
      ]
     },
     "execution_count": 90,
     "metadata": {},
     "output_type": "execute_result"
    },
    {
     "data": {
      "image/png": "[encoded data removed]",
      "text/plain": [
       "<Figure size 432x288 with 1 Axes>"
      ]
     },
     "metadata": {
      "needs_background": "light"
     },
     "output_type": "display_data"
    }
   ],
   "source": [
    "plt.scatter(np.log(unique_pred_counts_in_train), np.log(unique_pred_counts))"
   ]
  },
  {
   "cell_type": "code",
   "execution_count": null,
   "metadata": {},
   "outputs": [
    {
     "name": "stdout",
     "output_type": "stream",
     "text": [
      "[ 2 17 15 22  5 19 25 13 23 19  3]\n",
      "[ 2 11 13 15 11 10 25 10 23 15  3]\n",
      "[ 2 11 13 15 11 10 25 10 23 15  3]\n",
      "[ 2 11 13 15 11 10 25 10 23 15  3]\n",
      "[ 2 14 15 11 11  5 15 20  5 14  3]\n",
      "[ 2 11 19 11 12  9  5 21 10 19  3]\n",
      "[ 2 14 15 25  5 15 11 13 17  5 25  3]\n",
      "[ 2 17  9 11 25  5  5 10 21 14  3]\n",
      "[ 2 11 16 10 17 16 15 22 23 25  3]\n",
      "[ 2 14 15 22  5 16 15 20  5 16  3]\n",
      "[ 2 23 23 21  9 22 15 17 19  3]\n",
      "[ 2 14 15 25  5 15 11 13 17  5 25  3]\n",
      "[ 2 14 15 11 11  5 15 20  5 14  3]\n",
      "[ 2 28 15 20 19 20 23 20 19 15  3]\n",
      "[ 2 11 23 22 11 22 19 13 25 17 21  3]\n",
      "[ 2 14 15 11 25  5 15  8  5 22  3]\n",
      "[ 2 14 15 11 11  5 15 20  5 14  3]\n",
      "[ 2 14 15 11 11  5 15 20  5 14  3]\n",
      "[ 2 11 19  9 19 15 19 20  5 23  3]\n",
      "[ 2 15 22 28 26 17 20 16 23  5  9 20  5 23  3]\n",
      "[ 2 11 15 17 14 13 25 21 16 28 21  3]\n",
      "[ 2  9 19 15 19 20 11 20 15 23  5  3]\n",
      "[ 2 11  5  8 21 10 20 21 23 15  3]\n",
      "[ 2 17  9 22 25  9  5  5 17  3]\n",
      "[ 2  9  5  5 11 13 11 15  8 19 25  3]\n",
      "[ 2 14 15 22  5 16 15 20  5 16  3]\n",
      "[ 2 21 15 21 21 19 25  5 19 25  3]\n",
      "[ 2 23 19 21 25 23  7 17 17  7  7  3]\n",
      "[ 2 17 15 25 21 16 25  5 23 16  3]\n",
      "[ 2 14 15 22  5 16 15 20  5 16  3]\n",
      "[ 2 14 15 11 11  5 15 20 21  5  3]\n",
      "[ 2  5 15 26 22 21 23 15 21  5  3]\n",
      "[ 2  5  5 11 13  5 28 20 16 19  3]\n",
      "[ 2 22 22 19 19 16 10 21 25 19 21  3]\n",
      "[ 2 11 13 15 11 10 25 10 23 15  3]\n",
      "[ 2 17 15 17  7 19 22 14  9 19  3]\n",
      "[ 2 14 15 11 11  5 15 20  5 14  3]\n",
      "[ 2 11 13 15 11 10 25 10 23 15  3]\n",
      "[ 2 11 23 11 11 22 22 19 13 19  3]\n",
      "[ 2 14 15 11 11  5 15 20  5 14  3]\n",
      "[ 2 17 15 17  7  7 22 25 19  7  3]\n",
      "[ 2 11 13 15 11 10 25 10 23 15  3]\n",
      "[ 2 14 15 25  5 16 15  5 23 21  3]\n",
      "[ 2 10 21  8 28 25  8 21 10 28 14 23 15 21 19  9 20  5 22  3  1  1]\n",
      "[ 2 14 15 22  5 16 15 20  5 16  3]\n",
      "[ 2 22 22 15 22 17 10 21 19 19  5  3]\n",
      "[ 2 14 15 11 11  5 15 20  5 14  3]\n",
      "[ 2  5 19 20 19  9 15 19 19 21 19 19 13 11 19 12 19  3]\n",
      "[ 2 17 16 16 28 16 25  5 23 25  3]\n",
      "[ 2 14 15 11 11  5 15 20  5 14  3]\n",
      "[ 2 14 15 25  5 15 11 13 17  5 25  3]\n",
      "[ 2  9 19 15 19 20 19 20 15  5  3]\n",
      "[ 2 14 15 22  5 16 15 20  5 16  3]\n",
      "[ 2 14 15 11 11  5 15 20  5 14  3]\n",
      "[ 2 22 22 15  9 17 10 21  5 28 22  3]\n",
      "[ 2 11 13 15 11 10 25 10 23 15  3]\n",
      "[ 2 22 20 15 15 17  5 14 28  5  3]\n",
      "[ 2 11 13 15  8 20 25 22 21  5  3]\n",
      "[ 2 14 15 25  5 16 15 20  5 16  3]\n",
      "[ 2 22 23 19 23 22  5 17 23  3]\n",
      "[ 2 22 22 19 28 16  5 21 10 28 14  3]\n",
      "[ 2 17  5 20  9 16 25 21 23 16  3]\n",
      "[ 2 11 23 11 11 22 22 22 19 19 25  3]\n",
      "[ 2 21  5 14 10 14 20 15 15  3]\n",
      "[ 2  5 25 10  8 21 14 22  8  5 14  3]\n",
      "[ 2 11 13 15 11 10 25 10 23 15  3]\n",
      "[ 2 14 15 11 11  5 15 20 21  5  3]\n",
      "[ 2 14  5 22 20 13 25 20  5 16 21 23 13 11 23 12 19  3]\n",
      "[ 2 14 15 11 11  5 15 20  5 14  3]\n",
      "[ 2 14  5 10 25 21 20 15 21  5  9  3]\n",
      "[ 2 17 15 22  5 15 11 23 10 22  3]\n",
      "[ 2  5 28 11 22 10 22 25 22 20  3]\n",
      "[ 2 14 15 22  5 16 15 20  5 16  3]\n",
      "[ 2 11 15  7 23 15 25  5 16 15  3]\n",
      "[ 2 15 22 19  9 13  5 21 10 28 14  3]\n",
      "[ 2 11 13 15 11 10 25 10 23 19  3]\n",
      "[ 2 14 21 26  7 20  9 15 20  5  3]\n",
      "[ 2 14 15 11 11  5 15 20  5 14  3]\n",
      "[ 2 17 15 25 21 16 25  5 16 25  3]\n",
      "[ 2 17  5 20  9 16 25 21 23 16  3]\n",
      "[ 2 11 23 11 22 22 20 19 22 19  9 20 19 20 19 20  3]\n",
      "[ 2 11 13 15 11 10 25 10 23 15  3]\n",
      "[ 2 21  5 14 10 14 20 15 15  3]\n",
      "[ 2 28 15 20 28 28 23 20 15 15  3]\n",
      "[ 2  5 19 20 19 15 15 20 19 20  3]\n",
      "[ 2  5 21 16 12 15 20 23 16 23  3]\n",
      "[ 2  9 15  5 11 13 11 19 16 23  5  3]\n",
      "[ 2 11 16 10  8 21 25 22  8  5 14  3]\n",
      "[ 2 14 15 22  5 16 15 20  5 16  3]\n",
      "[ 2 11 13 15 11 10 25 10 23 15  3]\n",
      "[ 2 11 15 13 28 17 21 16  5  5  3]\n",
      "[ 2  7 23 19 28  8 13 17 20 16  3]\n",
      "[ 2 21 15 22 19 12 19 20 12 12  3]\n",
      "[ 2 17  5 20 16 14  5 16 25  5 20 25 21  3]\n",
      "[ 2 14 21 28 25 14 16  7 23 19 22 20  5 21  3]\n",
      "[ 2 15 19  9 11 15 19 20  5 20  3]\n",
      "[ 2  7 23 19 28  8 13 17 20 17  3]\n",
      "[ 2 22 22 15  9 17 10 21  5 28 25  3]\n",
      "[ 2 14 15 22  5 16 15 20  5 16  3]\n",
      "[ 2 13 25 23  8 10 22 25 13 14  3]\n",
      "[ 2  9 19 19 19 20 15 20 19 20  3]\n",
      "[ 2 11 13 15 11 10 25 10 27 19  3]\n",
      "[ 2 14 15 25  5 15 11 13 17  5  3]\n",
      "[ 2 14 15 22  5 16 15 20  5 16  3]\n",
      "[ 2 22 22 15  9 17 10 21 19 12  5  3]\n",
      "[ 2 11 13 15 11 10 25 10 23 15  3]\n",
      "[ 2 11 15  7 23 15 25  5 16 15  3]\n",
      "[ 2  5 28 11 22 10 22 25 22 20  3]\n",
      "[ 2  7 23 19 28  8 13 17 20 17  3]\n",
      "[ 2  5  5 11 13  5 15 20  5 21  3]\n",
      "[ 2  5 22 17  9 17  9  9 23  9  3]\n",
      "[ 2 14 15 25  5 15 11 20 17  5  3]\n",
      "[ 2 15 15 15 25  5 25  5 15 25  3]\n",
      "[ 2 22 20 28 28 21 21 15 15  3]\n",
      "[ 2 14  5 25 28 17 10  5 23 17  3]\n",
      "[ 2  5 19 20 19  9 15 19 20  5 19  3]\n",
      "[ 2  9 19 19 19 20 15 20 19 20  3]\n",
      "[ 2 14 21 28 25 14 20 25 15 21 23 15 21  5  3]\n",
      "[ 2 22 22 28 21 21 28 25 21 12  3]\n",
      "[ 2  5 19 20 19 15 15 20 19  9  3]\n",
      "[ 2 11 23 11 11 22 15 22 19 21  3]\n",
      "[ 2 21  5 14 10 14 20 15 15  3]\n",
      "[ 2 22 20 15 15 28  8 10 15  3]\n",
      "[ 2 15 19  9 21  5 19 20  5 19  3]\n",
      "[ 2 11 15  7 23 15 25  5 16 16  3]\n",
      "[ 2 15 19  9 11 15 19 20  5 20  3]\n",
      "[ 2  5 23  8  5 15 16 23 11 28  3]\n",
      "[ 2  7 23 19 28  8 13 17 20 17  3]\n",
      "[ 2 17  9 11 25  5  5 10 10 14  3]\n",
      "[ 2 14 15 25  5 15 11 13 17  5  3]\n",
      "[ 2 21  5 20 25 21 20 16 15 20  3]\n",
      "[ 2 23 23 19 23 22  5 17  9  3]\n",
      "[ 2 17 15 17  7  7 22  7 19 25  3]\n",
      "[ 2 14  5 10 25 21 22 15 21  5 20  3]\n",
      "[ 2 17  5 14 25 14 20  9 25  3]\n",
      "[ 2 23 23 19  9 22  5 17 15  3]\n",
      "[ 2  5 19  5 19  9 19 20 19 20  3]\n",
      "[ 2 10 19 21 19 26 15 12 11 15  3]\n",
      "[ 2 14 15 11 11  5 15 20  5 14  3]\n",
      "[ 2  5 25 28  8 10 10 21 23 15  3]\n",
      "[ 2 21  5 21 20 15 16  9 23 16  3]\n",
      "[ 2 22 22 19 19 10 21 21 19  3]\n",
      "[ 2 14 15 22  5 16 15 20  5 16  3]\n",
      "[ 2 11 13 15 25 21 25 15 21  5  3]\n",
      "[ 2 14 15 22  5 16 15 20  5 16  3]\n",
      "[ 2 14  5 25 26 21 10 15 17  5  9  3]\n",
      "[ 2  9 19 15 19 20 19 20 15 19 15 19 20 19 20 15  3]\n",
      "[ 2 23 19 21 25 23 21 21  8  5  5  3]\n",
      "[ 2 14 15 22  5 16 15 20  5 16  3]\n",
      "[ 2 17  5 14 13 23  5  9 25 12 19  3]\n",
      "[ 2 21 15 19 19 10 19 20 19  9  3]\n",
      "[ 2 14 15 22  5 16 15 20  5 16  3]\n",
      "[ 2 15 19  9 11 19 19 20  5  5  3]\n",
      "[ 2 14 15 22  5 16 15 20  5 16  3]\n",
      "[ 2 14 15 22  5 16 15 20  5 16  3]\n",
      "[ 2 14 15 25  5 15 11 13 17  5 25  3]\n",
      "[ 2 28 22 20 19 19 23 10 23 15  3]\n",
      "[ 2 14 15 25  5 15 11 13 17  5 25  3]\n"
     ]
    }
   ],
   "source": [
    "# what is correlation between Hamming distance and number of same\n",
    "# antigens seen in training data?\n",
    "all_pred_counts_in_train = []\n",
    "for pred in truncated_predictions:\n",
    "    print(pred)\n",
    "    pred_match = [list(x) == list(pred) for x in antigen_train_data]\n",
    "    all_pred_counts_in_train += [sum(pred_match)]"
   ]
  },
  {
   "cell_type": "code",
   "execution_count": 1,
   "metadata": {},
   "outputs": [
    {
     "ename": "NameError",
     "evalue": "name 'all_pred_counts_in_train' is not defined",
     "output_type": "error",
     "traceback": [
      "\u001b[0;31m---------------------------------------------------------------------------\u001b[0m",
      "\u001b[0;31mNameError\u001b[0m                                 Traceback (most recent call last)",
      "\u001b[0;32m<ipython-input-1-8c84093615dd>\u001b[0m in \u001b[0;36m<module>\u001b[0;34m\u001b[0m\n\u001b[0;32m----> 1\u001b[0;31m \u001b[0mall_pred_counts_in_train\u001b[0m\u001b[0;34m\u001b[0m\u001b[0;34m\u001b[0m\u001b[0m\n\u001b[0m",
      "\u001b[0;31mNameError\u001b[0m: name 'all_pred_counts_in_train' is not defined"
     ]
    }
   ],
   "source": [
    "all_pred_counts_in_train"
   ]
  }
 ],
 "metadata": {
  "kernelspec": {
   "display_name": "Python 3",
   "language": "python",
   "name": "python3"
  },
  "language_info": {
   "codemirror_mode": {
    "name": "ipython",
    "version": 3
   },
   "file_extension": ".py",
   "mimetype": "text/x-python",
   "name": "python",
   "nbconvert_exporter": "python",
   "pygments_lexer": "ipython3",
   "version": "3.8.5"
  }
 },
 "nbformat": 4,
 "nbformat_minor": 4
}
