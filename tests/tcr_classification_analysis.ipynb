{
 "cells": [
  {
   "cell_type": "code",
   "execution_count": null,
   "metadata": {},
   "outputs": [],
   "source": [
    "# Jason Qin\n",
    "# 04/26/21"
   ]
  },
  {
   "cell_type": "markdown",
   "metadata": {},
   "source": [
    "# Analyzing Classification Data\n",
    "\n",
    "Classification results from running TAPE on VDJdb TCR-antigen data."
   ]
  },
  {
   "cell_type": "code",
   "execution_count": 49,
   "metadata": {},
   "outputs": [],
   "source": [
    "import numpy as np\n",
    "import pandas as pd\n",
    "import seaborn as sns\n",
    "import matplotlib.pyplot as plt\n",
    "\n",
    "from scipy.spatial.distance import cdist, hamming\n",
    "import scipy.stats\n",
    "import sklearn.metrics\n",
    "\n",
    "from tape.datasets import FastaDataset, pad_sequences\n",
    "from tape.tokenizers import TAPETokenizer"
   ]
  },
  {
   "cell_type": "markdown",
   "metadata": {},
   "source": [
    "### Analyze Performance of Classification Model on Validation Data"
   ]
  },
  {
   "cell_type": "code",
   "execution_count": 168,
   "metadata": {},
   "outputs": [],
   "source": [
    "data_file = '/group/ag_cmb/scratch/jqin/projects/tape/results/tcr_classification_transformer_21-05-04-17-05-03_317740/eval_predictions_050521_010157.txt'\n",
    "data = pd.read_csv(data_file, sep='\\t')"
   ]
  },
  {
   "cell_type": "code",
   "execution_count": 169,
   "metadata": {},
   "outputs": [
    {
     "name": "stderr",
     "output_type": "stream",
     "text": [
      "<ipython-input-169-8978dd737fa3>:7: FutureWarning: The default value of regex will change from True to False in a future version.\n",
      "  data[col] = data[col].str.replace(r'.*\\[', '')\n",
      "<ipython-input-169-8978dd737fa3>:8: FutureWarning: The default value of regex will change from True to False in a future version.\n",
      "  data[col] = data[col].str.replace(r'\\].*', '')\n"
     ]
    }
   ],
   "source": [
    "# clean and organize data\n",
    "column_names = ['input', 'target', 'prediction', 'index']\n",
    "for col in column_names:\n",
    "    # remove all non-numeric parts of data\n",
    "    if type(data[col][0]) != str:\n",
    "        continue\n",
    "    data[col] = data[col].str.replace(r'.*\\[', '')\n",
    "    data[col] = data[col].str.replace(r'\\].*', '')\n",
    "    data[col] = data[col].str.replace(r'        ', ',')\n",
    "    data[col] = data[col].str.strip()\n",
    "    \n",
    "    # convert comma-separated string of ints to list of ints\n",
    "    data[col] = [np.array([float(y.strip('.')) for y in x]) for x in data[col].str.split(',')]\n",
    "\n",
    "data = data.sort_values('index')"
   ]
  },
  {
   "cell_type": "code",
   "execution_count": 170,
   "metadata": {},
   "outputs": [],
   "source": [
    "inputs = data['input']\n",
    "predictions = data['prediction']\n",
    "targets = data['target']\n",
    "\n",
    "# round predictions to nearest int\n",
    "preds_round = np.rint(predictions)"
   ]
  },
  {
   "cell_type": "code",
   "execution_count": 172,
   "metadata": {},
   "outputs": [
    {
     "name": "stderr",
     "output_type": "stream",
     "text": [
      "/group/ag_cmb/scratch/jqin/miniconda3/envs/tape/lib/python3.8/site-packages/seaborn/_decorators.py:36: FutureWarning: Pass the following variables as keyword args: x, y. From version 0.12, the only valid positional argument will be `data`, and passing other arguments without an explicit keyword will result in an error or misinterpretation.\n",
      "  warnings.warn(\n"
     ]
    },
    {
     "data": {
      "text/plain": [
       "<AxesSubplot:xlabel='target', ylabel='prediction'>"
      ]
     },
     "execution_count": 172,
     "metadata": {},
     "output_type": "execute_result"
    },
    {
     "data": {
      "image/png": "[encoded data removed]",
      "text/plain": [
       "<Figure size 432x288 with 1 Axes>"
      ]
     },
     "metadata": {
      "needs_background": "light"
     },
     "output_type": "display_data"
    }
   ],
   "source": [
    "# how do predictions compare to targets?\n",
    "sns.scatterplot(targets, predictions, alpha=0.01)"
   ]
  },
  {
   "cell_type": "code",
   "execution_count": 199,
   "metadata": {},
   "outputs": [],
   "source": [
    "# calculate true positives, true negatives, false pos, and false neg\n",
    "preds_confusion_matrix = sklearn.metrics.confusion_matrix(targets, preds_round)\n",
    "\n",
    "true_neg = preds_confusion_matrix[0,0]\n",
    "false_pos = preds_confusion_matrix[0,1]\n",
    "false_neg = preds_confusion_matrix[1,0]\n",
    "true_pos = preds_confusion_matrix[1,1]\n",
    "\n",
    "true_neg_rate = true_neg / (true_neg + false_pos)\n",
    "false_pos_rate = false_pos / (true_neg + false_pos)\n",
    "false_neg_rate = false_neg / (true_pos + false_neg)\n",
    "true_pos_rate = true_pos / (true_pos + false_neg)"
   ]
  },
  {
   "cell_type": "code",
   "execution_count": 174,
   "metadata": {},
   "outputs": [
    {
     "name": "stdout",
     "output_type": "stream",
     "text": [
      "True Negative Rate: 0.8317242547425474\n",
      "False Positive Rate: 0.16827574525745256\n",
      "False Negative Rate: 0.1676829268292683\n",
      "True Positive Rate: 0.8323170731707317\n"
     ]
    }
   ],
   "source": [
    "print('True Negative Rate: {}'.format(true_neg_rate))\n",
    "print('False Positive Rate: {}'.format(false_pos_rate))\n",
    "print('False Negative Rate: {}'.format(false_neg_rate))\n",
    "print('True Positive Rate: {}'.format(true_pos_rate))"
   ]
  },
  {
   "cell_type": "markdown",
   "metadata": {},
   "source": [
    "### Analyze uniqueness of CDR3 and antigen sequences in training data"
   ]
  },
  {
   "cell_type": "code",
   "execution_count": 70,
   "metadata": {},
   "outputs": [],
   "source": [
    "# relevant data files\n",
    "data_dir = '/group/ag_cmb/scratch/jqin/projects/tape/data/tcr'\n",
    "cdr3_train_file = data_dir + '/cdr3_train.fasta'\n",
    "antigen_train_file = data_dir + '/antigen_train.fasta'\n",
    "cdr3_valid_file = data_dir + '/cdr3_valid.fasta'\n",
    "antigen_valid_file = data_dir + '/antigen_valid.fasta'\n",
    "\n",
    "# set up tokenizer\n",
    "tokenizer = TAPETokenizer(vocab='iupac')\n",
    "\n",
    "# load relevant data\n",
    "cdr3_train_data_uncleaned = FastaDataset(cdr3_train_file, in_memory=True)\n",
    "antigen_train_data_uncleaned = FastaDataset(antigen_train_file, in_memory=True)"
   ]
  },
  {
   "cell_type": "code",
   "execution_count": 73,
   "metadata": {},
   "outputs": [],
   "source": [
    "# organize data\n",
    "cdr3_train_data = [tuple(tokenizer.encode(x['primary'])) for x in cdr3_train_data_uncleaned]\n",
    "antigen_train_data = [tuple(tokenizer.encode(x['primary'])) for x in antigen_train_data_uncleaned]"
   ]
  },
  {
   "cell_type": "code",
   "execution_count": 79,
   "metadata": {},
   "outputs": [],
   "source": [
    "# find how many times each CDR3 sequence appears in the training data\n",
    "cdr3_train_counts = {}\n",
    "for cdr3 in cdr3_train_data:\n",
    "    if cdr3 not in cdr3_train_counts.keys():\n",
    "        cdr3_train_counts[cdr3] = 1\n",
    "    else:\n",
    "        cdr3_train_counts[cdr3] += 1\n",
    "        \n",
    "# find how many times each antigen sequence appears in the training data\n",
    "antigen_train_counts = {}\n",
    "for antigen in antigen_train_data:\n",
    "    if antigen not in antigen_train_counts.keys():\n",
    "        antigen_train_counts[antigen] = 1\n",
    "    else:\n",
    "        antigen_train_counts[antigen] += 1"
   ]
  },
  {
   "cell_type": "code",
   "execution_count": 94,
   "metadata": {},
   "outputs": [],
   "source": [
    "# find frequency of how many sequences are unique vs. duplicates\n",
    "cdr3_train_unique_freq = []         # number of sequences with each copy #\n",
    "cdr3_train_weighted_freq = []       # num of seq with each copy #, weighted by copy #\n",
    "for key, item in cdr3_train_counts.items():\n",
    "    cdr3_train_unique_freq += [item]\n",
    "    cdr3_train_weighted_freq += item*[item]\n",
    "\n",
    "antigen_train_unique_freq = []\n",
    "antigen_train_weighted_freq = []\n",
    "for key, item in antigen_train_counts.items():\n",
    "    antigen_train_unique_freq += [item]\n",
    "    antigen_train_weighted_freq += item*[item]"
   ]
  },
  {
   "cell_type": "code",
   "execution_count": 104,
   "metadata": {},
   "outputs": [
    {
     "data": {
      "text/html": [
       "<div>\n",
       "<style scoped>\n",
       "    .dataframe tbody tr th:only-of-type {\n",
       "        vertical-align: middle;\n",
       "    }\n",
       "\n",
       "    .dataframe tbody tr th {\n",
       "        vertical-align: top;\n",
       "    }\n",
       "\n",
       "    .dataframe thead th {\n",
       "        text-align: right;\n",
       "    }\n",
       "</style>\n",
       "<table border=\"1\" class=\"dataframe\">\n",
       "  <thead>\n",
       "    <tr style=\"text-align: right;\">\n",
       "      <th></th>\n",
       "      <th>1</th>\n",
       "      <th>2</th>\n",
       "      <th>3</th>\n",
       "      <th>4</th>\n",
       "      <th>5</th>\n",
       "      <th>6</th>\n",
       "      <th>7</th>\n",
       "      <th>8</th>\n",
       "      <th>9</th>\n",
       "      <th>10</th>\n",
       "      <th>...</th>\n",
       "      <th>92</th>\n",
       "      <th>95</th>\n",
       "      <th>102</th>\n",
       "      <th>117</th>\n",
       "      <th>124</th>\n",
       "      <th>127</th>\n",
       "      <th>138</th>\n",
       "      <th>142</th>\n",
       "      <th>145</th>\n",
       "      <th>323</th>\n",
       "    </tr>\n",
       "  </thead>\n",
       "  <tbody>\n",
       "    <tr>\n",
       "      <th>0</th>\n",
       "      <td>45931</td>\n",
       "      <td>4636</td>\n",
       "      <td>1162</td>\n",
       "      <td>489</td>\n",
       "      <td>236</td>\n",
       "      <td>125</td>\n",
       "      <td>91</td>\n",
       "      <td>70</td>\n",
       "      <td>37</td>\n",
       "      <td>45</td>\n",
       "      <td>...</td>\n",
       "      <td>2</td>\n",
       "      <td>1</td>\n",
       "      <td>1</td>\n",
       "      <td>1</td>\n",
       "      <td>1</td>\n",
       "      <td>1</td>\n",
       "      <td>1</td>\n",
       "      <td>1</td>\n",
       "      <td>1</td>\n",
       "      <td>1</td>\n",
       "    </tr>\n",
       "  </tbody>\n",
       "</table>\n",
       "<p>1 rows × 60 columns</p>\n",
       "</div>"
      ],
      "text/plain": [
       "     1     2     3    4    5    6    7    8    9    10   ...  92   95   102  \\\n",
       "0  45931  4636  1162  489  236  125   91   70   37   45  ...    2    1    1   \n",
       "\n",
       "   117  124  127  138  142  145  323  \n",
       "0    1    1    1    1    1    1    1  \n",
       "\n",
       "[1 rows x 60 columns]"
      ]
     },
     "execution_count": 104,
     "metadata": {},
     "output_type": "execute_result"
    }
   ],
   "source": [
    "# table of CDR3 sequence frequency in training data\n",
    "pd.value_counts(cdr3_train_unique_freq).to_frame().sort_index().transpose()"
   ]
  },
  {
   "cell_type": "code",
   "execution_count": 95,
   "metadata": {},
   "outputs": [
    {
     "data": {
      "text/plain": [
       "<AxesSubplot:ylabel='Density'>"
      ]
     },
     "execution_count": 95,
     "metadata": {},
     "output_type": "execute_result"
    },
    {
     "data": {
      "image/png": "[encoded data removed]",
      "text/plain": [
       "<Figure size 432x288 with 1 Axes>"
      ]
     },
     "metadata": {
      "needs_background": "light"
     },
     "output_type": "display_data"
    }
   ],
   "source": [
    "# density plot of CDR3 sequence frequency in training data\n",
    "# density is weighted by how much each sequence appears in training data\n",
    "sns.kdeplot(cdr3_train_weighted_freq)"
   ]
  },
  {
   "cell_type": "code",
   "execution_count": 107,
   "metadata": {},
   "outputs": [
    {
     "data": {
      "text/html": [
       "<div>\n",
       "<style scoped>\n",
       "    .dataframe tbody tr th:only-of-type {\n",
       "        vertical-align: middle;\n",
       "    }\n",
       "\n",
       "    .dataframe tbody tr th {\n",
       "        vertical-align: top;\n",
       "    }\n",
       "\n",
       "    .dataframe thead th {\n",
       "        text-align: right;\n",
       "    }\n",
       "</style>\n",
       "<table border=\"1\" class=\"dataframe\">\n",
       "  <thead>\n",
       "    <tr style=\"text-align: right;\">\n",
       "      <th></th>\n",
       "      <th>1</th>\n",
       "      <th>2</th>\n",
       "      <th>3</th>\n",
       "      <th>4</th>\n",
       "      <th>5</th>\n",
       "      <th>6</th>\n",
       "      <th>7</th>\n",
       "      <th>8</th>\n",
       "      <th>9</th>\n",
       "      <th>10</th>\n",
       "      <th>...</th>\n",
       "      <th>871</th>\n",
       "      <th>1211</th>\n",
       "      <th>1355</th>\n",
       "      <th>1507</th>\n",
       "      <th>2414</th>\n",
       "      <th>2449</th>\n",
       "      <th>3171</th>\n",
       "      <th>6527</th>\n",
       "      <th>8810</th>\n",
       "      <th>25160</th>\n",
       "    </tr>\n",
       "  </thead>\n",
       "  <tbody>\n",
       "    <tr>\n",
       "      <th>0</th>\n",
       "      <td>45</td>\n",
       "      <td>96</td>\n",
       "      <td>15</td>\n",
       "      <td>18</td>\n",
       "      <td>4</td>\n",
       "      <td>6</td>\n",
       "      <td>9</td>\n",
       "      <td>5</td>\n",
       "      <td>3</td>\n",
       "      <td>5</td>\n",
       "      <td>...</td>\n",
       "      <td>1</td>\n",
       "      <td>1</td>\n",
       "      <td>1</td>\n",
       "      <td>1</td>\n",
       "      <td>1</td>\n",
       "      <td>1</td>\n",
       "      <td>1</td>\n",
       "      <td>1</td>\n",
       "      <td>1</td>\n",
       "      <td>1</td>\n",
       "    </tr>\n",
       "  </tbody>\n",
       "</table>\n",
       "<p>1 rows × 112 columns</p>\n",
       "</div>"
      ],
      "text/plain": [
       "   1      2      3      4      5      6      7      8      9      10     ...  \\\n",
       "0     45     96     15     18      4      6      9      5      3      5  ...   \n",
       "\n",
       "   871    1211   1355   1507   2414   2449   3171   6527   8810   25160  \n",
       "0      1      1      1      1      1      1      1      1      1      1  \n",
       "\n",
       "[1 rows x 112 columns]"
      ]
     },
     "execution_count": 107,
     "metadata": {},
     "output_type": "execute_result"
    }
   ],
   "source": [
    "# table of antigen sequence frequency in training data\n",
    "pd.value_counts(antigen_train_unique_freq).to_frame().sort_index().transpose()"
   ]
  },
  {
   "cell_type": "code",
   "execution_count": 105,
   "metadata": {},
   "outputs": [
    {
     "data": {
      "text/plain": [
       "<AxesSubplot:ylabel='Density'>"
      ]
     },
     "execution_count": 105,
     "metadata": {},
     "output_type": "execute_result"
    },
    {
     "data": {
      "image/png": "[encoded data removed]",
      "text/plain": [
       "<Figure size 432x288 with 1 Axes>"
      ]
     },
     "metadata": {
      "needs_background": "light"
     },
     "output_type": "display_data"
    }
   ],
   "source": [
    "# density plot of CDR3 sequence frequency in training data\n",
    "# density is weighted by how much each sequence appears in training data\n",
    "sns.kdeplot(antigen_train_weighted_freq, bw_adjust=0.1)"
   ]
  },
  {
   "cell_type": "markdown",
   "metadata": {},
   "source": [
    "### Compare model performance across different classes of synthetic data"
   ]
  },
  {
   "cell_type": "code",
   "execution_count": 197,
   "metadata": {},
   "outputs": [
    {
     "name": "stderr",
     "output_type": "stream",
     "text": [
      "/group/ag_cmb/scratch/jqin/miniconda3/envs/tape/lib/python3.8/site-packages/seaborn/_decorators.py:36: FutureWarning: Pass the following variable as a keyword arg: x. From version 0.12, the only valid positional argument will be `data`, and passing other arguments without an explicit keyword will result in an error or misinterpretation.\n",
      "  warnings.warn(\n"
     ]
    },
    {
     "data": {
      "text/plain": [
       "<AxesSubplot:xlabel='prediction'>"
      ]
     },
     "execution_count": 197,
     "metadata": {},
     "output_type": "execute_result"
    },
    {
     "data": {
      "image/png": "[encoded data removed]",
      "text/plain": [
       "<Figure size 432x288 with 1 Axes>"
      ]
     },
     "metadata": {
      "needs_background": "light"
     },
     "output_type": "display_data"
    }
   ],
   "source": [
    "sns.violinplot(predictions[:3936])"
   ]
  },
  {
   "cell_type": "code",
   "execution_count": 194,
   "metadata": {},
   "outputs": [
    {
     "name": "stderr",
     "output_type": "stream",
     "text": [
      "/group/ag_cmb/scratch/jqin/miniconda3/envs/tape/lib/python3.8/site-packages/seaborn/_decorators.py:36: FutureWarning: Pass the following variable as a keyword arg: x. From version 0.12, the only valid positional argument will be `data`, and passing other arguments without an explicit keyword will result in an error or misinterpretation.\n",
      "  warnings.warn(\n"
     ]
    },
    {
     "data": {
      "text/plain": [
       "<AxesSubplot:xlabel='prediction'>"
      ]
     },
     "execution_count": 194,
     "metadata": {},
     "output_type": "execute_result"
    },
    {
     "data": {
      "image/png": "[encoded data removed]",
      "text/plain": [
       "<Figure size 432x288 with 1 Axes>"
      ]
     },
     "metadata": {
      "needs_background": "light"
     },
     "output_type": "display_data"
    }
   ],
   "source": [
    "sns.violinplot(predictions[3936:7872])"
   ]
  },
  {
   "cell_type": "code",
   "execution_count": 195,
   "metadata": {},
   "outputs": [
    {
     "name": "stderr",
     "output_type": "stream",
     "text": [
      "/group/ag_cmb/scratch/jqin/miniconda3/envs/tape/lib/python3.8/site-packages/seaborn/_decorators.py:36: FutureWarning: Pass the following variable as a keyword arg: x. From version 0.12, the only valid positional argument will be `data`, and passing other arguments without an explicit keyword will result in an error or misinterpretation.\n",
      "  warnings.warn(\n"
     ]
    },
    {
     "data": {
      "text/plain": [
       "<AxesSubplot:xlabel='prediction'>"
      ]
     },
     "execution_count": 195,
     "metadata": {},
     "output_type": "execute_result"
    },
    {
     "data": {
      "image/png": "[encoded data removed]",
      "text/plain": [
       "<Figure size 432x288 with 1 Axes>"
      ]
     },
     "metadata": {
      "needs_background": "light"
     },
     "output_type": "display_data"
    }
   ],
   "source": [
    "sns.violinplot(predictions[7872:11808])"
   ]
  },
  {
   "cell_type": "code",
   "execution_count": 196,
   "metadata": {},
   "outputs": [
    {
     "name": "stderr",
     "output_type": "stream",
     "text": [
      "/group/ag_cmb/scratch/jqin/miniconda3/envs/tape/lib/python3.8/site-packages/seaborn/_decorators.py:36: FutureWarning: Pass the following variable as a keyword arg: x. From version 0.12, the only valid positional argument will be `data`, and passing other arguments without an explicit keyword will result in an error or misinterpretation.\n",
      "  warnings.warn(\n"
     ]
    },
    {
     "data": {
      "text/plain": [
       "<AxesSubplot:xlabel='prediction'>"
      ]
     },
     "execution_count": 196,
     "metadata": {},
     "output_type": "execute_result"
    },
    {
     "data": {
      "image/png": "[encoded data removed]",
      "text/plain": [
       "<Figure size 432x288 with 1 Axes>"
      ]
     },
     "metadata": {
      "needs_background": "light"
     },
     "output_type": "display_data"
    }
   ],
   "source": [
    "sns.violinplot(predictions[11808:])"
   ]
  },
  {
   "cell_type": "code",
   "execution_count": 203,
   "metadata": {},
   "outputs": [],
   "source": [
    "# find confusion matrix of positive and permuted negative data\n",
    "preds_subset_confusion_matrix = sklearn.metrics.confusion_matrix(targets[:7872], preds_round[:7872])\n",
    "\n",
    "true_neg_subset = preds_subset_confusion_matrix[0,0]\n",
    "false_pos_subset = preds_subset_confusion_matrix[0,1]\n",
    "false_neg_subset = preds_subset_confusion_matrix[1,0]\n",
    "true_pos_subset = preds_subset_confusion_matrix[1,1]\n",
    "\n",
    "true_neg_subset_rate = true_neg_subset / (true_neg_subset + false_pos_subset)\n",
    "false_pos_subset_rate = false_pos_subset / (true_neg_subset + false_pos_subset)\n",
    "false_neg_subset_rate = false_neg_subset / (true_pos_subset + false_neg_subset)\n",
    "true_pos_subset_rate = true_pos_subset / (true_pos_subset + false_neg_subset)"
   ]
  },
  {
   "cell_type": "code",
   "execution_count": 204,
   "metadata": {},
   "outputs": [
    {
     "name": "stdout",
     "output_type": "stream",
     "text": [
      "True Negative Subset Rate: 0.5180386178861789\n",
      "False Positive Subset Rate: 0.4819613821138211\n",
      "False Negative Subset Rate: 0.1676829268292683\n",
      "True Positive Subset Rate: 0.8323170731707317\n"
     ]
    }
   ],
   "source": [
    "print('True Negative Subset Rate: {}'.format(true_neg_subset_rate))\n",
    "print('False Positive Subset Rate: {}'.format(false_pos_subset_rate))\n",
    "print('False Negative Subset Rate: {}'.format(false_neg_subset_rate))\n",
    "print('True Positive Subset Rate: {}'.format(true_pos_subset_rate))"
   ]
  },
  {
   "cell_type": "markdown",
   "metadata": {},
   "source": [
    "### Compare validation classification accuracy to frequency of appearance in training data"
   ]
  },
  {
   "cell_type": "code",
   "execution_count": 205,
   "metadata": {},
   "outputs": [],
   "source": [
    "# create dictionaries that map all unique CDR3 and antigen sequences\n",
    "# to their targets and predictions of classification\n",
    "cdr3_valid_preds = {}\n",
    "cdr3_valid_targets = {}\n",
    "antigen_valid_preds = {}\n",
    "antigen_valid_targets = {}\n",
    "\n",
    "#for inp, tar, pred in zip(inputs, targets, preds_round):\n",
    "for inp, tar, pred in zip(inputs[:7872], targets[:7872], preds_round[:7872]):\n",
    "    sep = np.where(inp == 3)[0]\n",
    "    cdr3_sep = sep[0]      # where does CDR3 seq end and antigen begin?\n",
    "    antigen_sep = sep[1]   # where does antigen seq end and padding begin?\n",
    "    cdr3 = tuple(inp[:cdr3_sep+1])\n",
    "    antigen = tuple(np.concatenate(([2], inp[cdr3_sep+1:antigen_sep+1])))   # truncate to only antigen\n",
    "    if cdr3 not in cdr3_valid_preds.keys():\n",
    "        cdr3_valid_preds[cdr3] = [pred]\n",
    "        cdr3_valid_targets[cdr3] = [tar]\n",
    "    else:\n",
    "        cdr3_valid_preds[cdr3] += [pred]\n",
    "        cdr3_valid_targets[cdr3] += [tar]\n",
    "        \n",
    "    if antigen not in antigen_valid_preds.keys():\n",
    "        antigen_valid_preds[antigen] = [pred]\n",
    "        antigen_valid_targets[antigen] = [tar]\n",
    "    else:\n",
    "        antigen_valid_preds[antigen] += [pred]\n",
    "        antigen_valid_targets[antigen] += [tar]"
   ]
  },
  {
   "cell_type": "code",
   "execution_count": 258,
   "metadata": {},
   "outputs": [],
   "source": [
    "# find accuracy of model performance on each CDR3 sequence\n",
    "cdr3_valid_accuracy = {}\n",
    "for cdr3 in cdr3_valid_preds.keys():\n",
    "    pred = cdr3_valid_preds[cdr3]\n",
    "    tar = cdr3_valid_targets[cdr3]\n",
    "    matches = np.sum(~np.logical_xor(pred, tar))\n",
    "    accuracy = matches / float(len(pred))\n",
    "    cdr3_valid_accuracy[cdr3] = accuracy\n",
    "\n",
    "antigen_valid_accuracy = {}\n",
    "for antigen in antigen_valid_preds.keys():\n",
    "    pred = antigen_valid_preds[antigen]\n",
    "    tar = antigen_valid_targets[antigen]\n",
    "    matches = np.sum(~np.logical_xor(pred, tar))\n",
    "    accuracy = matches / float(len(pred))\n",
    "    antigen_valid_accuracy[antigen] = accuracy"
   ]
  },
  {
   "cell_type": "code",
   "execution_count": 259,
   "metadata": {},
   "outputs": [],
   "source": [
    "cdr3_valid_accuracy_list = []\n",
    "cdr3_valid_freq_in_train = []\n",
    "for cdr3 in cdr3_valid_accuracy.keys():\n",
    "    cdr3_valid_accuracy_list += [cdr3_valid_accuracy[cdr3]]\n",
    "    if cdr3 not in cdr3_train_counts.keys():\n",
    "        cdr3_valid_freq_in_train += [0]\n",
    "    else:\n",
    "        cdr3_valid_freq_in_train += [cdr3_train_counts[cdr3]]\n",
    "        \n",
    "antigen_valid_accuracy_list = []\n",
    "antigen_valid_freq_in_train = []\n",
    "for antigen in antigen_valid_accuracy.keys():\n",
    "    antigen_valid_accuracy_list += [antigen_valid_accuracy[antigen]]\n",
    "    if antigen not in antigen_train_counts.keys():\n",
    "        antigen_valid_freq_in_train += [0]\n",
    "    else:\n",
    "        antigen_valid_freq_in_train += [antigen_train_counts[antigen]]\n",
    "        \n",
    "cdr3_valid_accuracy_list = np.array(cdr3_valid_accuracy_list)\n",
    "cdr3_valid_freq_in_train = np.array(cdr3_valid_freq_in_train)\n",
    "antigen_valid_accuracy_list = np.array(antigen_valid_accuracy_list)\n",
    "antigen_valid_freq_in_train = np.array(antigen_valid_freq_in_train)"
   ]
  },
  {
   "cell_type": "code",
   "execution_count": 260,
   "metadata": {},
   "outputs": [
    {
     "name": "stderr",
     "output_type": "stream",
     "text": [
      "/group/ag_cmb/scratch/jqin/miniconda3/envs/tape/lib/python3.8/site-packages/seaborn/_decorators.py:36: FutureWarning: Pass the following variables as keyword args: x, y. From version 0.12, the only valid positional argument will be `data`, and passing other arguments without an explicit keyword will result in an error or misinterpretation.\n",
      "  warnings.warn(\n"
     ]
    },
    {
     "data": {
      "text/plain": [
       "<AxesSubplot:>"
      ]
     },
     "execution_count": 260,
     "metadata": {},
     "output_type": "execute_result"
    },
    {
     "data": {
      "image/png": "[encoded data removed]",
      "text/plain": [
       "<Figure size 432x288 with 1 Axes>"
      ]
     },
     "metadata": {
      "needs_background": "light"
     },
     "output_type": "display_data"
    }
   ],
   "source": [
    "# prediction accuracy for each CDR3 sequence as a function of how many\n",
    "# times it was seen in the training data\n",
    "sns.regplot(np.log(cdr3_valid_freq_in_train+1), cdr3_valid_accuracy_list)"
   ]
  },
  {
   "cell_type": "code",
   "execution_count": 261,
   "metadata": {},
   "outputs": [
    {
     "name": "stderr",
     "output_type": "stream",
     "text": [
      "/group/ag_cmb/scratch/jqin/miniconda3/envs/tape/lib/python3.8/site-packages/seaborn/_decorators.py:36: FutureWarning: Pass the following variables as keyword args: x, y. From version 0.12, the only valid positional argument will be `data`, and passing other arguments without an explicit keyword will result in an error or misinterpretation.\n",
      "  warnings.warn(\n"
     ]
    },
    {
     "data": {
      "text/plain": [
       "<AxesSubplot:>"
      ]
     },
     "execution_count": 261,
     "metadata": {},
     "output_type": "execute_result"
    },
    {
     "data": {
      "image/png": "[encoded data removed]",
      "text/plain": [
       "<Figure size 432x288 with 1 Axes>"
      ]
     },
     "metadata": {
      "needs_background": "light"
     },
     "output_type": "display_data"
    }
   ],
   "source": [
    "# prediction accuracy for each antigen sequence as a function of how many\n",
    "# times it was seen in the training data\n",
    "sns.regplot(np.log(antigen_valid_freq_in_train+1), antigen_valid_accuracy_list)"
   ]
  },
  {
   "cell_type": "markdown",
   "metadata": {},
   "source": [
    "### Check performance across TRA vs TRB chains"
   ]
  },
  {
   "cell_type": "code",
   "execution_count": 262,
   "metadata": {},
   "outputs": [],
   "source": [
    "# relevant data files\n",
    "tra_cdr3_train_file = data_dir + '/TRA_cdr3.fasta'\n",
    "trb_cdr3_train_file = data_dir + '/TRB_cdr3.fasta'\n",
    "\n",
    "# load relevant data\n",
    "tra_cdr3_seq_unprocessed = FastaDataset(tra_cdr3_train_file, in_memory=True)\n",
    "trb_cdr3_seq_unprocessed = FastaDataset(trb_cdr3_train_file, in_memory=True)"
   ]
  },
  {
   "cell_type": "code",
   "execution_count": 263,
   "metadata": {},
   "outputs": [],
   "source": [
    "# convert sequence strings into list of ints\n",
    "tra_cdr3_seq = [tuple(tokenizer.encode(x['primary'])) for x in tra_cdr3_seq_unprocessed]\n",
    "trb_cdr3_seq = [tuple(tokenizer.encode(x['primary'])) for x in trb_cdr3_seq_unprocessed]"
   ]
  },
  {
   "cell_type": "code",
   "execution_count": 264,
   "metadata": {},
   "outputs": [],
   "source": [
    "tra_cdr3_accuracy = []\n",
    "for cdr3 in tra_cdr3_seq:\n",
    "    if cdr3 in cdr3_valid_accuracy.keys():\n",
    "        tra_cdr3_accuracy += [cdr3_valid_accuracy[cdr3]]\n",
    "        \n",
    "trb_cdr3_accuracy = []\n",
    "for cdr3 in trb_cdr3_seq:\n",
    "    if cdr3 in cdr3_valid_accuracy.keys():\n",
    "        trb_cdr3_accuracy += [cdr3_valid_accuracy[cdr3]]"
   ]
  },
  {
   "cell_type": "code",
   "execution_count": 265,
   "metadata": {},
   "outputs": [
    {
     "name": "stdout",
     "output_type": "stream",
     "text": [
      "(2, 7, 5, 10, 16, 14, 20, 11, 11, 11, 5, 8, 11, 15, 23, 10, 3)\n",
      "(2.0, 7.0, 5.0, 23.0, 25.0, 11.0, 17.0, 22.0, 11.0, 28.0, 22.0, 23.0, 15.0, 23.0, 10.0, 3.0)\n",
      "2\n",
      "2\n"
     ]
    }
   ],
   "source": [
    "# interesting sidenote: apparently hash of ints are same as hash of floats\n",
    "print(tra_cdr3_seq[0])\n",
    "print(list(cdr3_valid_accuracy.keys())[2])\n",
    "print(hash(2.0))\n",
    "print(hash(2))"
   ]
  },
  {
   "cell_type": "code",
   "execution_count": 266,
   "metadata": {},
   "outputs": [
    {
     "name": "stdout",
     "output_type": "stream",
     "text": [
      "DescribeResult(nobs=1447, minmax=(0.0, 1.0), mean=0.6809260539046302, variance=0.09527630104425311, skewness=-0.4477265900985019, kurtosis=-0.6301632468214748)\n"
     ]
    },
    {
     "name": "stderr",
     "output_type": "stream",
     "text": [
      "/group/ag_cmb/scratch/jqin/miniconda3/envs/tape/lib/python3.8/site-packages/seaborn/_decorators.py:36: FutureWarning: Pass the following variable as a keyword arg: x. From version 0.12, the only valid positional argument will be `data`, and passing other arguments without an explicit keyword will result in an error or misinterpretation.\n",
      "  warnings.warn(\n"
     ]
    },
    {
     "data": {
      "image/png": "[encoded data removed]",
      "text/plain": [
       "<Figure size 432x288 with 1 Axes>"
      ]
     },
     "metadata": {
      "needs_background": "light"
     },
     "output_type": "display_data"
    }
   ],
   "source": [
    "sns.violinplot(tra_cdr3_accuracy)\n",
    "print(scipy.stats.describe(tra_cdr3_accuracy))"
   ]
  },
  {
   "cell_type": "code",
   "execution_count": 267,
   "metadata": {},
   "outputs": [
    {
     "name": "stdout",
     "output_type": "stream",
     "text": [
      "DescribeResult(nobs=2210, minmax=(0.0, 1.0), mean=0.6576672592113769, variance=0.09714870021619226, skewness=-0.3656077577954531, kurtosis=-0.6473126901991453)\n"
     ]
    },
    {
     "name": "stderr",
     "output_type": "stream",
     "text": [
      "/group/ag_cmb/scratch/jqin/miniconda3/envs/tape/lib/python3.8/site-packages/seaborn/_decorators.py:36: FutureWarning: Pass the following variable as a keyword arg: x. From version 0.12, the only valid positional argument will be `data`, and passing other arguments without an explicit keyword will result in an error or misinterpretation.\n",
      "  warnings.warn(\n"
     ]
    },
    {
     "data": {
      "image/png": "[encoded data removed]",
      "text/plain": [
       "<Figure size 432x288 with 1 Axes>"
      ]
     },
     "metadata": {
      "needs_background": "light"
     },
     "output_type": "display_data"
    }
   ],
   "source": [
    "sns.violinplot(trb_cdr3_accuracy)\n",
    "print(scipy.stats.describe(trb_cdr3_accuracy))"
   ]
  },
  {
   "cell_type": "markdown",
   "metadata": {},
   "source": [
    "### Compare performance across different species"
   ]
  },
  {
   "cell_type": "code",
   "execution_count": 289,
   "metadata": {},
   "outputs": [],
   "source": [
    "# relevant data files\n",
    "human_cdr3_train_file = data_dir + '/HomoSapiens_cdr3.fasta'\n",
    "mouse_cdr3_train_file = data_dir + '/MusMusculus_cdr3.fasta'\n",
    "macaque_cdr3_train_file = data_dir + '/MacacaMulatta_cdr3.fasta'\n",
    "\n",
    "human_antigen_train_file = data_dir + '/HomoSapiens_antigen.fasta'\n",
    "mouse_antigen_train_file = data_dir + '/MusMusculus_antigen.fasta'\n",
    "macaque_antigen_train_file = data_dir + '/MacacaMulatta_antigen.fasta'\n",
    "\n",
    "# load relevant data\n",
    "human_cdr3_seq_unprocessed = FastaDataset(human_cdr3_train_file, in_memory=True)\n",
    "mouse_cdr3_seq_unprocessed = FastaDataset(mouse_cdr3_train_file, in_memory=True)\n",
    "macaque_cdr3_seq_unprocessed = FastaDataset(macaque_cdr3_train_file, in_memory=True)\n",
    "\n",
    "human_antigen_seq_unprocessed = FastaDataset(human_antigen_train_file, in_memory=True)\n",
    "mouse_antigen_seq_unprocessed = FastaDataset(mouse_antigen_train_file, in_memory=True)\n",
    "macaque_antigen_seq_unprocessed = FastaDataset(macaque_antigen_train_file, in_memory=True)"
   ]
  },
  {
   "cell_type": "code",
   "execution_count": 290,
   "metadata": {},
   "outputs": [],
   "source": [
    "# convert sequence strings into list of ints\n",
    "human_cdr3_seq = [tuple(tokenizer.encode(x['primary'])) for x in human_cdr3_seq_unprocessed]\n",
    "mouse_cdr3_seq = [tuple(tokenizer.encode(x['primary'])) for x in mouse_cdr3_seq_unprocessed]\n",
    "macaque_cdr3_seq = [tuple(tokenizer.encode(x['primary'])) for x in macaque_cdr3_seq_unprocessed]\n",
    "\n",
    "human_antigen_seq = [tuple(tokenizer.encode(x['primary'])) for x in human_antigen_seq_unprocessed]\n",
    "mouse_antigen_seq = [tuple(tokenizer.encode(x['primary'])) for x in mouse_antigen_seq_unprocessed]\n",
    "macaque_antigen_seq = [tuple(tokenizer.encode(x['primary'])) for x in macaque_antigen_seq_unprocessed]"
   ]
  },
  {
   "cell_type": "code",
   "execution_count": 344,
   "metadata": {},
   "outputs": [],
   "source": [
    "human_cdr3_accuracy = []\n",
    "human_cdr3_accuracy_dict = {}\n",
    "for cdr3 in human_cdr3_seq:\n",
    "    if cdr3 in cdr3_valid_accuracy.keys():\n",
    "        human_cdr3_accuracy += [cdr3_valid_accuracy[cdr3]]\n",
    "        human_cdr3_accuracy_dict[cdr3] = cdr3_valid_accuracy[cdr3]\n",
    "        \n",
    "mouse_cdr3_accuracy = []\n",
    "mouse_cdr3_accuracy_dict = {}\n",
    "for cdr3 in mouse_cdr3_seq:\n",
    "    if cdr3 in cdr3_valid_accuracy.keys():\n",
    "        mouse_cdr3_accuracy += [cdr3_valid_accuracy[cdr3]]\n",
    "        mouse_cdr3_accuracy_dict[cdr3] = cdr3_valid_accuracy[cdr3]\n",
    "        \n",
    "macaque_cdr3_accuracy = []\n",
    "macaque_cdr3_accuracy_dict = {}\n",
    "for cdr3 in macaque_cdr3_seq:\n",
    "    if cdr3 in cdr3_valid_accuracy.keys():\n",
    "        macaque_cdr3_accuracy += [cdr3_valid_accuracy[cdr3]]\n",
    "        macaque_cdr3_accuracy_dict[cdr3] = cdr3_valid_accuracy[cdr3]\n",
    "        \n",
    "human_antigen_accuracy = []\n",
    "human_antigen_accuracy_dict = {}\n",
    "for antigen in human_antigen_seq:\n",
    "    if antigen in antigen_valid_accuracy.keys():\n",
    "        human_antigen_accuracy += [antigen_valid_accuracy[antigen]]\n",
    "        human_antigen_accuracy_dict[antigen] = antigen_valid_accuracy[antigen]\n",
    "        \n",
    "mouse_antigen_accuracy = []\n",
    "mouse_antigen_accuracy_dict = {}\n",
    "for antigen in mouse_antigen_seq:\n",
    "    if antigen in antigen_valid_accuracy.keys():\n",
    "        mouse_antigen_accuracy += [antigen_valid_accuracy[antigen]]\n",
    "        mouse_antigen_accuracy_dict[antigen] = antigen_valid_accuracy[antigen]\n",
    "        \n",
    "macaque_antigen_accuracy = []\n",
    "macaque_antigen_accuracy_dict = {}\n",
    "for antigen in macaque_antigen_seq:\n",
    "    if antigen in antigen_valid_accuracy.keys():\n",
    "        macaque_antigen_accuracy += [antigen_valid_accuracy[antigen]]\n",
    "        macaque_antigen_accuracy_dict[antigen] = antigen_valid_accuracy[antigen]"
   ]
  },
  {
   "cell_type": "code",
   "execution_count": 272,
   "metadata": {},
   "outputs": [
    {
     "name": "stdout",
     "output_type": "stream",
     "text": [
      "DescribeResult(nobs=3326, minmax=(0.0, 1.0), mean=0.6468715101795378, variance=0.09537362914734471, skewness=-0.3127065749182697, kurtosis=-0.6233772170779894)\n"
     ]
    },
    {
     "name": "stderr",
     "output_type": "stream",
     "text": [
      "/group/ag_cmb/scratch/jqin/miniconda3/envs/tape/lib/python3.8/site-packages/seaborn/_decorators.py:36: FutureWarning: Pass the following variable as a keyword arg: x. From version 0.12, the only valid positional argument will be `data`, and passing other arguments without an explicit keyword will result in an error or misinterpretation.\n",
      "  warnings.warn(\n"
     ]
    },
    {
     "data": {
      "image/png": "[encoded data removed]",
      "text/plain": [
       "<Figure size 432x288 with 1 Axes>"
      ]
     },
     "metadata": {
      "needs_background": "light"
     },
     "output_type": "display_data"
    }
   ],
   "source": [
    "sns.violinplot(human_cdr3_accuracy)\n",
    "print(scipy.stats.describe(human_cdr3_accuracy))"
   ]
  },
  {
   "cell_type": "code",
   "execution_count": 273,
   "metadata": {},
   "outputs": [
    {
     "name": "stdout",
     "output_type": "stream",
     "text": [
      "DescribeResult(nobs=235, minmax=(0.0, 1.0), mean=0.8592198581560283, variance=0.0631031399648421, skewness=-1.5630956844174242, kurtosis=1.5509951433083247)\n"
     ]
    },
    {
     "name": "stderr",
     "output_type": "stream",
     "text": [
      "/group/ag_cmb/scratch/jqin/miniconda3/envs/tape/lib/python3.8/site-packages/seaborn/_decorators.py:36: FutureWarning: Pass the following variable as a keyword arg: x. From version 0.12, the only valid positional argument will be `data`, and passing other arguments without an explicit keyword will result in an error or misinterpretation.\n",
      "  warnings.warn(\n"
     ]
    },
    {
     "data": {
      "image/png": "[encoded data removed]",
      "text/plain": [
       "<Figure size 432x288 with 1 Axes>"
      ]
     },
     "metadata": {
      "needs_background": "light"
     },
     "output_type": "display_data"
    }
   ],
   "source": [
    "sns.violinplot(mouse_cdr3_accuracy)\n",
    "print(scipy.stats.describe(mouse_cdr3_accuracy))"
   ]
  },
  {
   "cell_type": "code",
   "execution_count": 274,
   "metadata": {},
   "outputs": [
    {
     "name": "stdout",
     "output_type": "stream",
     "text": [
      "DescribeResult(nobs=103, minmax=(0.0, 1.0), mean=0.8737864077669902, variance=0.07214924804873403, skewness=-2.036694987022787, kurtosis=3.1768245138922744)\n"
     ]
    },
    {
     "name": "stderr",
     "output_type": "stream",
     "text": [
      "/group/ag_cmb/scratch/jqin/miniconda3/envs/tape/lib/python3.8/site-packages/seaborn/_decorators.py:36: FutureWarning: Pass the following variable as a keyword arg: x. From version 0.12, the only valid positional argument will be `data`, and passing other arguments without an explicit keyword will result in an error or misinterpretation.\n",
      "  warnings.warn(\n"
     ]
    },
    {
     "data": {
      "image/png": "[encoded data removed]",
      "text/plain": [
       "<Figure size 432x288 with 1 Axes>"
      ]
     },
     "metadata": {
      "needs_background": "light"
     },
     "output_type": "display_data"
    }
   ],
   "source": [
    "sns.violinplot(macaque_cdr3_accuracy)\n",
    "print(scipy.stats.describe(macaque_cdr3_accuracy))"
   ]
  },
  {
   "cell_type": "code",
   "execution_count": 293,
   "metadata": {},
   "outputs": [
    {
     "name": "stdout",
     "output_type": "stream",
     "text": [
      "DescribeResult(nobs=147, minmax=(0.0, 1.0), mean=0.7207386999946432, variance=0.05474512791724506, skewness=-0.7044350370509609, kurtosis=0.6038571309644136)\n"
     ]
    },
    {
     "data": {
      "image/png": "[encoded data removed]",
      "text/plain": [
       "<Figure size 432x288 with 1 Axes>"
      ]
     },
     "metadata": {
      "needs_background": "light"
     },
     "output_type": "display_data"
    }
   ],
   "source": [
    "sns.violinplot(human_antigen_accuracy)\n",
    "print(scipy.stats.describe(human_antigen_accuracy))"
   ]
  },
  {
   "cell_type": "code",
   "execution_count": 295,
   "metadata": {},
   "outputs": [
    {
     "name": "stdout",
     "output_type": "stream",
     "text": [
      "DescribeResult(nobs=19, minmax=(0.5, 1.0), mean=0.8796239259433536, variance=0.031105750285107245, skewness=-1.5615798377821966, kurtosis=0.8754385583535833)\n"
     ]
    },
    {
     "name": "stderr",
     "output_type": "stream",
     "text": [
      "/group/ag_cmb/scratch/jqin/miniconda3/envs/tape/lib/python3.8/site-packages/seaborn/_decorators.py:36: FutureWarning: Pass the following variable as a keyword arg: x. From version 0.12, the only valid positional argument will be `data`, and passing other arguments without an explicit keyword will result in an error or misinterpretation.\n",
      "  warnings.warn(\n"
     ]
    },
    {
     "data": {
      "image/png": "[encoded data removed]",
      "text/plain": [
       "<Figure size 432x288 with 1 Axes>"
      ]
     },
     "metadata": {
      "needs_background": "light"
     },
     "output_type": "display_data"
    }
   ],
   "source": [
    "sns.violinplot(mouse_antigen_accuracy)\n",
    "print(scipy.stats.describe(mouse_antigen_accuracy))"
   ]
  },
  {
   "cell_type": "code",
   "execution_count": 294,
   "metadata": {},
   "outputs": [
    {
     "name": "stdout",
     "output_type": "stream",
     "text": [
      "DescribeResult(nobs=3, minmax=(0.88, 0.9705882352941176), mean=0.9353812636165578, variance=0.0023568086348555403, skewness=-0.6315972644074351, kurtosis=-1.4999999999999951)\n"
     ]
    },
    {
     "name": "stderr",
     "output_type": "stream",
     "text": [
      "/group/ag_cmb/scratch/jqin/miniconda3/envs/tape/lib/python3.8/site-packages/seaborn/_decorators.py:36: FutureWarning: Pass the following variable as a keyword arg: x. From version 0.12, the only valid positional argument will be `data`, and passing other arguments without an explicit keyword will result in an error or misinterpretation.\n",
      "  warnings.warn(\n"
     ]
    },
    {
     "data": {
      "image/png": "[encoded data removed]",
      "text/plain": [
       "<Figure size 432x288 with 1 Axes>"
      ]
     },
     "metadata": {
      "needs_background": "light"
     },
     "output_type": "display_data"
    }
   ],
   "source": [
    "sns.violinplot(macaque_antigen_accuracy)\n",
    "print(scipy.stats.describe(macaque_antigen_accuracy))"
   ]
  },
  {
   "cell_type": "code",
   "execution_count": 325,
   "metadata": {},
   "outputs": [],
   "source": [
    "# what is distribution of how often CDR3 and antigen sequences are seen\n",
    "# in different species?\n",
    "human_cdr3_train_unique_freq = []         # number of sequences with each copy #\n",
    "human_cdr3_train_weighted_freq = []\n",
    "for cdr3 in human_cdr3_seq:\n",
    "    if cdr3 in cdr3_train_counts.keys():\n",
    "        count = cdr3_train_counts[cdr3]\n",
    "        human_cdr3_train_unique_freq += [count]\n",
    "        human_cdr3_train_weighted_freq += count*[count]\n",
    "    \n",
    "human_antigen_train_unique_freq = []         # number of sequences with each copy #\n",
    "human_antigen_train_weighted_freq = []\n",
    "for antigen in human_antigen_seq:\n",
    "    if antigen in antigen_train_counts.keys():\n",
    "        count = antigen_train_counts[antigen]\n",
    "        human_antigen_train_unique_freq += [count]\n",
    "        human_antigen_train_weighted_freq += count*[count]\n",
    "        \n",
    "mouse_cdr3_train_unique_freq = []         # number of sequences with each copy #\n",
    "mouse_cdr3_train_weighted_freq = []\n",
    "for cdr3 in mouse_cdr3_seq:\n",
    "    if cdr3 in cdr3_train_counts.keys():\n",
    "        count = cdr3_train_counts[cdr3]\n",
    "        mouse_cdr3_train_unique_freq += [count]\n",
    "        mouse_cdr3_train_weighted_freq += count*[count]\n",
    "    \n",
    "mouse_antigen_train_unique_freq = []         # number of sequences with each copy #\n",
    "mouse_antigen_train_weighted_freq = []\n",
    "for antigen in mouse_antigen_seq:\n",
    "    if antigen in antigen_train_counts.keys():\n",
    "        count = antigen_train_counts[antigen]\n",
    "        mouse_antigen_train_unique_freq += [count]\n",
    "        mouse_antigen_train_weighted_freq += count*[count]\n",
    "\n",
    "macaque_cdr3_train_unique_freq = []         # number of sequences with each copy #\n",
    "macaque_cdr3_train_weighted_freq = []\n",
    "for cdr3 in macaque_cdr3_seq:\n",
    "    if cdr3 in cdr3_train_counts.keys():\n",
    "        count = cdr3_train_counts[cdr3]\n",
    "        macaque_cdr3_train_unique_freq += [count]\n",
    "        macaque_cdr3_train_weighted_freq += count*[count]\n",
    "    \n",
    "macaque_antigen_train_unique_freq = []         # number of sequences with each copy #\n",
    "macaque_antigen_train_weighted_freq = []\n",
    "for antigen in macaque_antigen_seq:\n",
    "    if antigen in antigen_train_counts.keys():\n",
    "        count = antigen_train_counts[antigen]\n",
    "        macaque_antigen_train_unique_freq += [count]\n",
    "        macaque_antigen_train_weighted_freq += count*[count]\n"
   ]
  },
  {
   "cell_type": "code",
   "execution_count": 313,
   "metadata": {},
   "outputs": [
    {
     "data": {
      "text/html": [
       "<div>\n",
       "<style scoped>\n",
       "    .dataframe tbody tr th:only-of-type {\n",
       "        vertical-align: middle;\n",
       "    }\n",
       "\n",
       "    .dataframe tbody tr th {\n",
       "        vertical-align: top;\n",
       "    }\n",
       "\n",
       "    .dataframe thead th {\n",
       "        text-align: right;\n",
       "    }\n",
       "</style>\n",
       "<table border=\"1\" class=\"dataframe\">\n",
       "  <thead>\n",
       "    <tr style=\"text-align: right;\">\n",
       "      <th></th>\n",
       "      <th>1</th>\n",
       "      <th>2</th>\n",
       "      <th>3</th>\n",
       "      <th>4</th>\n",
       "      <th>5</th>\n",
       "      <th>6</th>\n",
       "      <th>7</th>\n",
       "      <th>8</th>\n",
       "      <th>9</th>\n",
       "      <th>10</th>\n",
       "      <th>...</th>\n",
       "      <th>92</th>\n",
       "      <th>95</th>\n",
       "      <th>102</th>\n",
       "      <th>117</th>\n",
       "      <th>124</th>\n",
       "      <th>127</th>\n",
       "      <th>138</th>\n",
       "      <th>142</th>\n",
       "      <th>145</th>\n",
       "      <th>323</th>\n",
       "    </tr>\n",
       "  </thead>\n",
       "  <tbody>\n",
       "    <tr>\n",
       "      <th>0</th>\n",
       "      <td>42074</td>\n",
       "      <td>4092</td>\n",
       "      <td>1005</td>\n",
       "      <td>420</td>\n",
       "      <td>200</td>\n",
       "      <td>103</td>\n",
       "      <td>72</td>\n",
       "      <td>63</td>\n",
       "      <td>33</td>\n",
       "      <td>38</td>\n",
       "      <td>...</td>\n",
       "      <td>1</td>\n",
       "      <td>1</td>\n",
       "      <td>1</td>\n",
       "      <td>1</td>\n",
       "      <td>1</td>\n",
       "      <td>1</td>\n",
       "      <td>1</td>\n",
       "      <td>1</td>\n",
       "      <td>1</td>\n",
       "      <td>1</td>\n",
       "    </tr>\n",
       "  </tbody>\n",
       "</table>\n",
       "<p>1 rows × 57 columns</p>\n",
       "</div>"
      ],
      "text/plain": [
       "     1     2     3    4    5    6    7    8    9    10   ...  92   95   102  \\\n",
       "0  42074  4092  1005  420  200  103   72   63   33   38  ...    1    1    1   \n",
       "\n",
       "   117  124  127  138  142  145  323  \n",
       "0    1    1    1    1    1    1    1  \n",
       "\n",
       "[1 rows x 57 columns]"
      ]
     },
     "execution_count": 313,
     "metadata": {},
     "output_type": "execute_result"
    }
   ],
   "source": [
    "pd.value_counts(human_cdr3_train_unique_freq).to_frame().sort_index().transpose()"
   ]
  },
  {
   "cell_type": "code",
   "execution_count": 314,
   "metadata": {},
   "outputs": [
    {
     "data": {
      "text/html": [
       "<div>\n",
       "<style scoped>\n",
       "    .dataframe tbody tr th:only-of-type {\n",
       "        vertical-align: middle;\n",
       "    }\n",
       "\n",
       "    .dataframe tbody tr th {\n",
       "        vertical-align: top;\n",
       "    }\n",
       "\n",
       "    .dataframe thead th {\n",
       "        text-align: right;\n",
       "    }\n",
       "</style>\n",
       "<table border=\"1\" class=\"dataframe\">\n",
       "  <thead>\n",
       "    <tr style=\"text-align: right;\">\n",
       "      <th></th>\n",
       "      <th>1</th>\n",
       "      <th>2</th>\n",
       "      <th>3</th>\n",
       "      <th>4</th>\n",
       "      <th>5</th>\n",
       "      <th>6</th>\n",
       "      <th>7</th>\n",
       "      <th>8</th>\n",
       "      <th>9</th>\n",
       "      <th>10</th>\n",
       "      <th>...</th>\n",
       "      <th>29</th>\n",
       "      <th>32</th>\n",
       "      <th>35</th>\n",
       "      <th>40</th>\n",
       "      <th>42</th>\n",
       "      <th>50</th>\n",
       "      <th>59</th>\n",
       "      <th>60</th>\n",
       "      <th>64</th>\n",
       "      <th>92</th>\n",
       "    </tr>\n",
       "  </thead>\n",
       "  <tbody>\n",
       "    <tr>\n",
       "      <th>0</th>\n",
       "      <td>2372</td>\n",
       "      <td>271</td>\n",
       "      <td>111</td>\n",
       "      <td>36</td>\n",
       "      <td>26</td>\n",
       "      <td>19</td>\n",
       "      <td>17</td>\n",
       "      <td>8</td>\n",
       "      <td>2</td>\n",
       "      <td>7</td>\n",
       "      <td>...</td>\n",
       "      <td>1</td>\n",
       "      <td>2</td>\n",
       "      <td>1</td>\n",
       "      <td>1</td>\n",
       "      <td>1</td>\n",
       "      <td>1</td>\n",
       "      <td>1</td>\n",
       "      <td>1</td>\n",
       "      <td>1</td>\n",
       "      <td>1</td>\n",
       "    </tr>\n",
       "  </tbody>\n",
       "</table>\n",
       "<p>1 rows × 30 columns</p>\n",
       "</div>"
      ],
      "text/plain": [
       "     1    2    3   4   5   6   7   8   9   10  ...  29  32  35  40  42  50  \\\n",
       "0  2372  271  111  36  26  19  17   8   2   7  ...   1   2   1   1   1   1   \n",
       "\n",
       "   59  60  64  92  \n",
       "0   1   1   1   1  \n",
       "\n",
       "[1 rows x 30 columns]"
      ]
     },
     "execution_count": 314,
     "metadata": {},
     "output_type": "execute_result"
    }
   ],
   "source": [
    "pd.value_counts(mouse_cdr3_train_unique_freq).to_frame().sort_index().transpose()"
   ]
  },
  {
   "cell_type": "code",
   "execution_count": 315,
   "metadata": {},
   "outputs": [
    {
     "data": {
      "text/html": [
       "<div>\n",
       "<style scoped>\n",
       "    .dataframe tbody tr th:only-of-type {\n",
       "        vertical-align: middle;\n",
       "    }\n",
       "\n",
       "    .dataframe tbody tr th {\n",
       "        vertical-align: top;\n",
       "    }\n",
       "\n",
       "    .dataframe thead th {\n",
       "        text-align: right;\n",
       "    }\n",
       "</style>\n",
       "<table border=\"1\" class=\"dataframe\">\n",
       "  <thead>\n",
       "    <tr style=\"text-align: right;\">\n",
       "      <th></th>\n",
       "      <th>1</th>\n",
       "      <th>2</th>\n",
       "      <th>3</th>\n",
       "      <th>4</th>\n",
       "      <th>5</th>\n",
       "      <th>6</th>\n",
       "      <th>7</th>\n",
       "      <th>8</th>\n",
       "      <th>9</th>\n",
       "      <th>10</th>\n",
       "      <th>12</th>\n",
       "      <th>13</th>\n",
       "      <th>14</th>\n",
       "      <th>16</th>\n",
       "      <th>18</th>\n",
       "      <th>19</th>\n",
       "      <th>22</th>\n",
       "    </tr>\n",
       "  </thead>\n",
       "  <tbody>\n",
       "    <tr>\n",
       "      <th>0</th>\n",
       "      <td>749</td>\n",
       "      <td>250</td>\n",
       "      <td>44</td>\n",
       "      <td>35</td>\n",
       "      <td>9</td>\n",
       "      <td>3</td>\n",
       "      <td>4</td>\n",
       "      <td>1</td>\n",
       "      <td>2</td>\n",
       "      <td>1</td>\n",
       "      <td>1</td>\n",
       "      <td>1</td>\n",
       "      <td>2</td>\n",
       "      <td>1</td>\n",
       "      <td>1</td>\n",
       "      <td>1</td>\n",
       "      <td>1</td>\n",
       "    </tr>\n",
       "  </tbody>\n",
       "</table>\n",
       "</div>"
      ],
      "text/plain": [
       "    1    2   3   4   5   6   7   8   9   10  12  13  14  16  18  19  22\n",
       "0  749  250  44  35   9   3   4   1   2   1   1   1   2   1   1   1   1"
      ]
     },
     "execution_count": 315,
     "metadata": {},
     "output_type": "execute_result"
    }
   ],
   "source": [
    "pd.value_counts(macaque_cdr3_train_unique_freq).to_frame().sort_index().transpose()"
   ]
  },
  {
   "cell_type": "code",
   "execution_count": 324,
   "metadata": {},
   "outputs": [
    {
     "data": {
      "text/html": [
       "<div>\n",
       "<style scoped>\n",
       "    .dataframe tbody tr th:only-of-type {\n",
       "        vertical-align: middle;\n",
       "    }\n",
       "\n",
       "    .dataframe tbody tr th {\n",
       "        vertical-align: top;\n",
       "    }\n",
       "\n",
       "    .dataframe thead th {\n",
       "        text-align: right;\n",
       "    }\n",
       "</style>\n",
       "<table border=\"1\" class=\"dataframe\">\n",
       "  <thead>\n",
       "    <tr style=\"text-align: right;\">\n",
       "      <th></th>\n",
       "      <th>0</th>\n",
       "    </tr>\n",
       "  </thead>\n",
       "  <tbody>\n",
       "    <tr>\n",
       "      <th>1</th>\n",
       "      <td>40</td>\n",
       "    </tr>\n",
       "    <tr>\n",
       "      <th>2</th>\n",
       "      <td>85</td>\n",
       "    </tr>\n",
       "    <tr>\n",
       "      <th>3</th>\n",
       "      <td>13</td>\n",
       "    </tr>\n",
       "    <tr>\n",
       "      <th>4</th>\n",
       "      <td>17</td>\n",
       "    </tr>\n",
       "    <tr>\n",
       "      <th>5</th>\n",
       "      <td>4</td>\n",
       "    </tr>\n",
       "    <tr>\n",
       "      <th>6</th>\n",
       "      <td>6</td>\n",
       "    </tr>\n",
       "    <tr>\n",
       "      <th>7</th>\n",
       "      <td>8</td>\n",
       "    </tr>\n",
       "    <tr>\n",
       "      <th>8</th>\n",
       "      <td>5</td>\n",
       "    </tr>\n",
       "    <tr>\n",
       "      <th>9</th>\n",
       "      <td>3</td>\n",
       "    </tr>\n",
       "    <tr>\n",
       "      <th>10</th>\n",
       "      <td>5</td>\n",
       "    </tr>\n",
       "  </tbody>\n",
       "</table>\n",
       "</div>"
      ],
      "text/plain": [
       "     0\n",
       "1   40\n",
       "2   85\n",
       "3   13\n",
       "4   17\n",
       "5    4\n",
       "6    6\n",
       "7    8\n",
       "8    5\n",
       "9    3\n",
       "10   5"
      ]
     },
     "execution_count": 324,
     "metadata": {},
     "output_type": "execute_result"
    }
   ],
   "source": [
    "pd.value_counts(human_antigen_train_unique_freq).to_frame().sort_index()[0:10]"
   ]
  },
  {
   "cell_type": "code",
   "execution_count": 317,
   "metadata": {},
   "outputs": [
    {
     "data": {
      "text/html": [
       "<div>\n",
       "<style scoped>\n",
       "    .dataframe tbody tr th:only-of-type {\n",
       "        vertical-align: middle;\n",
       "    }\n",
       "\n",
       "    .dataframe tbody tr th {\n",
       "        vertical-align: top;\n",
       "    }\n",
       "\n",
       "    .dataframe thead th {\n",
       "        text-align: right;\n",
       "    }\n",
       "</style>\n",
       "<table border=\"1\" class=\"dataframe\">\n",
       "  <thead>\n",
       "    <tr style=\"text-align: right;\">\n",
       "      <th></th>\n",
       "      <th>0</th>\n",
       "    </tr>\n",
       "  </thead>\n",
       "  <tbody>\n",
       "    <tr>\n",
       "      <th>1</th>\n",
       "      <td>5</td>\n",
       "    </tr>\n",
       "    <tr>\n",
       "      <th>2</th>\n",
       "      <td>11</td>\n",
       "    </tr>\n",
       "    <tr>\n",
       "      <th>3</th>\n",
       "      <td>2</td>\n",
       "    </tr>\n",
       "    <tr>\n",
       "      <th>4</th>\n",
       "      <td>1</td>\n",
       "    </tr>\n",
       "    <tr>\n",
       "      <th>7</th>\n",
       "      <td>1</td>\n",
       "    </tr>\n",
       "    <tr>\n",
       "      <th>11</th>\n",
       "      <td>1</td>\n",
       "    </tr>\n",
       "    <tr>\n",
       "      <th>12</th>\n",
       "      <td>1</td>\n",
       "    </tr>\n",
       "    <tr>\n",
       "      <th>13</th>\n",
       "      <td>1</td>\n",
       "    </tr>\n",
       "    <tr>\n",
       "      <th>22</th>\n",
       "      <td>1</td>\n",
       "    </tr>\n",
       "    <tr>\n",
       "      <th>55</th>\n",
       "      <td>1</td>\n",
       "    </tr>\n",
       "    <tr>\n",
       "      <th>60</th>\n",
       "      <td>1</td>\n",
       "    </tr>\n",
       "    <tr>\n",
       "      <th>116</th>\n",
       "      <td>1</td>\n",
       "    </tr>\n",
       "    <tr>\n",
       "      <th>163</th>\n",
       "      <td>1</td>\n",
       "    </tr>\n",
       "    <tr>\n",
       "      <th>188</th>\n",
       "      <td>1</td>\n",
       "    </tr>\n",
       "    <tr>\n",
       "      <th>216</th>\n",
       "      <td>1</td>\n",
       "    </tr>\n",
       "    <tr>\n",
       "      <th>273</th>\n",
       "      <td>1</td>\n",
       "    </tr>\n",
       "    <tr>\n",
       "      <th>447</th>\n",
       "      <td>1</td>\n",
       "    </tr>\n",
       "    <tr>\n",
       "      <th>505</th>\n",
       "      <td>1</td>\n",
       "    </tr>\n",
       "    <tr>\n",
       "      <th>571</th>\n",
       "      <td>1</td>\n",
       "    </tr>\n",
       "    <tr>\n",
       "      <th>777</th>\n",
       "      <td>1</td>\n",
       "    </tr>\n",
       "    <tr>\n",
       "      <th>1211</th>\n",
       "      <td>1</td>\n",
       "    </tr>\n",
       "  </tbody>\n",
       "</table>\n",
       "</div>"
      ],
      "text/plain": [
       "       0\n",
       "1      5\n",
       "2     11\n",
       "3      2\n",
       "4      1\n",
       "7      1\n",
       "11     1\n",
       "12     1\n",
       "13     1\n",
       "22     1\n",
       "55     1\n",
       "60     1\n",
       "116    1\n",
       "163    1\n",
       "188    1\n",
       "216    1\n",
       "273    1\n",
       "447    1\n",
       "505    1\n",
       "571    1\n",
       "777    1\n",
       "1211   1"
      ]
     },
     "execution_count": 317,
     "metadata": {},
     "output_type": "execute_result"
    }
   ],
   "source": [
    "pd.value_counts(mouse_antigen_train_unique_freq).to_frame().sort_index()"
   ]
  },
  {
   "cell_type": "code",
   "execution_count": 318,
   "metadata": {},
   "outputs": [
    {
     "data": {
      "text/html": [
       "<div>\n",
       "<style scoped>\n",
       "    .dataframe tbody tr th:only-of-type {\n",
       "        vertical-align: middle;\n",
       "    }\n",
       "\n",
       "    .dataframe tbody tr th {\n",
       "        vertical-align: top;\n",
       "    }\n",
       "\n",
       "    .dataframe thead th {\n",
       "        text-align: right;\n",
       "    }\n",
       "</style>\n",
       "<table border=\"1\" class=\"dataframe\">\n",
       "  <thead>\n",
       "    <tr style=\"text-align: right;\">\n",
       "      <th></th>\n",
       "      <th>0</th>\n",
       "    </tr>\n",
       "  </thead>\n",
       "  <tbody>\n",
       "    <tr>\n",
       "      <th>272</th>\n",
       "      <td>1</td>\n",
       "    </tr>\n",
       "    <tr>\n",
       "      <th>761</th>\n",
       "      <td>1</td>\n",
       "    </tr>\n",
       "    <tr>\n",
       "      <th>871</th>\n",
       "      <td>1</td>\n",
       "    </tr>\n",
       "  </tbody>\n",
       "</table>\n",
       "</div>"
      ],
      "text/plain": [
       "     0\n",
       "272  1\n",
       "761  1\n",
       "871  1"
      ]
     },
     "execution_count": 318,
     "metadata": {},
     "output_type": "execute_result"
    }
   ],
   "source": [
    "pd.value_counts(macaque_antigen_train_unique_freq).to_frame().sort_index()"
   ]
  },
  {
   "cell_type": "code",
   "execution_count": 326,
   "metadata": {},
   "outputs": [
    {
     "data": {
      "text/plain": [
       "<AxesSubplot:ylabel='Density'>"
      ]
     },
     "execution_count": 326,
     "metadata": {},
     "output_type": "execute_result"
    },
    {
     "data": {
      "image/png": "[encoded data removed]",
      "text/plain": [
       "<Figure size 432x288 with 1 Axes>"
      ]
     },
     "metadata": {
      "needs_background": "light"
     },
     "output_type": "display_data"
    }
   ],
   "source": [
    "sns.kdeplot(human_cdr3_train_weighted_freq, bw_adjust=0.1)"
   ]
  },
  {
   "cell_type": "code",
   "execution_count": 330,
   "metadata": {},
   "outputs": [
    {
     "data": {
      "text/plain": [
       "<AxesSubplot:ylabel='Density'>"
      ]
     },
     "execution_count": 330,
     "metadata": {},
     "output_type": "execute_result"
    },
    {
     "data": {
      "image/png": "[encoded data removed]",
      "text/plain": [
       "<Figure size 432x288 with 1 Axes>"
      ]
     },
     "metadata": {
      "needs_background": "light"
     },
     "output_type": "display_data"
    }
   ],
   "source": [
    "sns.kdeplot(mouse_cdr3_train_weighted_freq, bw_adjust=0.4)"
   ]
  },
  {
   "cell_type": "code",
   "execution_count": 332,
   "metadata": {},
   "outputs": [
    {
     "data": {
      "text/plain": [
       "<AxesSubplot:ylabel='Density'>"
      ]
     },
     "execution_count": 332,
     "metadata": {},
     "output_type": "execute_result"
    },
    {
     "data": {
      "image/png": "[encoded data removed]",
      "text/plain": [
       "<Figure size 432x288 with 1 Axes>"
      ]
     },
     "metadata": {
      "needs_background": "light"
     },
     "output_type": "display_data"
    }
   ],
   "source": [
    "sns.kdeplot(macaque_cdr3_train_weighted_freq, bw_adjust=1)"
   ]
  },
  {
   "cell_type": "code",
   "execution_count": 338,
   "metadata": {},
   "outputs": [
    {
     "data": {
      "text/plain": [
       "<AxesSubplot:ylabel='Density'>"
      ]
     },
     "execution_count": 338,
     "metadata": {},
     "output_type": "execute_result"
    },
    {
     "data": {
      "image/png": "[encoded data removed]",
      "text/plain": [
       "<Figure size 432x288 with 1 Axes>"
      ]
     },
     "metadata": {
      "needs_background": "light"
     },
     "output_type": "display_data"
    }
   ],
   "source": [
    "sns.kdeplot(human_antigen_train_weighted_freq, bw_adjust=0.3)"
   ]
  },
  {
   "cell_type": "code",
   "execution_count": 337,
   "metadata": {},
   "outputs": [
    {
     "data": {
      "text/plain": [
       "<AxesSubplot:ylabel='Density'>"
      ]
     },
     "execution_count": 337,
     "metadata": {},
     "output_type": "execute_result"
    },
    {
     "data": {
      "image/png": "[encoded data removed]",
      "text/plain": [
       "<Figure size 432x288 with 1 Axes>"
      ]
     },
     "metadata": {
      "needs_background": "light"
     },
     "output_type": "display_data"
    }
   ],
   "source": [
    "sns.kdeplot(mouse_antigen_train_weighted_freq, bw_adjust=.5)"
   ]
  },
  {
   "cell_type": "code",
   "execution_count": 339,
   "metadata": {},
   "outputs": [
    {
     "data": {
      "text/plain": [
       "<AxesSubplot:ylabel='Density'>"
      ]
     },
     "execution_count": 339,
     "metadata": {},
     "output_type": "execute_result"
    },
    {
     "data": {
      "image/png": "[encoded data removed]",
      "text/plain": [
       "<Figure size 432x288 with 1 Axes>"
      ]
     },
     "metadata": {
      "needs_background": "light"
     },
     "output_type": "display_data"
    }
   ],
   "source": [
    "sns.kdeplot(macaque_antigen_train_weighted_freq, bw_adjust=.5)"
   ]
  },
  {
   "cell_type": "code",
   "execution_count": 348,
   "metadata": {},
   "outputs": [],
   "source": [
    "# does mouse classification show significant relationship between frequency\n",
    "# of antigen in training data and model performance?\n",
    "mouse_cdr3_valid_accuracy_list = []\n",
    "mouse_cdr3_valid_freq_in_train = []\n",
    "for cdr3 in mouse_cdr3_accuracy_dict.keys():\n",
    "    mouse_cdr3_valid_accuracy_list += [mouse_cdr3_accuracy_dict[cdr3]]\n",
    "    if cdr3 not in cdr3_train_counts.keys():\n",
    "        mouse_cdr3_valid_freq_in_train += [0]\n",
    "    else:\n",
    "        mouse_cdr3_valid_freq_in_train += [cdr3_train_counts[cdr3]]\n",
    "        \n",
    "mouse_antigen_valid_accuracy_list = []\n",
    "mouse_antigen_valid_freq_in_train = []\n",
    "for antigen in mouse_antigen_accuracy_dict.keys():\n",
    "    mouse_antigen_valid_accuracy_list += [mouse_antigen_accuracy_dict[antigen]]\n",
    "    if antigen not in antigen_train_counts.keys():\n",
    "        mouse_antigen_valid_freq_in_train += [0]\n",
    "    else:\n",
    "        mouse_antigen_valid_freq_in_train += [antigen_train_counts[antigen]]\n",
    "        \n",
    "mouse_cdr3_valid_accuracy_list = np.array(mouse_cdr3_valid_accuracy_list)\n",
    "mouse_cdr3_valid_freq_in_train = np.array(mouse_cdr3_valid_freq_in_train)\n",
    "mouse_antigen_valid_accuracy_list = np.array(mouse_antigen_valid_accuracy_list)\n",
    "mouse_antigen_valid_freq_in_train = np.array(mouse_antigen_valid_freq_in_train)"
   ]
  },
  {
   "cell_type": "code",
   "execution_count": 349,
   "metadata": {},
   "outputs": [
    {
     "name": "stderr",
     "output_type": "stream",
     "text": [
      "/group/ag_cmb/scratch/jqin/miniconda3/envs/tape/lib/python3.8/site-packages/seaborn/_decorators.py:36: FutureWarning: Pass the following variables as keyword args: x, y. From version 0.12, the only valid positional argument will be `data`, and passing other arguments without an explicit keyword will result in an error or misinterpretation.\n",
      "  warnings.warn(\n"
     ]
    },
    {
     "data": {
      "text/plain": [
       "<AxesSubplot:>"
      ]
     },
     "execution_count": 349,
     "metadata": {},
     "output_type": "execute_result"
    },
    {
     "data": {
      "image/png": "[encoded data removed]",
      "text/plain": [
       "<Figure size 432x288 with 1 Axes>"
      ]
     },
     "metadata": {
      "needs_background": "light"
     },
     "output_type": "display_data"
    }
   ],
   "source": [
    "sns.regplot(np.log(mouse_cdr3_valid_freq_in_train+1), mouse_cdr3_valid_accuracy_list)"
   ]
  },
  {
   "cell_type": "code",
   "execution_count": 351,
   "metadata": {},
   "outputs": [
    {
     "name": "stderr",
     "output_type": "stream",
     "text": [
      "/group/ag_cmb/scratch/jqin/miniconda3/envs/tape/lib/python3.8/site-packages/seaborn/_decorators.py:36: FutureWarning: Pass the following variables as keyword args: x, y. From version 0.12, the only valid positional argument will be `data`, and passing other arguments without an explicit keyword will result in an error or misinterpretation.\n",
      "  warnings.warn(\n"
     ]
    },
    {
     "data": {
      "text/plain": [
       "<AxesSubplot:>"
      ]
     },
     "execution_count": 351,
     "metadata": {},
     "output_type": "execute_result"
    },
    {
     "data": {
      "image/png": "[encoded data removed]",
      "text/plain": [
       "<Figure size 432x288 with 1 Axes>"
      ]
     },
     "metadata": {
      "needs_background": "light"
     },
     "output_type": "display_data"
    }
   ],
   "source": [
    "sns.regplot(np.log(mouse_antigen_valid_freq_in_train+1), mouse_antigen_valid_accuracy_list)"
   ]
  }
 ],
 "metadata": {
  "kernelspec": {
   "display_name": "Python 3",
   "language": "python",
   "name": "python3"
  },
  "language_info": {
   "codemirror_mode": {
    "name": "ipython",
    "version": 3
   },
   "file_extension": ".py",
   "mimetype": "text/x-python",
   "name": "python",
   "nbconvert_exporter": "python",
   "pygments_lexer": "ipython3",
   "version": "3.8.5"
  }
 },
 "nbformat": 4,
 "nbformat_minor": 4
}
