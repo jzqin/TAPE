{
 "cells": [
  {
   "cell_type": "code",
   "execution_count": 1,
   "metadata": {},
   "outputs": [],
   "source": [
    "# Jason Qin\n",
    "# 04/26/21"
   ]
  },
  {
   "cell_type": "markdown",
   "metadata": {},
   "source": [
    "# Analyzing Classification Data\n",
    "\n",
    "Classification results from running TAPE on VDJdb TCR-antigen data."
   ]
  },
  {
   "cell_type": "code",
   "execution_count": 2,
   "metadata": {},
   "outputs": [],
   "source": [
    "import numpy as np\n",
    "import pandas as pd\n",
    "import seaborn as sns\n",
    "import matplotlib.pyplot as plt\n",
    "\n",
    "from scipy.spatial.distance import cdist, hamming\n",
    "import scipy.stats\n",
    "import sklearn.metrics\n",
    "\n",
    "from tape.datasets import FastaDataset, pad_sequences\n",
    "from tape.tokenizers import TAPETokenizer"
   ]
  },
  {
   "cell_type": "markdown",
   "metadata": {},
   "source": [
    "### Analyze Performance of Classification Model on Validation Data"
   ]
  },
  {
   "cell_type": "code",
   "execution_count": 3,
   "metadata": {},
   "outputs": [],
   "source": [
    "# data_file = '/group/ag_cmb/scratch/jqin/projects/tape/results/tcr_classification_transformer_21-05-04-17-05-03_317740/eval_predictions_050521_010157.txt'\n",
    "data_file = '/group/ag_cmb/scratch/jqin/projects/tape/results/tcr_classification_unique_antigens/eval_predictions_210521_031237.txt'\n",
    "data = pd.read_csv(data_file, sep='\\t')"
   ]
  },
  {
   "cell_type": "code",
   "execution_count": 4,
   "metadata": {},
   "outputs": [
    {
     "name": "stderr",
     "output_type": "stream",
     "text": [
      "<ipython-input-4-8978dd737fa3>:7: FutureWarning: The default value of regex will change from True to False in a future version.\n",
      "  data[col] = data[col].str.replace(r'.*\\[', '')\n",
      "<ipython-input-4-8978dd737fa3>:8: FutureWarning: The default value of regex will change from True to False in a future version.\n",
      "  data[col] = data[col].str.replace(r'\\].*', '')\n"
     ]
    }
   ],
   "source": [
    "# clean and organize data\n",
    "column_names = ['input', 'target', 'prediction', 'index']\n",
    "for col in column_names:\n",
    "    # remove all non-numeric parts of data\n",
    "    if type(data[col][0]) != str:\n",
    "        continue\n",
    "    data[col] = data[col].str.replace(r'.*\\[', '')\n",
    "    data[col] = data[col].str.replace(r'\\].*', '')\n",
    "    data[col] = data[col].str.replace(r'        ', ',')\n",
    "    data[col] = data[col].str.strip()\n",
    "    \n",
    "    # convert comma-separated string of ints to list of ints\n",
    "    data[col] = [np.array([float(y.strip('.')) for y in x]) for x in data[col].str.split(',')]\n",
    "\n",
    "data = data.sort_values('index')"
   ]
  },
  {
   "cell_type": "code",
   "execution_count": 5,
   "metadata": {},
   "outputs": [],
   "source": [
    "inputs = data['input']\n",
    "predictions = data['prediction']\n",
    "targets = data['target']\n",
    "\n",
    "# round predictions to nearest int\n",
    "preds_round = np.rint(predictions)"
   ]
  },
  {
   "cell_type": "code",
   "execution_count": 6,
   "metadata": {},
   "outputs": [
    {
     "name": "stderr",
     "output_type": "stream",
     "text": [
      "/group/ag_cmb/scratch/jqin/miniconda3/envs/tape/lib/python3.8/site-packages/seaborn/_decorators.py:36: FutureWarning: Pass the following variables as keyword args: x, y. From version 0.12, the only valid positional argument will be `data`, and passing other arguments without an explicit keyword will result in an error or misinterpretation.\n",
      "  warnings.warn(\n"
     ]
    },
    {
     "data": {
      "text/plain": [
       "<AxesSubplot:xlabel='target', ylabel='prediction'>"
      ]
     },
     "execution_count": 6,
     "metadata": {},
     "output_type": "execute_result"
    },
    {
     "data": {
      "image/png": "[encoded data removed]",
      "text/plain": [
       "<Figure size 432x288 with 1 Axes>"
      ]
     },
     "metadata": {
      "needs_background": "light"
     },
     "output_type": "display_data"
    }
   ],
   "source": [
    "# how do predictions compare to targets?\n",
    "sns.scatterplot(targets, predictions, alpha=0.01)"
   ]
  },
  {
   "cell_type": "code",
   "execution_count": 7,
   "metadata": {},
   "outputs": [],
   "source": [
    "# calculate true positives, true negatives, false pos, and false neg\n",
    "preds_confusion_matrix = sklearn.metrics.confusion_matrix(targets, preds_round)\n",
    "\n",
    "true_neg = preds_confusion_matrix[0,0]\n",
    "false_pos = preds_confusion_matrix[0,1]\n",
    "false_neg = preds_confusion_matrix[1,0]\n",
    "true_pos = preds_confusion_matrix[1,1]\n",
    "\n",
    "true_neg_rate = true_neg / (true_neg + false_pos)\n",
    "false_pos_rate = false_pos / (true_neg + false_pos)\n",
    "false_neg_rate = false_neg / (true_pos + false_neg)\n",
    "true_pos_rate = true_pos / (true_pos + false_neg)"
   ]
  },
  {
   "cell_type": "code",
   "execution_count": 8,
   "metadata": {},
   "outputs": [
    {
     "name": "stdout",
     "output_type": "stream",
     "text": [
      "True Negative Rate: 0.8380910554823598\n",
      "False Positive Rate: 0.16190894451764018\n",
      "False Negative Rate: 0.6326306543697848\n",
      "True Positive Rate: 0.36736934563021517\n"
     ]
    }
   ],
   "source": [
    "print('True Negative Rate: {}'.format(true_neg_rate))\n",
    "print('False Positive Rate: {}'.format(false_pos_rate))\n",
    "print('False Negative Rate: {}'.format(false_neg_rate))\n",
    "print('True Positive Rate: {}'.format(true_pos_rate))"
   ]
  },
  {
   "cell_type": "markdown",
   "metadata": {},
   "source": [
    "### Analyze uniqueness of CDR3 and antigen sequences in training data"
   ]
  },
  {
   "cell_type": "code",
   "execution_count": 9,
   "metadata": {},
   "outputs": [],
   "source": [
    "# relevant data files\n",
    "data_dir = '/group/ag_cmb/scratch/jqin/projects/tape/data/tcr'\n",
    "cdr3_train_file = data_dir + '/cdr3_unique_train.fasta'\n",
    "antigen_train_file = data_dir + '/antigen_unique_train.fasta'\n",
    "cdr3_valid_file = data_dir + '/cdr3_unique_test.fasta'\n",
    "antigen_valid_file = data_dir + '/antigen_unique_test.fasta'\n",
    "\n",
    "# set up tokenizer\n",
    "tokenizer = TAPETokenizer(vocab='iupac')\n",
    "\n",
    "# load relevant data\n",
    "cdr3_train_data_uncleaned = FastaDataset(cdr3_train_file, in_memory=True)\n",
    "antigen_train_data_uncleaned = FastaDataset(antigen_train_file, in_memory=True)"
   ]
  },
  {
   "cell_type": "code",
   "execution_count": 10,
   "metadata": {},
   "outputs": [],
   "source": [
    "# organize data\n",
    "cdr3_train_data = [tuple(tokenizer.encode(x['primary'])) for x in cdr3_train_data_uncleaned]\n",
    "antigen_train_data = [tuple(tokenizer.encode(x['primary'])) for x in antigen_train_data_uncleaned]"
   ]
  },
  {
   "cell_type": "code",
   "execution_count": 11,
   "metadata": {},
   "outputs": [],
   "source": [
    "# find how many times each CDR3 sequence appears in the training data\n",
    "cdr3_train_counts = {}\n",
    "for cdr3 in cdr3_train_data:\n",
    "    if cdr3 not in cdr3_train_counts.keys():\n",
    "        cdr3_train_counts[cdr3] = 1\n",
    "    else:\n",
    "        cdr3_train_counts[cdr3] += 1\n",
    "        \n",
    "# find how many times each antigen sequence appears in the training data\n",
    "antigen_train_counts = {}\n",
    "for antigen in antigen_train_data:\n",
    "    if antigen not in antigen_train_counts.keys():\n",
    "        antigen_train_counts[antigen] = 1\n",
    "    else:\n",
    "        antigen_train_counts[antigen] += 1"
   ]
  },
  {
   "cell_type": "code",
   "execution_count": 12,
   "metadata": {},
   "outputs": [],
   "source": [
    "# find frequency of how many sequences are unique vs. duplicates\n",
    "cdr3_train_unique_freq = []         # number of sequences with each copy #\n",
    "cdr3_train_weighted_freq = []       # num of seq with each copy #, weighted by copy #\n",
    "for key, item in cdr3_train_counts.items():\n",
    "    cdr3_train_unique_freq += [item]\n",
    "    cdr3_train_weighted_freq += item*[item]\n",
    "\n",
    "antigen_train_unique_freq = []\n",
    "antigen_train_weighted_freq = []\n",
    "for key, item in antigen_train_counts.items():\n",
    "    antigen_train_unique_freq += [item]\n",
    "    antigen_train_weighted_freq += item*[item]"
   ]
  },
  {
   "cell_type": "code",
   "execution_count": 13,
   "metadata": {},
   "outputs": [
    {
     "data": {
      "text/html": [
       "<div>\n",
       "<style scoped>\n",
       "    .dataframe tbody tr th:only-of-type {\n",
       "        vertical-align: middle;\n",
       "    }\n",
       "\n",
       "    .dataframe tbody tr th {\n",
       "        vertical-align: top;\n",
       "    }\n",
       "\n",
       "    .dataframe thead th {\n",
       "        text-align: right;\n",
       "    }\n",
       "</style>\n",
       "<table border=\"1\" class=\"dataframe\">\n",
       "  <thead>\n",
       "    <tr style=\"text-align: right;\">\n",
       "      <th></th>\n",
       "      <th>1</th>\n",
       "      <th>2</th>\n",
       "      <th>3</th>\n",
       "      <th>4</th>\n",
       "      <th>5</th>\n",
       "      <th>6</th>\n",
       "      <th>7</th>\n",
       "      <th>8</th>\n",
       "      <th>9</th>\n",
       "      <th>10</th>\n",
       "      <th>...</th>\n",
       "      <th>99</th>\n",
       "      <th>103</th>\n",
       "      <th>106</th>\n",
       "      <th>123</th>\n",
       "      <th>140</th>\n",
       "      <th>144</th>\n",
       "      <th>145</th>\n",
       "      <th>154</th>\n",
       "      <th>155</th>\n",
       "      <th>344</th>\n",
       "    </tr>\n",
       "  </thead>\n",
       "  <tbody>\n",
       "    <tr>\n",
       "      <th>0</th>\n",
       "      <td>46497</td>\n",
       "      <td>4879</td>\n",
       "      <td>1126</td>\n",
       "      <td>504</td>\n",
       "      <td>256</td>\n",
       "      <td>117</td>\n",
       "      <td>86</td>\n",
       "      <td>60</td>\n",
       "      <td>54</td>\n",
       "      <td>34</td>\n",
       "      <td>...</td>\n",
       "      <td>1</td>\n",
       "      <td>1</td>\n",
       "      <td>1</td>\n",
       "      <td>1</td>\n",
       "      <td>1</td>\n",
       "      <td>1</td>\n",
       "      <td>1</td>\n",
       "      <td>1</td>\n",
       "      <td>1</td>\n",
       "      <td>1</td>\n",
       "    </tr>\n",
       "  </tbody>\n",
       "</table>\n",
       "<p>1 rows × 60 columns</p>\n",
       "</div>"
      ],
      "text/plain": [
       "     1     2     3    4    5    6    7    8    9    10   ...  99   103  106  \\\n",
       "0  46497  4879  1126  504  256  117   86   60   54   34  ...    1    1    1   \n",
       "\n",
       "   123  140  144  145  154  155  344  \n",
       "0    1    1    1    1    1    1    1  \n",
       "\n",
       "[1 rows x 60 columns]"
      ]
     },
     "execution_count": 13,
     "metadata": {},
     "output_type": "execute_result"
    }
   ],
   "source": [
    "# table of CDR3 sequence frequency in training data\n",
    "pd.value_counts(cdr3_train_unique_freq).to_frame().sort_index().transpose()"
   ]
  },
  {
   "cell_type": "code",
   "execution_count": 14,
   "metadata": {},
   "outputs": [
    {
     "data": {
      "text/plain": [
       "<AxesSubplot:ylabel='Density'>"
      ]
     },
     "execution_count": 14,
     "metadata": {},
     "output_type": "execute_result"
    },
    {
     "data": {
      "image/png": "[encoded data removed]",
      "text/plain": [
       "<Figure size 432x288 with 1 Axes>"
      ]
     },
     "metadata": {
      "needs_background": "light"
     },
     "output_type": "display_data"
    }
   ],
   "source": [
    "# density plot of CDR3 sequence frequency in training data\n",
    "# density is weighted by how much each sequence appears in training data\n",
    "sns.kdeplot(cdr3_train_weighted_freq)"
   ]
  },
  {
   "cell_type": "code",
   "execution_count": 15,
   "metadata": {},
   "outputs": [
    {
     "data": {
      "text/html": [
       "<div>\n",
       "<style scoped>\n",
       "    .dataframe tbody tr th:only-of-type {\n",
       "        vertical-align: middle;\n",
       "    }\n",
       "\n",
       "    .dataframe tbody tr th {\n",
       "        vertical-align: top;\n",
       "    }\n",
       "\n",
       "    .dataframe thead th {\n",
       "        text-align: right;\n",
       "    }\n",
       "</style>\n",
       "<table border=\"1\" class=\"dataframe\">\n",
       "  <thead>\n",
       "    <tr style=\"text-align: right;\">\n",
       "      <th></th>\n",
       "      <th>1</th>\n",
       "      <th>2</th>\n",
       "      <th>3</th>\n",
       "      <th>4</th>\n",
       "      <th>5</th>\n",
       "      <th>6</th>\n",
       "      <th>7</th>\n",
       "      <th>8</th>\n",
       "      <th>9</th>\n",
       "      <th>10</th>\n",
       "      <th>...</th>\n",
       "      <th>859</th>\n",
       "      <th>874</th>\n",
       "      <th>1486</th>\n",
       "      <th>1639</th>\n",
       "      <th>2671</th>\n",
       "      <th>2722</th>\n",
       "      <th>3544</th>\n",
       "      <th>7051</th>\n",
       "      <th>9580</th>\n",
       "      <th>27944</th>\n",
       "    </tr>\n",
       "  </thead>\n",
       "  <tbody>\n",
       "    <tr>\n",
       "      <th>0</th>\n",
       "      <td>5</td>\n",
       "      <td>41</td>\n",
       "      <td>3</td>\n",
       "      <td>11</td>\n",
       "      <td>1</td>\n",
       "      <td>3</td>\n",
       "      <td>2</td>\n",
       "      <td>2</td>\n",
       "      <td>1</td>\n",
       "      <td>3</td>\n",
       "      <td>...</td>\n",
       "      <td>1</td>\n",
       "      <td>1</td>\n",
       "      <td>1</td>\n",
       "      <td>1</td>\n",
       "      <td>1</td>\n",
       "      <td>1</td>\n",
       "      <td>1</td>\n",
       "      <td>1</td>\n",
       "      <td>1</td>\n",
       "      <td>1</td>\n",
       "    </tr>\n",
       "  </tbody>\n",
       "</table>\n",
       "<p>1 rows × 101 columns</p>\n",
       "</div>"
      ],
      "text/plain": [
       "   1      2      3      4      5      6      7      8      9      10     ...  \\\n",
       "0      5     41      3     11      1      3      2      2      1      3  ...   \n",
       "\n",
       "   859    874    1486   1639   2671   2722   3544   7051   9580   27944  \n",
       "0      1      1      1      1      1      1      1      1      1      1  \n",
       "\n",
       "[1 rows x 101 columns]"
      ]
     },
     "execution_count": 15,
     "metadata": {},
     "output_type": "execute_result"
    }
   ],
   "source": [
    "# table of antigen sequence frequency in training data\n",
    "pd.value_counts(antigen_train_unique_freq).to_frame().sort_index().transpose()"
   ]
  },
  {
   "cell_type": "code",
   "execution_count": 16,
   "metadata": {},
   "outputs": [
    {
     "data": {
      "text/plain": [
       "<AxesSubplot:ylabel='Density'>"
      ]
     },
     "execution_count": 16,
     "metadata": {},
     "output_type": "execute_result"
    },
    {
     "data": {
      "image/png": "[encoded data removed]",
      "text/plain": [
       "<Figure size 432x288 with 1 Axes>"
      ]
     },
     "metadata": {
      "needs_background": "light"
     },
     "output_type": "display_data"
    }
   ],
   "source": [
    "# density plot of CDR3 sequence frequency in training data\n",
    "# density is weighted by how much each sequence appears in training data\n",
    "sns.kdeplot(antigen_train_weighted_freq, bw_adjust=0.1)"
   ]
  },
  {
   "cell_type": "markdown",
   "metadata": {},
   "source": [
    "### Compare model performance across different classes of synthetic data"
   ]
  },
  {
   "cell_type": "code",
   "execution_count": 17,
   "metadata": {},
   "outputs": [
    {
     "name": "stderr",
     "output_type": "stream",
     "text": [
      "/group/ag_cmb/scratch/jqin/miniconda3/envs/tape/lib/python3.8/site-packages/seaborn/_decorators.py:36: FutureWarning: Pass the following variable as a keyword arg: x. From version 0.12, the only valid positional argument will be `data`, and passing other arguments without an explicit keyword will result in an error or misinterpretation.\n",
      "  warnings.warn(\n"
     ]
    },
    {
     "data": {
      "text/plain": [
       "<AxesSubplot:xlabel='prediction'>"
      ]
     },
     "execution_count": 17,
     "metadata": {},
     "output_type": "execute_result"
    },
    {
     "data": {
      "image/png": "[encoded data removed]",
      "text/plain": [
       "<Figure size 432x288 with 1 Axes>"
      ]
     },
     "metadata": {
      "needs_background": "light"
     },
     "output_type": "display_data"
    }
   ],
   "source": [
    "sns.violinplot(predictions[:3936])"
   ]
  },
  {
   "cell_type": "code",
   "execution_count": 18,
   "metadata": {},
   "outputs": [
    {
     "name": "stderr",
     "output_type": "stream",
     "text": [
      "/group/ag_cmb/scratch/jqin/miniconda3/envs/tape/lib/python3.8/site-packages/seaborn/_decorators.py:36: FutureWarning: Pass the following variable as a keyword arg: x. From version 0.12, the only valid positional argument will be `data`, and passing other arguments without an explicit keyword will result in an error or misinterpretation.\n",
      "  warnings.warn(\n"
     ]
    },
    {
     "data": {
      "text/plain": [
       "<AxesSubplot:xlabel='prediction'>"
      ]
     },
     "execution_count": 18,
     "metadata": {},
     "output_type": "execute_result"
    },
    {
     "data": {
      "image/png": "[encoded data removed]",
      "text/plain": [
       "<Figure size 432x288 with 1 Axes>"
      ]
     },
     "metadata": {
      "needs_background": "light"
     },
     "output_type": "display_data"
    }
   ],
   "source": [
    "sns.violinplot(predictions[3936:7872])"
   ]
  },
  {
   "cell_type": "code",
   "execution_count": 19,
   "metadata": {},
   "outputs": [
    {
     "name": "stderr",
     "output_type": "stream",
     "text": [
      "/group/ag_cmb/scratch/jqin/miniconda3/envs/tape/lib/python3.8/site-packages/seaborn/_decorators.py:36: FutureWarning: Pass the following variable as a keyword arg: x. From version 0.12, the only valid positional argument will be `data`, and passing other arguments without an explicit keyword will result in an error or misinterpretation.\n",
      "  warnings.warn(\n"
     ]
    },
    {
     "data": {
      "text/plain": [
       "<AxesSubplot:xlabel='prediction'>"
      ]
     },
     "execution_count": 19,
     "metadata": {},
     "output_type": "execute_result"
    },
    {
     "data": {
      "image/png": "[encoded data removed]",
      "text/plain": [
       "<Figure size 432x288 with 1 Axes>"
      ]
     },
     "metadata": {
      "needs_background": "light"
     },
     "output_type": "display_data"
    }
   ],
   "source": [
    "sns.violinplot(predictions[7872:11808])"
   ]
  },
  {
   "cell_type": "code",
   "execution_count": 20,
   "metadata": {},
   "outputs": [
    {
     "name": "stderr",
     "output_type": "stream",
     "text": [
      "/group/ag_cmb/scratch/jqin/miniconda3/envs/tape/lib/python3.8/site-packages/seaborn/_decorators.py:36: FutureWarning: Pass the following variable as a keyword arg: x. From version 0.12, the only valid positional argument will be `data`, and passing other arguments without an explicit keyword will result in an error or misinterpretation.\n",
      "  warnings.warn(\n"
     ]
    },
    {
     "data": {
      "text/plain": [
       "<AxesSubplot:xlabel='prediction'>"
      ]
     },
     "execution_count": 20,
     "metadata": {},
     "output_type": "execute_result"
    },
    {
     "data": {
      "image/png": "[encoded data removed]",
      "text/plain": [
       "<Figure size 432x288 with 1 Axes>"
      ]
     },
     "metadata": {
      "needs_background": "light"
     },
     "output_type": "display_data"
    }
   ],
   "source": [
    "sns.violinplot(predictions[11808:])"
   ]
  },
  {
   "cell_type": "code",
   "execution_count": 21,
   "metadata": {},
   "outputs": [],
   "source": [
    "# find confusion matrix of positive and permuted negative data\n",
    "preds_subset_confusion_matrix = sklearn.metrics.confusion_matrix(targets[:7872], preds_round[:7872])\n",
    "\n",
    "true_neg_subset = preds_subset_confusion_matrix[0,0]\n",
    "false_pos_subset = preds_subset_confusion_matrix[0,1]\n",
    "false_neg_subset = preds_subset_confusion_matrix[1,0]\n",
    "true_pos_subset = preds_subset_confusion_matrix[1,1]\n",
    "\n",
    "true_neg_subset_rate = true_neg_subset / (true_neg_subset + false_pos_subset)\n",
    "false_pos_subset_rate = false_pos_subset / (true_neg_subset + false_pos_subset)\n",
    "false_neg_subset_rate = false_neg_subset / (true_pos_subset + false_neg_subset)\n",
    "true_pos_subset_rate = true_pos_subset / (true_pos_subset + false_neg_subset)"
   ]
  },
  {
   "cell_type": "code",
   "execution_count": 22,
   "metadata": {},
   "outputs": [
    {
     "name": "stdout",
     "output_type": "stream",
     "text": [
      "True Negative Subset Rate: 0.8261000602772754\n",
      "False Positive Subset Rate: 0.17389993972272452\n",
      "False Negative Subset Rate: 0.6326306543697848\n",
      "True Positive Subset Rate: 0.36736934563021517\n"
     ]
    }
   ],
   "source": [
    "print('True Negative Subset Rate: {}'.format(true_neg_subset_rate))\n",
    "print('False Positive Subset Rate: {}'.format(false_pos_subset_rate))\n",
    "print('False Negative Subset Rate: {}'.format(false_neg_subset_rate))\n",
    "print('True Positive Subset Rate: {}'.format(true_pos_subset_rate))"
   ]
  },
  {
   "cell_type": "markdown",
   "metadata": {},
   "source": [
    "### Compare validation classification accuracy to frequency of appearance in training data"
   ]
  },
  {
   "cell_type": "code",
   "execution_count": 23,
   "metadata": {},
   "outputs": [],
   "source": [
    "# create dictionaries that map all unique CDR3 and antigen sequences\n",
    "# to their targets and predictions of classification\n",
    "cdr3_valid_preds = {}\n",
    "cdr3_valid_targets = {}\n",
    "antigen_valid_preds = {}\n",
    "antigen_valid_targets = {}\n",
    "\n",
    "for inp, tar, pred in zip(inputs, targets, preds_round):\n",
    "# for inp, tar, pred in zip(inputs[:7872], targets[:7872], preds_round[:7872]):\n",
    "    sep = np.where(inp == 3)[0]\n",
    "    cdr3_sep = sep[0]      # where does CDR3 seq end and antigen begin?\n",
    "    antigen_sep = sep[1]   # where does antigen seq end and padding begin?\n",
    "    cdr3 = tuple(inp[:cdr3_sep+1])\n",
    "    antigen = tuple(np.concatenate(([2], inp[cdr3_sep+1:antigen_sep+1])))   # truncate to only antigen\n",
    "    if cdr3 not in cdr3_valid_preds.keys():\n",
    "        cdr3_valid_preds[cdr3] = [pred]\n",
    "        cdr3_valid_targets[cdr3] = [tar]\n",
    "    else:\n",
    "        cdr3_valid_preds[cdr3] += [pred]\n",
    "        cdr3_valid_targets[cdr3] += [tar]\n",
    "        \n",
    "    if antigen not in antigen_valid_preds.keys():\n",
    "        antigen_valid_preds[antigen] = [pred]\n",
    "        antigen_valid_targets[antigen] = [tar]\n",
    "    else:\n",
    "        antigen_valid_preds[antigen] += [pred]\n",
    "        antigen_valid_targets[antigen] += [tar]"
   ]
  },
  {
   "cell_type": "code",
   "execution_count": 24,
   "metadata": {},
   "outputs": [],
   "source": [
    "# find accuracy of model performance on each CDR3 sequence\n",
    "cdr3_valid_accuracy = {}\n",
    "for cdr3 in cdr3_valid_preds.keys():\n",
    "    pred = cdr3_valid_preds[cdr3]\n",
    "    tar = cdr3_valid_targets[cdr3]\n",
    "    matches = np.sum(~np.logical_xor(pred, tar))\n",
    "    accuracy = matches / float(len(pred))\n",
    "    cdr3_valid_accuracy[cdr3] = accuracy\n",
    "\n",
    "antigen_valid_accuracy = {}\n",
    "for antigen in antigen_valid_preds.keys():\n",
    "    pred = antigen_valid_preds[antigen]\n",
    "    tar = antigen_valid_targets[antigen]\n",
    "    matches = np.sum(~np.logical_xor(pred, tar))\n",
    "    accuracy = matches / float(len(pred))\n",
    "    antigen_valid_accuracy[antigen] = accuracy"
   ]
  },
  {
   "cell_type": "code",
   "execution_count": 25,
   "metadata": {},
   "outputs": [],
   "source": [
    "cdr3_valid_accuracy_list = []\n",
    "cdr3_valid_freq_in_train = []\n",
    "for cdr3 in cdr3_valid_accuracy.keys():\n",
    "    cdr3_valid_accuracy_list += [cdr3_valid_accuracy[cdr3]]\n",
    "    if cdr3 not in cdr3_train_counts.keys():\n",
    "        cdr3_valid_freq_in_train += [0]\n",
    "    else:\n",
    "        cdr3_valid_freq_in_train += [cdr3_train_counts[cdr3]]\n",
    "        \n",
    "antigen_valid_accuracy_list = []\n",
    "antigen_valid_freq_in_train = []\n",
    "for antigen in antigen_valid_accuracy.keys():\n",
    "    antigen_valid_accuracy_list += [antigen_valid_accuracy[antigen]]\n",
    "    if antigen not in antigen_train_counts.keys():\n",
    "        antigen_valid_freq_in_train += [0]\n",
    "    else:\n",
    "        antigen_valid_freq_in_train += [antigen_train_counts[antigen]]\n",
    "        \n",
    "cdr3_valid_accuracy_list = np.array(cdr3_valid_accuracy_list)\n",
    "cdr3_valid_freq_in_train = np.array(cdr3_valid_freq_in_train)\n",
    "antigen_valid_accuracy_list = np.array(antigen_valid_accuracy_list)\n",
    "antigen_valid_freq_in_train = np.array(antigen_valid_freq_in_train)"
   ]
  },
  {
   "cell_type": "code",
   "execution_count": 26,
   "metadata": {},
   "outputs": [
    {
     "data": {
      "text/plain": [
       "{(2.0, 5.0, 19.0, 5.0, 21.0, 15.0, 9.0, 21.0, 21.0, 12.0, 22.0, 5.0, 3.0),\n",
       " (2.0, 5.0, 23.0, 8.0, 5.0, 15.0, 16.0, 23.0, 11.0, 28.0, 3.0),\n",
       " (2.0, 5.0, 25.0, 10.0, 8.0, 21.0, 14.0, 22.0, 8.0, 5.0, 14.0, 3.0),\n",
       " (2.0, 7.0, 13.0, 17.0, 11.0, 25.0, 7.0, 26.0, 23.0, 25.0, 3.0),\n",
       " (2.0,\n",
       "  7.0,\n",
       "  19.0,\n",
       "  22.0,\n",
       "  20.0,\n",
       "  9.0,\n",
       "  19.0,\n",
       "  16.0,\n",
       "  22.0,\n",
       "  13.0,\n",
       "  28.0,\n",
       "  25.0,\n",
       "  28.0,\n",
       "  3.0),\n",
       " (2.0, 7.0, 23.0, 19.0, 28.0, 8.0, 13.0, 17.0, 20.0, 16.0, 3.0),\n",
       " (2.0, 7.0, 25.0, 17.0, 11.0, 22.0, 7.0, 10.0, 23.0, 25.0, 3.0),\n",
       " (2.0,\n",
       "  8.0,\n",
       "  5.0,\n",
       "  23.0,\n",
       "  28.0,\n",
       "  20.0,\n",
       "  21.0,\n",
       "  23.0,\n",
       "  21.0,\n",
       "  5.0,\n",
       "  15.0,\n",
       "  25.0,\n",
       "  21.0,\n",
       "  3.0),\n",
       " (2.0, 8.0, 9.0, 9.0, 8.0, 5.0, 13.0, 5.0, 5.0, 28.0, 3.0),\n",
       " (2.0,\n",
       "  8.0,\n",
       "  19.0,\n",
       "  10.0,\n",
       "  21.0,\n",
       "  15.0,\n",
       "  15.0,\n",
       "  20.0,\n",
       "  17.0,\n",
       "  22.0,\n",
       "  20.0,\n",
       "  25.0,\n",
       "  10.0,\n",
       "  22.0,\n",
       "  3.0),\n",
       " (2.0, 9.0, 9.0, 17.0, 15.0, 15.0, 8.0, 10.0, 25.0, 21.0, 10.0, 3.0),\n",
       " (2.0, 9.0, 13.0, 28.0, 14.0, 21.0, 26.0, 13.0, 13.0, 3.0),\n",
       " (2.0, 9.0, 15.0, 5.0, 11.0, 13.0, 11.0, 13.0, 15.0, 23.0, 25.0, 3.0),\n",
       " (2.0, 9.0, 19.0, 15.0, 19.0, 20.0, 11.0, 20.0, 15.0, 23.0, 5.0, 28.0, 3.0),\n",
       " (2.0, 10.0, 11.0, 8.0, 25.0, 11.0, 22.0, 23.0, 15.0, 10.0, 3.0),\n",
       " (2.0, 10.0, 15.0, 21.0, 11.0, 21.0, 5.0, 28.0, 11.0, 15.0, 3.0),\n",
       " (2.0, 10.0, 19.0, 21.0, 19.0, 26.0, 15.0, 12.0, 11.0, 15.0, 3.0),\n",
       " (2.0,\n",
       "  10.0,\n",
       "  21.0,\n",
       "  8.0,\n",
       "  28.0,\n",
       "  25.0,\n",
       "  8.0,\n",
       "  21.0,\n",
       "  10.0,\n",
       "  28.0,\n",
       "  14.0,\n",
       "  23.0,\n",
       "  15.0,\n",
       "  21.0,\n",
       "  5.0,\n",
       "  9.0,\n",
       "  20.0,\n",
       "  5.0,\n",
       "  22.0,\n",
       "  20.0,\n",
       "  9.0,\n",
       "  3.0),\n",
       " (2.0, 11.0, 13.0, 15.0, 11.0, 10.0, 25.0, 10.0, 23.0, 15.0, 3.0),\n",
       " (2.0, 11.0, 15.0, 7.0, 23.0, 15.0, 25.0, 5.0, 16.0, 15.0, 3.0),\n",
       " (2.0,\n",
       "  11.0,\n",
       "  15.0,\n",
       "  13.0,\n",
       "  28.0,\n",
       "  17.0,\n",
       "  21.0,\n",
       "  16.0,\n",
       "  11.0,\n",
       "  5.0,\n",
       "  25.0,\n",
       "  23.0,\n",
       "  23.0,\n",
       "  9.0,\n",
       "  25.0,\n",
       "  3.0),\n",
       " (2.0, 11.0, 15.0, 15.0, 8.0, 9.0, 8.0, 10.0, 28.0, 5.0, 3.0),\n",
       " (2.0,\n",
       "  11.0,\n",
       "  16.0,\n",
       "  10.0,\n",
       "  17.0,\n",
       "  16.0,\n",
       "  15.0,\n",
       "  22.0,\n",
       "  23.0,\n",
       "  25.0,\n",
       "  15.0,\n",
       "  11.0,\n",
       "  25.0,\n",
       "  22.0,\n",
       "  3.0),\n",
       " (2.0, 11.0, 23.0, 22.0, 11.0, 22.0, 19.0, 13.0, 13.0, 17.0, 21.0, 3.0),\n",
       " (2.0, 12.0, 19.0, 14.0, 25.0, 22.0, 22.0, 9.0, 25.0, 12.0, 13.0, 3.0),\n",
       " (2.0, 12.0, 19.0, 25.0, 11.0, 9.0, 5.0, 8.0, 28.0, 10.0, 9.0, 28.0, 3.0),\n",
       " (2.0, 13.0, 13.0, 14.0, 8.0, 28.0, 11.0, 14.0, 20.0, 16.0, 3.0),\n",
       " (2.0, 13.0, 15.0, 7.0, 9.0, 23.0, 7.0, 15.0, 13.0, 25.0, 3.0),\n",
       " (2.0, 13.0, 22.0, 19.0, 21.0, 23.0, 15.0, 17.0, 5.0, 26.0, 3.0),\n",
       " (2.0, 13.0, 25.0, 23.0, 8.0, 10.0, 22.0, 25.0, 13.0, 14.0, 3.0),\n",
       " (2.0, 14.0, 5.0, 10.0, 22.0, 19.0, 9.0, 25.0, 13.0, 19.0, 16.0, 10.0, 3.0),\n",
       " (2.0, 14.0, 5.0, 25.0, 28.0, 17.0, 10.0, 5.0, 23.0, 7.0, 3.0),\n",
       " (2.0, 14.0, 13.0, 10.0, 11.0, 22.0, 15.0, 5.0, 10.0, 15.0, 3.0),\n",
       " (2.0, 14.0, 15.0, 9.0, 10.0, 16.0, 8.0, 26.0, 21.0, 15.0, 3.0),\n",
       " (2.0, 14.0, 15.0, 11.0, 11.0, 5.0, 15.0, 20.0, 5.0, 14.0, 3.0),\n",
       " (2.0, 14.0, 15.0, 22.0, 5.0, 15.0, 11.0, 13.0, 17.0, 5.0, 25.0, 3.0),\n",
       " (2.0, 14.0, 21.0, 26.0, 13.0, 13.0, 15.0, 11.0, 15.0, 17.0, 14.0, 3.0),\n",
       " (2.0, 14.0, 21.0, 26.0, 13.0, 13.0, 16.0, 11.0, 15.0, 17.0, 14.0, 3.0),\n",
       " (2.0, 15.0, 15.0, 12.0, 11.0, 10.0, 22.0, 10.0, 28.0, 15.0, 3.0),\n",
       " (2.0, 15.0, 15.0, 26.0, 17.0, 11.0, 19.0, 16.0, 5.0, 25.0, 3.0),\n",
       " (2.0, 16.0, 15.0, 10.0, 22.0, 12.0, 11.0, 15.0, 25.0, 14.0, 3.0),\n",
       " (2.0, 17.0, 15.0, 22.0, 5.0, 15.0, 11.0, 13.0, 10.0, 22.0, 23.0, 3.0),\n",
       " (2.0, 17.0, 15.0, 25.0, 19.0, 16.0, 25.0, 5.0, 23.0, 25.0, 3.0),\n",
       " (2.0, 17.0, 16.0, 9.0, 28.0, 16.0, 23.0, 26.0, 8.0, 25.0, 3.0),\n",
       " (2.0,\n",
       "  17.0,\n",
       "  22.0,\n",
       "  14.0,\n",
       "  9.0,\n",
       "  9.0,\n",
       "  23.0,\n",
       "  11.0,\n",
       "  12.0,\n",
       "  15.0,\n",
       "  9.0,\n",
       "  17.0,\n",
       "  11.0,\n",
       "  17.0,\n",
       "  3.0),\n",
       " (2.0,\n",
       "  19.0,\n",
       "  14.0,\n",
       "  28.0,\n",
       "  25.0,\n",
       "  14.0,\n",
       "  20.0,\n",
       "  17.0,\n",
       "  23.0,\n",
       "  15.0,\n",
       "  14.0,\n",
       "  15.0,\n",
       "  5.0,\n",
       "  23.0,\n",
       "  3.0),\n",
       " (2.0,\n",
       "  20.0,\n",
       "  5.0,\n",
       "  21.0,\n",
       "  20.0,\n",
       "  16.0,\n",
       "  25.0,\n",
       "  20.0,\n",
       "  5.0,\n",
       "  16.0,\n",
       "  21.0,\n",
       "  23.0,\n",
       "  13.0,\n",
       "  11.0,\n",
       "  23.0,\n",
       "  12.0,\n",
       "  19.0,\n",
       "  3.0),\n",
       " (2.0, 20.0, 13.0, 14.0, 25.0, 21.0, 25.0, 8.0, 16.0, 25.0, 3.0),\n",
       " (2.0, 20.0, 25.0, 19.0, 15.0, 21.0, 19.0, 16.0, 23.0, 28.0, 14.0, 3.0),\n",
       " (2.0, 20.0, 28.0, 8.0, 19.0, 25.0, 5.0, 5.0, 15.0, 10.0, 3.0),\n",
       " (2.0, 21.0, 5.0, 14.0, 10.0, 14.0, 20.0, 15.0, 15.0, 3.0),\n",
       " (2.0, 21.0, 5.0, 15.0, 9.0, 28.0, 14.0, 17.0, 15.0, 3.0),\n",
       " (2.0, 21.0, 15.0, 5.0, 21.0, 15.0, 5.0, 15.0, 25.0, 15.0, 3.0),\n",
       " (2.0, 21.0, 15.0, 15.0, 20.0, 7.0, 23.0, 20.0, 20.0, 5.0, 25.0, 3.0),\n",
       " (2.0, 21.0, 15.0, 20.0, 22.0, 15.0, 20.0, 23.0, 28.0, 25.0, 3.0),\n",
       " (2.0, 21.0, 19.0, 12.0, 9.0, 21.0, 17.0, 11.0, 10.0, 23.0, 25.0, 15.0, 3.0),\n",
       " (2.0, 21.0, 19.0, 21.0, 11.0, 9.0, 25.0, 21.0, 10.0, 15.0, 3.0),\n",
       " (2.0, 21.0, 25.0, 22.0, 23.0, 15.0, 21.0, 25.0, 22.0, 15.0, 3.0),\n",
       " (2.0, 22.0, 10.0, 12.0, 22.0, 15.0, 12.0, 15.0, 15.0, 10.0, 3.0),\n",
       " (2.0,\n",
       "  22.0,\n",
       "  11.0,\n",
       "  19.0,\n",
       "  15.0,\n",
       "  14.0,\n",
       "  5.0,\n",
       "  9.0,\n",
       "  13.0,\n",
       "  5.0,\n",
       "  20.0,\n",
       "  21.0,\n",
       "  15.0,\n",
       "  9.0,\n",
       "  8.0,\n",
       "  3.0),\n",
       " (2.0, 22.0, 13.0, 13.0, 17.0, 10.0, 9.0, 14.0, 15.0, 3.0),\n",
       " (2.0, 22.0, 15.0, 28.0, 17.0, 23.0, 25.0, 5.0, 23.0, 15.0, 3.0),\n",
       " (2.0, 22.0, 20.0, 15.0, 15.0, 17.0, 5.0, 14.0, 28.0, 15.0, 3.0),\n",
       " (2.0, 22.0, 22.0, 15.0, 9.0, 17.0, 10.0, 21.0, 5.0, 28.0, 25.0, 3.0),\n",
       " (2.0, 22.0, 22.0, 19.0, 19.0, 16.0, 10.0, 21.0, 25.0, 3.0),\n",
       " (2.0, 22.0, 23.0, 19.0, 9.0, 22.0, 5.0, 17.0, 15.0, 3.0),\n",
       " (2.0, 23.0, 19.0, 11.0, 19.0, 11.0, 25.0, 21.0, 28.0, 19.0, 15.0, 3.0),\n",
       " (2.0, 23.0, 19.0, 21.0, 25.0, 23.0, 11.0, 11.0, 11.0, 5.0, 16.0, 3.0),\n",
       " (2.0, 23.0, 23.0, 19.0, 9.0, 22.0, 5.0, 17.0, 15.0, 3.0),\n",
       " (2.0, 25.0, 15.0, 15.0, 11.0, 25.0, 14.0, 15.0, 10.0, 11.0, 25.0, 3.0),\n",
       " (2.0, 25.0, 25.0, 16.0, 22.0, 26.0, 5.0, 19.0, 19.0, 25.0, 3.0),\n",
       " (2.0,\n",
       "  25.0,\n",
       "  25.0,\n",
       "  21.0,\n",
       "  12.0,\n",
       "  7.0,\n",
       "  19.0,\n",
       "  12.0,\n",
       "  12.0,\n",
       "  9.0,\n",
       "  21.0,\n",
       "  7.0,\n",
       "  22.0,\n",
       "  8.0,\n",
       "  22.0,\n",
       "  8.0,\n",
       "  3.0),\n",
       " (2.0, 26.0, 22.0, 28.0, 8.0, 22.0, 23.0, 15.0, 15.0, 5.0, 28.0, 3.0),\n",
       " (2.0, 28.0, 13.0, 15.0, 9.0, 9.0, 23.0, 22.0, 25.0, 16.0, 3.0),\n",
       " (2.0, 28.0, 15.0, 17.0, 8.0, 12.0, 15.0, 9.0, 19.0, 26.0, 13.0, 3.0),\n",
       " (2.0, 28.0, 15.0, 20.0, 19.0, 21.0, 23.0, 10.0, 15.0, 15.0, 3.0),\n",
       " (2.0, 28.0, 25.0, 15.0, 8.0, 12.0, 15.0, 13.0, 25.0, 25.0, 3.0)}"
      ]
     },
     "execution_count": 26,
     "metadata": {},
     "output_type": "execute_result"
    }
   ],
   "source": [
    "set(antigen_train_counts.keys()).intersection(set(antigen_valid_accuracy.keys()))"
   ]
  },
  {
   "cell_type": "code",
   "execution_count": null,
   "metadata": {},
   "outputs": [],
   "source": []
  },
  {
   "cell_type": "raw",
   "metadata": {},
   "source": []
  },
  {
   "cell_type": "code",
   "execution_count": null,
   "metadata": {},
   "outputs": [],
   "source": []
  },
  {
   "cell_type": "code",
   "execution_count": 27,
   "metadata": {},
   "outputs": [
    {
     "name": "stderr",
     "output_type": "stream",
     "text": [
      "/group/ag_cmb/scratch/jqin/miniconda3/envs/tape/lib/python3.8/site-packages/seaborn/_decorators.py:36: FutureWarning: Pass the following variables as keyword args: x, y. From version 0.12, the only valid positional argument will be `data`, and passing other arguments without an explicit keyword will result in an error or misinterpretation.\n",
      "  warnings.warn(\n"
     ]
    },
    {
     "data": {
      "text/plain": [
       "<AxesSubplot:>"
      ]
     },
     "execution_count": 27,
     "metadata": {},
     "output_type": "execute_result"
    },
    {
     "data": {
      "image/png": "[encoded data removed]",
      "text/plain": [
       "<Figure size 432x288 with 1 Axes>"
      ]
     },
     "metadata": {
      "needs_background": "light"
     },
     "output_type": "display_data"
    }
   ],
   "source": [
    "# prediction accuracy for each CDR3 sequence as a function of how many\n",
    "# times it was seen in the training data\n",
    "sns.regplot(np.log(cdr3_valid_freq_in_train+1), cdr3_valid_accuracy_list)"
   ]
  },
  {
   "cell_type": "code",
   "execution_count": 28,
   "metadata": {},
   "outputs": [
    {
     "name": "stderr",
     "output_type": "stream",
     "text": [
      "/group/ag_cmb/scratch/jqin/miniconda3/envs/tape/lib/python3.8/site-packages/seaborn/_decorators.py:36: FutureWarning: Pass the following variables as keyword args: x, y. From version 0.12, the only valid positional argument will be `data`, and passing other arguments without an explicit keyword will result in an error or misinterpretation.\n",
      "  warnings.warn(\n"
     ]
    },
    {
     "data": {
      "text/plain": [
       "<AxesSubplot:>"
      ]
     },
     "execution_count": 28,
     "metadata": {},
     "output_type": "execute_result"
    },
    {
     "data": {
      "image/png": "[encoded data removed]",
      "text/plain": [
       "<Figure size 432x288 with 1 Axes>"
      ]
     },
     "metadata": {
      "needs_background": "light"
     },
     "output_type": "display_data"
    }
   ],
   "source": [
    "# prediction accuracy for each antigen sequence as a function of how many\n",
    "# times it was seen in the training data\n",
    "sns.regplot(np.log(antigen_valid_freq_in_train+1), antigen_valid_accuracy_list)"
   ]
  },
  {
   "cell_type": "markdown",
   "metadata": {},
   "source": [
    "### Check performance across TRA vs TRB chains"
   ]
  },
  {
   "cell_type": "code",
   "execution_count": 29,
   "metadata": {},
   "outputs": [],
   "source": [
    "# relevant data files\n",
    "tra_cdr3_train_file = data_dir + '/TRA_cdr3.fasta'\n",
    "trb_cdr3_train_file = data_dir + '/TRB_cdr3.fasta'\n",
    "\n",
    "# load relevant data\n",
    "tra_cdr3_seq_unprocessed = FastaDataset(tra_cdr3_train_file, in_memory=True)\n",
    "trb_cdr3_seq_unprocessed = FastaDataset(trb_cdr3_train_file, in_memory=True)"
   ]
  },
  {
   "cell_type": "code",
   "execution_count": 30,
   "metadata": {},
   "outputs": [],
   "source": [
    "# convert sequence strings into list of ints\n",
    "tra_cdr3_seq = [tuple(tokenizer.encode(x['primary'])) for x in tra_cdr3_seq_unprocessed]\n",
    "trb_cdr3_seq = [tuple(tokenizer.encode(x['primary'])) for x in trb_cdr3_seq_unprocessed]"
   ]
  },
  {
   "cell_type": "code",
   "execution_count": 31,
   "metadata": {},
   "outputs": [],
   "source": [
    "tra_cdr3_accuracy = []\n",
    "for cdr3 in tra_cdr3_seq:\n",
    "    if cdr3 in cdr3_valid_accuracy.keys():\n",
    "        tra_cdr3_accuracy += [cdr3_valid_accuracy[cdr3]]\n",
    "        \n",
    "trb_cdr3_accuracy = []\n",
    "for cdr3 in trb_cdr3_seq:\n",
    "    if cdr3 in cdr3_valid_accuracy.keys():\n",
    "        trb_cdr3_accuracy += [cdr3_valid_accuracy[cdr3]]"
   ]
  },
  {
   "cell_type": "code",
   "execution_count": 32,
   "metadata": {},
   "outputs": [
    {
     "name": "stdout",
     "output_type": "stream",
     "text": [
      "(2, 7, 15, 25, 11, 8, 14, 11, 8, 8, 14, 13, 13, 10, 3)\n",
      "(2.0, 7.0, 5.0, 26.0, 22.0, 15.0, 11.0, 11.0, 21.0, 11.0, 9.0, 20.0, 28.0, 10.0, 3.0)\n",
      "2\n",
      "2\n"
     ]
    }
   ],
   "source": [
    "# interesting sidenote: apparently hash of ints are same as hash of floats\n",
    "print(tra_cdr3_seq[0])\n",
    "print(list(cdr3_valid_accuracy.keys())[2])\n",
    "print(hash(2.0))\n",
    "print(hash(2))"
   ]
  },
  {
   "cell_type": "code",
   "execution_count": 33,
   "metadata": {},
   "outputs": [
    {
     "name": "stdout",
     "output_type": "stream",
     "text": [
      "DescribeResult(nobs=1143, minmax=(0.0, 1.0), mean=0.769130681581469, variance=0.046544207508484606, skewness=-0.6493335193254149, kurtosis=-0.15966706589940927)\n"
     ]
    },
    {
     "name": "stderr",
     "output_type": "stream",
     "text": [
      "/group/ag_cmb/scratch/jqin/miniconda3/envs/tape/lib/python3.8/site-packages/seaborn/_decorators.py:36: FutureWarning: Pass the following variable as a keyword arg: x. From version 0.12, the only valid positional argument will be `data`, and passing other arguments without an explicit keyword will result in an error or misinterpretation.\n",
      "  warnings.warn(\n"
     ]
    },
    {
     "data": {
      "image/png": "[encoded data removed]",
      "text/plain": [
       "<Figure size 432x288 with 1 Axes>"
      ]
     },
     "metadata": {
      "needs_background": "light"
     },
     "output_type": "display_data"
    }
   ],
   "source": [
    "sns.violinplot(tra_cdr3_accuracy)\n",
    "print(scipy.stats.describe(tra_cdr3_accuracy))"
   ]
  },
  {
   "cell_type": "code",
   "execution_count": 34,
   "metadata": {},
   "outputs": [
    {
     "name": "stdout",
     "output_type": "stream",
     "text": [
      "DescribeResult(nobs=2688, minmax=(0.0, 1.0), mean=0.6943218606583562, variance=0.04721610253570919, skewness=-0.507767370006405, kurtosis=-0.030173934220280696)\n"
     ]
    },
    {
     "name": "stderr",
     "output_type": "stream",
     "text": [
      "/group/ag_cmb/scratch/jqin/miniconda3/envs/tape/lib/python3.8/site-packages/seaborn/_decorators.py:36: FutureWarning: Pass the following variable as a keyword arg: x. From version 0.12, the only valid positional argument will be `data`, and passing other arguments without an explicit keyword will result in an error or misinterpretation.\n",
      "  warnings.warn(\n"
     ]
    },
    {
     "data": {
      "image/png": "[encoded data removed]",
      "text/plain": [
       "<Figure size 432x288 with 1 Axes>"
      ]
     },
     "metadata": {
      "needs_background": "light"
     },
     "output_type": "display_data"
    }
   ],
   "source": [
    "sns.violinplot(trb_cdr3_accuracy)\n",
    "print(scipy.stats.describe(trb_cdr3_accuracy))"
   ]
  },
  {
   "cell_type": "markdown",
   "metadata": {},
   "source": [
    "### Compare performance across different species"
   ]
  },
  {
   "cell_type": "code",
   "execution_count": 35,
   "metadata": {},
   "outputs": [],
   "source": [
    "# relevant data files\n",
    "human_cdr3_train_file = data_dir + '/HomoSapiens_cdr3.fasta'\n",
    "mouse_cdr3_train_file = data_dir + '/MusMusculus_cdr3.fasta'\n",
    "macaque_cdr3_train_file = data_dir + '/MacacaMulatta_cdr3.fasta'\n",
    "\n",
    "human_antigen_train_file = data_dir + '/HomoSapiens_antigen.fasta'\n",
    "mouse_antigen_train_file = data_dir + '/MusMusculus_antigen.fasta'\n",
    "macaque_antigen_train_file = data_dir + '/MacacaMulatta_antigen.fasta'\n",
    "\n",
    "# load relevant data\n",
    "human_cdr3_seq_unprocessed = FastaDataset(human_cdr3_train_file, in_memory=True)\n",
    "mouse_cdr3_seq_unprocessed = FastaDataset(mouse_cdr3_train_file, in_memory=True)\n",
    "macaque_cdr3_seq_unprocessed = FastaDataset(macaque_cdr3_train_file, in_memory=True)\n",
    "\n",
    "human_antigen_seq_unprocessed = FastaDataset(human_antigen_train_file, in_memory=True)\n",
    "mouse_antigen_seq_unprocessed = FastaDataset(mouse_antigen_train_file, in_memory=True)\n",
    "macaque_antigen_seq_unprocessed = FastaDataset(macaque_antigen_train_file, in_memory=True)"
   ]
  },
  {
   "cell_type": "code",
   "execution_count": 36,
   "metadata": {},
   "outputs": [],
   "source": [
    "# convert sequence strings into list of ints\n",
    "human_cdr3_seq = [tuple(tokenizer.encode(x['primary'])) for x in human_cdr3_seq_unprocessed]\n",
    "mouse_cdr3_seq = [tuple(tokenizer.encode(x['primary'])) for x in mouse_cdr3_seq_unprocessed]\n",
    "macaque_cdr3_seq = [tuple(tokenizer.encode(x['primary'])) for x in macaque_cdr3_seq_unprocessed]\n",
    "\n",
    "human_antigen_seq = [tuple(tokenizer.encode(x['primary'])) for x in human_antigen_seq_unprocessed]\n",
    "mouse_antigen_seq = [tuple(tokenizer.encode(x['primary'])) for x in mouse_antigen_seq_unprocessed]\n",
    "macaque_antigen_seq = [tuple(tokenizer.encode(x['primary'])) for x in macaque_antigen_seq_unprocessed]"
   ]
  },
  {
   "cell_type": "code",
   "execution_count": 37,
   "metadata": {},
   "outputs": [],
   "source": [
    "human_cdr3_accuracy = []\n",
    "human_cdr3_accuracy_dict = {}\n",
    "for cdr3 in human_cdr3_seq:\n",
    "    if cdr3 in cdr3_valid_accuracy.keys():\n",
    "        human_cdr3_accuracy += [cdr3_valid_accuracy[cdr3]]\n",
    "        human_cdr3_accuracy_dict[cdr3] = cdr3_valid_accuracy[cdr3]\n",
    "        \n",
    "mouse_cdr3_accuracy = []\n",
    "mouse_cdr3_accuracy_dict = {}\n",
    "for cdr3 in mouse_cdr3_seq:\n",
    "    if cdr3 in cdr3_valid_accuracy.keys():\n",
    "        mouse_cdr3_accuracy += [cdr3_valid_accuracy[cdr3]]\n",
    "        mouse_cdr3_accuracy_dict[cdr3] = cdr3_valid_accuracy[cdr3]\n",
    "        \n",
    "macaque_cdr3_accuracy = []\n",
    "macaque_cdr3_accuracy_dict = {}\n",
    "for cdr3 in macaque_cdr3_seq:\n",
    "    if cdr3 in cdr3_valid_accuracy.keys():\n",
    "        macaque_cdr3_accuracy += [cdr3_valid_accuracy[cdr3]]\n",
    "        macaque_cdr3_accuracy_dict[cdr3] = cdr3_valid_accuracy[cdr3]\n",
    "        \n",
    "human_antigen_accuracy = []\n",
    "human_antigen_accuracy_dict = {}\n",
    "for antigen in human_antigen_seq:\n",
    "    if antigen in antigen_valid_accuracy.keys():\n",
    "        human_antigen_accuracy += [antigen_valid_accuracy[antigen]]\n",
    "        human_antigen_accuracy_dict[antigen] = antigen_valid_accuracy[antigen]\n",
    "        \n",
    "mouse_antigen_accuracy = []\n",
    "mouse_antigen_accuracy_dict = {}\n",
    "for antigen in mouse_antigen_seq:\n",
    "    if antigen in antigen_valid_accuracy.keys():\n",
    "        mouse_antigen_accuracy += [antigen_valid_accuracy[antigen]]\n",
    "        mouse_antigen_accuracy_dict[antigen] = antigen_valid_accuracy[antigen]\n",
    "        \n",
    "macaque_antigen_accuracy = []\n",
    "macaque_antigen_accuracy_dict = {}\n",
    "for antigen in macaque_antigen_seq:\n",
    "    if antigen in antigen_valid_accuracy.keys():\n",
    "        macaque_antigen_accuracy += [antigen_valid_accuracy[antigen]]\n",
    "        macaque_antigen_accuracy_dict[antigen] = antigen_valid_accuracy[antigen]"
   ]
  },
  {
   "cell_type": "code",
   "execution_count": 38,
   "metadata": {},
   "outputs": [
    {
     "data": {
      "text/plain": [
       "{(2, 7, 23, 19, 28, 8, 13, 17, 20, 16, 3): 0.7465794170136824,\n",
       " (2, 23, 23, 19, 9, 22, 5, 17, 15, 3): 0.7150928167877321,\n",
       " (2, 22, 23, 19, 9, 22, 5, 17, 15, 3): 0.75}"
      ]
     },
     "execution_count": 38,
     "metadata": {},
     "output_type": "execute_result"
    }
   ],
   "source": [
    "macaque_antigen_accuracy_dict"
   ]
  },
  {
   "cell_type": "code",
   "execution_count": 39,
   "metadata": {},
   "outputs": [
    {
     "name": "stdout",
     "output_type": "stream",
     "text": [
      "DescribeResult(nobs=2741, minmax=(0.0, 1.0), mean=0.7313377330136724, variance=0.04772283443270428, skewness=-0.5704194276578093, kurtosis=-0.08578509931910716)\n"
     ]
    },
    {
     "name": "stderr",
     "output_type": "stream",
     "text": [
      "/group/ag_cmb/scratch/jqin/miniconda3/envs/tape/lib/python3.8/site-packages/seaborn/_decorators.py:36: FutureWarning: Pass the following variable as a keyword arg: x. From version 0.12, the only valid positional argument will be `data`, and passing other arguments without an explicit keyword will result in an error or misinterpretation.\n",
      "  warnings.warn(\n"
     ]
    },
    {
     "data": {
      "image/png": "[encoded data removed]",
      "text/plain": [
       "<Figure size 432x288 with 1 Axes>"
      ]
     },
     "metadata": {
      "needs_background": "light"
     },
     "output_type": "display_data"
    }
   ],
   "source": [
    "sns.violinplot(human_cdr3_accuracy)\n",
    "print(scipy.stats.describe(human_cdr3_accuracy))"
   ]
  },
  {
   "cell_type": "code",
   "execution_count": 40,
   "metadata": {},
   "outputs": [
    {
     "name": "stderr",
     "output_type": "stream",
     "text": [
      "/group/ag_cmb/scratch/jqin/miniconda3/envs/tape/lib/python3.8/site-packages/seaborn/_decorators.py:36: FutureWarning: Pass the following variable as a keyword arg: x. From version 0.12, the only valid positional argument will be `data`, and passing other arguments without an explicit keyword will result in an error or misinterpretation.\n",
      "  warnings.warn(\n"
     ]
    },
    {
     "name": "stdout",
     "output_type": "stream",
     "text": [
      "DescribeResult(nobs=332, minmax=(0.0, 1.0), mean=0.660608505450373, variance=0.048037292633318684, skewness=-0.3222761618599201, kurtosis=-0.1791827245858002)\n"
     ]
    },
    {
     "data": {
      "image/png": "[encoded data removed]",
      "text/plain": [
       "<Figure size 432x288 with 1 Axes>"
      ]
     },
     "metadata": {
      "needs_background": "light"
     },
     "output_type": "display_data"
    }
   ],
   "source": [
    "sns.violinplot(mouse_cdr3_accuracy)\n",
    "print(scipy.stats.describe(mouse_cdr3_accuracy))"
   ]
  },
  {
   "cell_type": "code",
   "execution_count": 41,
   "metadata": {},
   "outputs": [
    {
     "name": "stdout",
     "output_type": "stream",
     "text": [
      "DescribeResult(nobs=766, minmax=(0.0, 1.0), mean=0.6886877029990607, variance=0.04689721440100438, skewness=-0.5161097193007448, kurtosis=0.014886780302085345)\n"
     ]
    },
    {
     "name": "stderr",
     "output_type": "stream",
     "text": [
      "/group/ag_cmb/scratch/jqin/miniconda3/envs/tape/lib/python3.8/site-packages/seaborn/_decorators.py:36: FutureWarning: Pass the following variable as a keyword arg: x. From version 0.12, the only valid positional argument will be `data`, and passing other arguments without an explicit keyword will result in an error or misinterpretation.\n",
      "  warnings.warn(\n"
     ]
    },
    {
     "data": {
      "image/png": "[encoded data removed]",
      "text/plain": [
       "<Figure size 432x288 with 1 Axes>"
      ]
     },
     "metadata": {
      "needs_background": "light"
     },
     "output_type": "display_data"
    }
   ],
   "source": [
    "sns.violinplot(macaque_cdr3_accuracy)\n",
    "print(scipy.stats.describe(macaque_cdr3_accuracy))"
   ]
  },
  {
   "cell_type": "code",
   "execution_count": 42,
   "metadata": {},
   "outputs": [
    {
     "name": "stderr",
     "output_type": "stream",
     "text": [
      "/group/ag_cmb/scratch/jqin/miniconda3/envs/tape/lib/python3.8/site-packages/seaborn/_decorators.py:36: FutureWarning: Pass the following variable as a keyword arg: x. From version 0.12, the only valid positional argument will be `data`, and passing other arguments without an explicit keyword will result in an error or misinterpretation.\n",
      "  warnings.warn(\n"
     ]
    },
    {
     "name": "stdout",
     "output_type": "stream",
     "text": [
      "DescribeResult(nobs=114, minmax=(0.25, 1.0), mean=0.7450046931091512, variance=0.00992902592712013, skewness=-2.0836950205472244, kurtosis=7.4153557912987615)\n"
     ]
    },
    {
     "data": {
      "image/png": "[encoded data removed]",
      "text/plain": [
       "<Figure size 432x288 with 1 Axes>"
      ]
     },
     "metadata": {
      "needs_background": "light"
     },
     "output_type": "display_data"
    }
   ],
   "source": [
    "sns.violinplot(human_antigen_accuracy)\n",
    "print(scipy.stats.describe(human_antigen_accuracy))"
   ]
  },
  {
   "cell_type": "code",
   "execution_count": 43,
   "metadata": {},
   "outputs": [
    {
     "name": "stderr",
     "output_type": "stream",
     "text": [
      "/group/ag_cmb/scratch/jqin/miniconda3/envs/tape/lib/python3.8/site-packages/seaborn/_decorators.py:36: FutureWarning: Pass the following variable as a keyword arg: x. From version 0.12, the only valid positional argument will be `data`, and passing other arguments without an explicit keyword will result in an error or misinterpretation.\n",
      "  warnings.warn(\n"
     ]
    },
    {
     "name": "stdout",
     "output_type": "stream",
     "text": [
      "DescribeResult(nobs=12, minmax=(0.7384615384615385, 0.9384615384615385), mean=0.7984348969685932, variance=0.004934251153191316, skewness=0.9886534958131274, kurtosis=-0.6608571821454299)\n"
     ]
    },
    {
     "data": {
      "image/png": "[encoded data removed]",
      "text/plain": [
       "<Figure size 432x288 with 1 Axes>"
      ]
     },
     "metadata": {
      "needs_background": "light"
     },
     "output_type": "display_data"
    }
   ],
   "source": [
    "sns.violinplot(mouse_antigen_accuracy)\n",
    "print(scipy.stats.describe(mouse_antigen_accuracy))"
   ]
  },
  {
   "cell_type": "code",
   "execution_count": 44,
   "metadata": {},
   "outputs": [
    {
     "name": "stderr",
     "output_type": "stream",
     "text": [
      "/group/ag_cmb/scratch/jqin/miniconda3/envs/tape/lib/python3.8/site-packages/seaborn/_decorators.py:36: FutureWarning: Pass the following variable as a keyword arg: x. From version 0.12, the only valid positional argument will be `data`, and passing other arguments without an explicit keyword will result in an error or misinterpretation.\n",
      "  warnings.warn(\n"
     ]
    },
    {
     "name": "stdout",
     "output_type": "stream",
     "text": [
      "DescribeResult(nobs=3, minmax=(0.7150928167877321, 0.75), mean=0.7372240779338047, variance=0.00037026963692832313, skewness=-0.6820523158929412, kurtosis=-1.5000000000000127)\n"
     ]
    },
    {
     "data": {
      "image/png": "[encoded data removed]",
      "text/plain": [
       "<Figure size 432x288 with 1 Axes>"
      ]
     },
     "metadata": {
      "needs_background": "light"
     },
     "output_type": "display_data"
    }
   ],
   "source": [
    "sns.violinplot(macaque_antigen_accuracy)\n",
    "print(scipy.stats.describe(macaque_antigen_accuracy))"
   ]
  },
  {
   "cell_type": "code",
   "execution_count": 45,
   "metadata": {},
   "outputs": [],
   "source": [
    "# what is distribution of how often CDR3 and antigen sequences are seen\n",
    "# in different species?\n",
    "human_cdr3_train_unique_freq = []         # number of sequences with each copy #\n",
    "human_cdr3_train_weighted_freq = []\n",
    "for cdr3 in human_cdr3_seq:\n",
    "    if cdr3 in cdr3_train_counts.keys():\n",
    "        count = cdr3_train_counts[cdr3]\n",
    "        human_cdr3_train_unique_freq += [count]\n",
    "        human_cdr3_train_weighted_freq += count*[count]\n",
    "    \n",
    "human_antigen_train_unique_freq = []         # number of sequences with each copy #\n",
    "human_antigen_train_weighted_freq = []\n",
    "for antigen in human_antigen_seq:\n",
    "    if antigen in antigen_train_counts.keys():\n",
    "        count = antigen_train_counts[antigen]\n",
    "        human_antigen_train_unique_freq += [count]\n",
    "        human_antigen_train_weighted_freq += count*[count]\n",
    "        \n",
    "mouse_cdr3_train_unique_freq = []         # number of sequences with each copy #\n",
    "mouse_cdr3_train_weighted_freq = []\n",
    "for cdr3 in mouse_cdr3_seq:\n",
    "    if cdr3 in cdr3_train_counts.keys():\n",
    "        count = cdr3_train_counts[cdr3]\n",
    "        mouse_cdr3_train_unique_freq += [count]\n",
    "        mouse_cdr3_train_weighted_freq += count*[count]\n",
    "    \n",
    "mouse_antigen_train_unique_freq = []         # number of sequences with each copy #\n",
    "mouse_antigen_train_weighted_freq = []\n",
    "for antigen in mouse_antigen_seq:\n",
    "    if antigen in antigen_train_counts.keys():\n",
    "        count = antigen_train_counts[antigen]\n",
    "        mouse_antigen_train_unique_freq += [count]\n",
    "        mouse_antigen_train_weighted_freq += count*[count]\n",
    "\n",
    "macaque_cdr3_train_unique_freq = []         # number of sequences with each copy #\n",
    "macaque_cdr3_train_weighted_freq = []\n",
    "for cdr3 in macaque_cdr3_seq:\n",
    "    if cdr3 in cdr3_train_counts.keys():\n",
    "        count = cdr3_train_counts[cdr3]\n",
    "        macaque_cdr3_train_unique_freq += [count]\n",
    "        macaque_cdr3_train_weighted_freq += count*[count]\n",
    "    \n",
    "macaque_antigen_train_unique_freq = []         # number of sequences with each copy #\n",
    "macaque_antigen_train_weighted_freq = []\n",
    "for antigen in macaque_antigen_seq:\n",
    "    if antigen in antigen_train_counts.keys():\n",
    "        count = antigen_train_counts[antigen]\n",
    "        macaque_antigen_train_unique_freq += [count]\n",
    "        macaque_antigen_train_weighted_freq += count*[count]\n"
   ]
  },
  {
   "cell_type": "code",
   "execution_count": 46,
   "metadata": {},
   "outputs": [
    {
     "data": {
      "text/html": [
       "<div>\n",
       "<style scoped>\n",
       "    .dataframe tbody tr th:only-of-type {\n",
       "        vertical-align: middle;\n",
       "    }\n",
       "\n",
       "    .dataframe tbody tr th {\n",
       "        vertical-align: top;\n",
       "    }\n",
       "\n",
       "    .dataframe thead th {\n",
       "        text-align: right;\n",
       "    }\n",
       "</style>\n",
       "<table border=\"1\" class=\"dataframe\">\n",
       "  <thead>\n",
       "    <tr style=\"text-align: right;\">\n",
       "      <th></th>\n",
       "      <th>1</th>\n",
       "      <th>2</th>\n",
       "      <th>3</th>\n",
       "      <th>4</th>\n",
       "      <th>5</th>\n",
       "      <th>6</th>\n",
       "      <th>7</th>\n",
       "      <th>8</th>\n",
       "      <th>9</th>\n",
       "      <th>10</th>\n",
       "      <th>...</th>\n",
       "      <th>99</th>\n",
       "      <th>103</th>\n",
       "      <th>106</th>\n",
       "      <th>123</th>\n",
       "      <th>140</th>\n",
       "      <th>144</th>\n",
       "      <th>145</th>\n",
       "      <th>154</th>\n",
       "      <th>155</th>\n",
       "      <th>344</th>\n",
       "    </tr>\n",
       "  </thead>\n",
       "  <tbody>\n",
       "    <tr>\n",
       "      <th>0</th>\n",
       "      <td>44481</td>\n",
       "      <td>4455</td>\n",
       "      <td>1048</td>\n",
       "      <td>449</td>\n",
       "      <td>225</td>\n",
       "      <td>106</td>\n",
       "      <td>78</td>\n",
       "      <td>51</td>\n",
       "      <td>49</td>\n",
       "      <td>30</td>\n",
       "      <td>...</td>\n",
       "      <td>1</td>\n",
       "      <td>1</td>\n",
       "      <td>1</td>\n",
       "      <td>1</td>\n",
       "      <td>1</td>\n",
       "      <td>1</td>\n",
       "      <td>1</td>\n",
       "      <td>1</td>\n",
       "      <td>1</td>\n",
       "      <td>1</td>\n",
       "    </tr>\n",
       "  </tbody>\n",
       "</table>\n",
       "<p>1 rows × 59 columns</p>\n",
       "</div>"
      ],
      "text/plain": [
       "     1     2     3    4    5    6    7    8    9    10   ...  99   103  106  \\\n",
       "0  44481  4455  1048  449  225  106   78   51   49   30  ...    1    1    1   \n",
       "\n",
       "   123  140  144  145  154  155  344  \n",
       "0    1    1    1    1    1    1    1  \n",
       "\n",
       "[1 rows x 59 columns]"
      ]
     },
     "execution_count": 46,
     "metadata": {},
     "output_type": "execute_result"
    }
   ],
   "source": [
    "pd.value_counts(human_cdr3_train_unique_freq).to_frame().sort_index().transpose()"
   ]
  },
  {
   "cell_type": "code",
   "execution_count": 47,
   "metadata": {},
   "outputs": [
    {
     "data": {
      "text/html": [
       "<div>\n",
       "<style scoped>\n",
       "    .dataframe tbody tr th:only-of-type {\n",
       "        vertical-align: middle;\n",
       "    }\n",
       "\n",
       "    .dataframe tbody tr th {\n",
       "        vertical-align: top;\n",
       "    }\n",
       "\n",
       "    .dataframe thead th {\n",
       "        text-align: right;\n",
       "    }\n",
       "</style>\n",
       "<table border=\"1\" class=\"dataframe\">\n",
       "  <thead>\n",
       "    <tr style=\"text-align: right;\">\n",
       "      <th></th>\n",
       "      <th>1</th>\n",
       "      <th>2</th>\n",
       "      <th>3</th>\n",
       "      <th>4</th>\n",
       "      <th>5</th>\n",
       "      <th>6</th>\n",
       "      <th>7</th>\n",
       "      <th>8</th>\n",
       "      <th>9</th>\n",
       "      <th>10</th>\n",
       "      <th>12</th>\n",
       "      <th>14</th>\n",
       "      <th>18</th>\n",
       "      <th>19</th>\n",
       "      <th>22</th>\n",
       "      <th>57</th>\n",
       "      <th>70</th>\n",
       "    </tr>\n",
       "  </thead>\n",
       "  <tbody>\n",
       "    <tr>\n",
       "      <th>0</th>\n",
       "      <td>1244</td>\n",
       "      <td>147</td>\n",
       "      <td>40</td>\n",
       "      <td>13</td>\n",
       "      <td>20</td>\n",
       "      <td>10</td>\n",
       "      <td>7</td>\n",
       "      <td>6</td>\n",
       "      <td>4</td>\n",
       "      <td>2</td>\n",
       "      <td>3</td>\n",
       "      <td>1</td>\n",
       "      <td>1</td>\n",
       "      <td>1</td>\n",
       "      <td>1</td>\n",
       "      <td>1</td>\n",
       "      <td>1</td>\n",
       "    </tr>\n",
       "  </tbody>\n",
       "</table>\n",
       "</div>"
      ],
      "text/plain": [
       "     1    2   3   4   5   6   7   8   9   10  12  14  18  19  22  57  70\n",
       "0  1244  147  40  13  20  10   7   6   4   2   3   1   1   1   1   1   1"
      ]
     },
     "execution_count": 47,
     "metadata": {},
     "output_type": "execute_result"
    }
   ],
   "source": [
    "pd.value_counts(mouse_cdr3_train_unique_freq).to_frame().sort_index().transpose()"
   ]
  },
  {
   "cell_type": "code",
   "execution_count": 48,
   "metadata": {},
   "outputs": [
    {
     "data": {
      "text/html": [
       "<div>\n",
       "<style scoped>\n",
       "    .dataframe tbody tr th:only-of-type {\n",
       "        vertical-align: middle;\n",
       "    }\n",
       "\n",
       "    .dataframe tbody tr th {\n",
       "        vertical-align: top;\n",
       "    }\n",
       "\n",
       "    .dataframe thead th {\n",
       "        text-align: right;\n",
       "    }\n",
       "</style>\n",
       "<table border=\"1\" class=\"dataframe\">\n",
       "  <thead>\n",
       "    <tr style=\"text-align: right;\">\n",
       "      <th></th>\n",
       "      <th>1</th>\n",
       "      <th>2</th>\n",
       "      <th>3</th>\n",
       "      <th>4</th>\n",
       "      <th>5</th>\n",
       "      <th>6</th>\n",
       "      <th>7</th>\n",
       "      <th>8</th>\n",
       "      <th>9</th>\n",
       "      <th>10</th>\n",
       "      <th>11</th>\n",
       "      <th>12</th>\n",
       "      <th>14</th>\n",
       "      <th>15</th>\n",
       "      <th>17</th>\n",
       "      <th>18</th>\n",
       "      <th>20</th>\n",
       "      <th>21</th>\n",
       "      <th>23</th>\n",
       "    </tr>\n",
       "  </thead>\n",
       "  <tbody>\n",
       "    <tr>\n",
       "      <th>0</th>\n",
       "      <td>781</td>\n",
       "      <td>293</td>\n",
       "      <td>42</td>\n",
       "      <td>42</td>\n",
       "      <td>15</td>\n",
       "      <td>2</td>\n",
       "      <td>3</td>\n",
       "      <td>3</td>\n",
       "      <td>2</td>\n",
       "      <td>2</td>\n",
       "      <td>1</td>\n",
       "      <td>1</td>\n",
       "      <td>1</td>\n",
       "      <td>1</td>\n",
       "      <td>1</td>\n",
       "      <td>1</td>\n",
       "      <td>1</td>\n",
       "      <td>1</td>\n",
       "      <td>1</td>\n",
       "    </tr>\n",
       "  </tbody>\n",
       "</table>\n",
       "</div>"
      ],
      "text/plain": [
       "    1    2   3   4   5   6   7   8   9   10  11  12  14  15  17  18  20  21  \\\n",
       "0  781  293  42  42  15   2   3   3   2   2   1   1   1   1   1   1   1   1   \n",
       "\n",
       "   23  \n",
       "0   1  "
      ]
     },
     "execution_count": 48,
     "metadata": {},
     "output_type": "execute_result"
    }
   ],
   "source": [
    "pd.value_counts(macaque_cdr3_train_unique_freq).to_frame().sort_index().transpose()"
   ]
  },
  {
   "cell_type": "code",
   "execution_count": 49,
   "metadata": {},
   "outputs": [
    {
     "data": {
      "text/html": [
       "<div>\n",
       "<style scoped>\n",
       "    .dataframe tbody tr th:only-of-type {\n",
       "        vertical-align: middle;\n",
       "    }\n",
       "\n",
       "    .dataframe tbody tr th {\n",
       "        vertical-align: top;\n",
       "    }\n",
       "\n",
       "    .dataframe thead th {\n",
       "        text-align: right;\n",
       "    }\n",
       "</style>\n",
       "<table border=\"1\" class=\"dataframe\">\n",
       "  <thead>\n",
       "    <tr style=\"text-align: right;\">\n",
       "      <th></th>\n",
       "      <th>0</th>\n",
       "    </tr>\n",
       "  </thead>\n",
       "  <tbody>\n",
       "    <tr>\n",
       "      <th>1</th>\n",
       "      <td>5</td>\n",
       "    </tr>\n",
       "    <tr>\n",
       "      <th>2</th>\n",
       "      <td>37</td>\n",
       "    </tr>\n",
       "    <tr>\n",
       "      <th>3</th>\n",
       "      <td>2</td>\n",
       "    </tr>\n",
       "    <tr>\n",
       "      <th>4</th>\n",
       "      <td>10</td>\n",
       "    </tr>\n",
       "    <tr>\n",
       "      <th>5</th>\n",
       "      <td>1</td>\n",
       "    </tr>\n",
       "    <tr>\n",
       "      <th>6</th>\n",
       "      <td>3</td>\n",
       "    </tr>\n",
       "    <tr>\n",
       "      <th>7</th>\n",
       "      <td>2</td>\n",
       "    </tr>\n",
       "    <tr>\n",
       "      <th>8</th>\n",
       "      <td>2</td>\n",
       "    </tr>\n",
       "    <tr>\n",
       "      <th>9</th>\n",
       "      <td>1</td>\n",
       "    </tr>\n",
       "    <tr>\n",
       "      <th>10</th>\n",
       "      <td>2</td>\n",
       "    </tr>\n",
       "  </tbody>\n",
       "</table>\n",
       "</div>"
      ],
      "text/plain": [
       "     0\n",
       "1    5\n",
       "2   37\n",
       "3    2\n",
       "4   10\n",
       "5    1\n",
       "6    3\n",
       "7    2\n",
       "8    2\n",
       "9    1\n",
       "10   2"
      ]
     },
     "execution_count": 49,
     "metadata": {},
     "output_type": "execute_result"
    }
   ],
   "source": [
    "pd.value_counts(human_antigen_train_unique_freq).to_frame().sort_index()[0:10]"
   ]
  },
  {
   "cell_type": "code",
   "execution_count": 50,
   "metadata": {},
   "outputs": [
    {
     "data": {
      "text/html": [
       "<div>\n",
       "<style scoped>\n",
       "    .dataframe tbody tr th:only-of-type {\n",
       "        vertical-align: middle;\n",
       "    }\n",
       "\n",
       "    .dataframe tbody tr th {\n",
       "        vertical-align: top;\n",
       "    }\n",
       "\n",
       "    .dataframe thead th {\n",
       "        text-align: right;\n",
       "    }\n",
       "</style>\n",
       "<table border=\"1\" class=\"dataframe\">\n",
       "  <thead>\n",
       "    <tr style=\"text-align: right;\">\n",
       "      <th></th>\n",
       "      <th>0</th>\n",
       "    </tr>\n",
       "  </thead>\n",
       "  <tbody>\n",
       "    <tr>\n",
       "      <th>2</th>\n",
       "      <td>4</td>\n",
       "    </tr>\n",
       "    <tr>\n",
       "      <th>3</th>\n",
       "      <td>1</td>\n",
       "    </tr>\n",
       "    <tr>\n",
       "      <th>4</th>\n",
       "      <td>1</td>\n",
       "    </tr>\n",
       "    <tr>\n",
       "      <th>10</th>\n",
       "      <td>1</td>\n",
       "    </tr>\n",
       "    <tr>\n",
       "      <th>12</th>\n",
       "      <td>1</td>\n",
       "    </tr>\n",
       "    <tr>\n",
       "      <th>13</th>\n",
       "      <td>1</td>\n",
       "    </tr>\n",
       "    <tr>\n",
       "      <th>18</th>\n",
       "      <td>1</td>\n",
       "    </tr>\n",
       "    <tr>\n",
       "      <th>61</th>\n",
       "      <td>1</td>\n",
       "    </tr>\n",
       "    <tr>\n",
       "      <th>64</th>\n",
       "      <td>1</td>\n",
       "    </tr>\n",
       "    <tr>\n",
       "      <th>137</th>\n",
       "      <td>1</td>\n",
       "    </tr>\n",
       "    <tr>\n",
       "      <th>204</th>\n",
       "      <td>1</td>\n",
       "    </tr>\n",
       "    <tr>\n",
       "      <th>227</th>\n",
       "      <td>1</td>\n",
       "    </tr>\n",
       "    <tr>\n",
       "      <th>499</th>\n",
       "      <td>1</td>\n",
       "    </tr>\n",
       "    <tr>\n",
       "      <th>874</th>\n",
       "      <td>1</td>\n",
       "    </tr>\n",
       "  </tbody>\n",
       "</table>\n",
       "</div>"
      ],
      "text/plain": [
       "     0\n",
       "2    4\n",
       "3    1\n",
       "4    1\n",
       "10   1\n",
       "12   1\n",
       "13   1\n",
       "18   1\n",
       "61   1\n",
       "64   1\n",
       "137  1\n",
       "204  1\n",
       "227  1\n",
       "499  1\n",
       "874  1"
      ]
     },
     "execution_count": 50,
     "metadata": {},
     "output_type": "execute_result"
    }
   ],
   "source": [
    "pd.value_counts(mouse_antigen_train_unique_freq).to_frame().sort_index()"
   ]
  },
  {
   "cell_type": "code",
   "execution_count": 51,
   "metadata": {},
   "outputs": [
    {
     "data": {
      "text/html": [
       "<div>\n",
       "<style scoped>\n",
       "    .dataframe tbody tr th:only-of-type {\n",
       "        vertical-align: middle;\n",
       "    }\n",
       "\n",
       "    .dataframe tbody tr th {\n",
       "        vertical-align: top;\n",
       "    }\n",
       "\n",
       "    .dataframe thead th {\n",
       "        text-align: right;\n",
       "    }\n",
       "</style>\n",
       "<table border=\"1\" class=\"dataframe\">\n",
       "  <thead>\n",
       "    <tr style=\"text-align: right;\">\n",
       "      <th></th>\n",
       "      <th>0</th>\n",
       "    </tr>\n",
       "  </thead>\n",
       "  <tbody>\n",
       "    <tr>\n",
       "      <th>309</th>\n",
       "      <td>1</td>\n",
       "    </tr>\n",
       "    <tr>\n",
       "      <th>814</th>\n",
       "      <td>1</td>\n",
       "    </tr>\n",
       "    <tr>\n",
       "      <th>859</th>\n",
       "      <td>1</td>\n",
       "    </tr>\n",
       "  </tbody>\n",
       "</table>\n",
       "</div>"
      ],
      "text/plain": [
       "     0\n",
       "309  1\n",
       "814  1\n",
       "859  1"
      ]
     },
     "execution_count": 51,
     "metadata": {},
     "output_type": "execute_result"
    }
   ],
   "source": [
    "pd.value_counts(macaque_antigen_train_unique_freq).to_frame().sort_index()"
   ]
  },
  {
   "cell_type": "code",
   "execution_count": 52,
   "metadata": {},
   "outputs": [
    {
     "data": {
      "text/plain": [
       "<AxesSubplot:ylabel='Density'>"
      ]
     },
     "execution_count": 52,
     "metadata": {},
     "output_type": "execute_result"
    },
    {
     "data": {
      "image/png": "[encoded data removed]",
      "text/plain": [
       "<Figure size 432x288 with 1 Axes>"
      ]
     },
     "metadata": {
      "needs_background": "light"
     },
     "output_type": "display_data"
    }
   ],
   "source": [
    "sns.kdeplot(human_cdr3_train_weighted_freq, bw_adjust=0.1)"
   ]
  },
  {
   "cell_type": "code",
   "execution_count": 53,
   "metadata": {},
   "outputs": [
    {
     "data": {
      "text/plain": [
       "<AxesSubplot:ylabel='Density'>"
      ]
     },
     "execution_count": 53,
     "metadata": {},
     "output_type": "execute_result"
    },
    {
     "data": {
      "image/png": "[encoded data removed]",
      "text/plain": [
       "<Figure size 432x288 with 1 Axes>"
      ]
     },
     "metadata": {
      "needs_background": "light"
     },
     "output_type": "display_data"
    }
   ],
   "source": [
    "sns.kdeplot(mouse_cdr3_train_weighted_freq, bw_adjust=0.4)"
   ]
  },
  {
   "cell_type": "code",
   "execution_count": 54,
   "metadata": {},
   "outputs": [
    {
     "data": {
      "text/plain": [
       "<AxesSubplot:ylabel='Density'>"
      ]
     },
     "execution_count": 54,
     "metadata": {},
     "output_type": "execute_result"
    },
    {
     "data": {
      "image/png": "[encoded data removed]",
      "text/plain": [
       "<Figure size 432x288 with 1 Axes>"
      ]
     },
     "metadata": {
      "needs_background": "light"
     },
     "output_type": "display_data"
    }
   ],
   "source": [
    "sns.kdeplot(macaque_cdr3_train_weighted_freq, bw_adjust=1)"
   ]
  },
  {
   "cell_type": "code",
   "execution_count": 55,
   "metadata": {},
   "outputs": [
    {
     "data": {
      "text/plain": [
       "<AxesSubplot:ylabel='Density'>"
      ]
     },
     "execution_count": 55,
     "metadata": {},
     "output_type": "execute_result"
    },
    {
     "data": {
      "image/png": "[encoded data removed]",
      "text/plain": [
       "<Figure size 432x288 with 1 Axes>"
      ]
     },
     "metadata": {
      "needs_background": "light"
     },
     "output_type": "display_data"
    }
   ],
   "source": [
    "sns.kdeplot(human_antigen_train_weighted_freq, bw_adjust=0.3)"
   ]
  },
  {
   "cell_type": "code",
   "execution_count": 56,
   "metadata": {},
   "outputs": [
    {
     "data": {
      "text/plain": [
       "<AxesSubplot:ylabel='Density'>"
      ]
     },
     "execution_count": 56,
     "metadata": {},
     "output_type": "execute_result"
    },
    {
     "data": {
      "image/png": "[encoded data removed]",
      "text/plain": [
       "<Figure size 432x288 with 1 Axes>"
      ]
     },
     "metadata": {
      "needs_background": "light"
     },
     "output_type": "display_data"
    }
   ],
   "source": [
    "sns.kdeplot(mouse_antigen_train_weighted_freq, bw_adjust=.5)"
   ]
  },
  {
   "cell_type": "code",
   "execution_count": 57,
   "metadata": {},
   "outputs": [
    {
     "data": {
      "text/plain": [
       "<AxesSubplot:ylabel='Density'>"
      ]
     },
     "execution_count": 57,
     "metadata": {},
     "output_type": "execute_result"
    },
    {
     "data": {
      "image/png": "[encoded data removed]",
      "text/plain": [
       "<Figure size 432x288 with 1 Axes>"
      ]
     },
     "metadata": {
      "needs_background": "light"
     },
     "output_type": "display_data"
    }
   ],
   "source": [
    "sns.kdeplot(macaque_antigen_train_weighted_freq, bw_adjust=.5)"
   ]
  },
  {
   "cell_type": "code",
   "execution_count": 58,
   "metadata": {},
   "outputs": [],
   "source": [
    "# does mouse classification show significant relationship between frequency\n",
    "# of antigen in training data and model performance?\n",
    "mouse_cdr3_valid_accuracy_list = []\n",
    "mouse_cdr3_valid_freq_in_train = []\n",
    "for cdr3 in mouse_cdr3_accuracy_dict.keys():\n",
    "    mouse_cdr3_valid_accuracy_list += [mouse_cdr3_accuracy_dict[cdr3]]\n",
    "    if cdr3 not in cdr3_train_counts.keys():\n",
    "        mouse_cdr3_valid_freq_in_train += [0]\n",
    "    else:\n",
    "        mouse_cdr3_valid_freq_in_train += [cdr3_train_counts[cdr3]]\n",
    "        \n",
    "mouse_antigen_valid_accuracy_list = []\n",
    "mouse_antigen_valid_freq_in_train = []\n",
    "for antigen in mouse_antigen_accuracy_dict.keys():\n",
    "    mouse_antigen_valid_accuracy_list += [mouse_antigen_accuracy_dict[antigen]]\n",
    "    if antigen not in antigen_train_counts.keys():\n",
    "        mouse_antigen_valid_freq_in_train += [0]\n",
    "    else:\n",
    "        mouse_antigen_valid_freq_in_train += [antigen_train_counts[antigen]]\n",
    "        \n",
    "mouse_cdr3_valid_accuracy_list = np.array(mouse_cdr3_valid_accuracy_list)\n",
    "mouse_cdr3_valid_freq_in_train = np.array(mouse_cdr3_valid_freq_in_train)\n",
    "mouse_antigen_valid_accuracy_list = np.array(mouse_antigen_valid_accuracy_list)\n",
    "mouse_antigen_valid_freq_in_train = np.array(mouse_antigen_valid_freq_in_train)"
   ]
  },
  {
   "cell_type": "code",
   "execution_count": 59,
   "metadata": {},
   "outputs": [
    {
     "name": "stderr",
     "output_type": "stream",
     "text": [
      "/group/ag_cmb/scratch/jqin/miniconda3/envs/tape/lib/python3.8/site-packages/seaborn/_decorators.py:36: FutureWarning: Pass the following variables as keyword args: x, y. From version 0.12, the only valid positional argument will be `data`, and passing other arguments without an explicit keyword will result in an error or misinterpretation.\n",
      "  warnings.warn(\n"
     ]
    },
    {
     "data": {
      "text/plain": [
       "<AxesSubplot:>"
      ]
     },
     "execution_count": 59,
     "metadata": {},
     "output_type": "execute_result"
    },
    {
     "data": {
      "image/png": "[encoded data removed]",
      "text/plain": [
       "<Figure size 432x288 with 1 Axes>"
      ]
     },
     "metadata": {
      "needs_background": "light"
     },
     "output_type": "display_data"
    }
   ],
   "source": [
    "sns.regplot(np.log(mouse_cdr3_valid_freq_in_train+1), mouse_cdr3_valid_accuracy_list)"
   ]
  },
  {
   "cell_type": "code",
   "execution_count": 60,
   "metadata": {},
   "outputs": [
    {
     "name": "stderr",
     "output_type": "stream",
     "text": [
      "/group/ag_cmb/scratch/jqin/miniconda3/envs/tape/lib/python3.8/site-packages/seaborn/_decorators.py:36: FutureWarning: Pass the following variables as keyword args: x, y. From version 0.12, the only valid positional argument will be `data`, and passing other arguments without an explicit keyword will result in an error or misinterpretation.\n",
      "  warnings.warn(\n"
     ]
    },
    {
     "data": {
      "text/plain": [
       "<AxesSubplot:>"
      ]
     },
     "execution_count": 60,
     "metadata": {},
     "output_type": "execute_result"
    },
    {
     "data": {
      "image/png": "[encoded data removed]",
      "text/plain": [
       "<Figure size 432x288 with 1 Axes>"
      ]
     },
     "metadata": {
      "needs_background": "light"
     },
     "output_type": "display_data"
    }
   ],
   "source": [
    "sns.regplot(np.log(mouse_antigen_valid_freq_in_train+1), mouse_antigen_valid_accuracy_list)"
   ]
  }
 ],
 "metadata": {
  "kernelspec": {
   "display_name": "Python 3",
   "language": "python",
   "name": "python3"
  },
  "language_info": {
   "codemirror_mode": {
    "name": "ipython",
    "version": 3
   },
   "file_extension": ".py",
   "mimetype": "text/x-python",
   "name": "python",
   "nbconvert_exporter": "python",
   "pygments_lexer": "ipython3",
   "version": "3.8.5"
  }
 },
 "nbformat": 4,
 "nbformat_minor": 4
}
