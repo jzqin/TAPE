{
 "cells": [
  {
   "cell_type": "code",
   "execution_count": null,
   "metadata": {},
   "outputs": [],
   "source": [
    "# Jason Qin\n",
    "# 04/26/21"
   ]
  },
  {
   "cell_type": "markdown",
   "metadata": {},
   "source": [
    "# Analyzing Classification Data\n",
    "\n",
    "Classification results from running TAPE on VDJdb TCR-antigen data."
   ]
  },
  {
   "cell_type": "code",
   "execution_count": 10,
   "metadata": {},
   "outputs": [],
   "source": [
    "import numpy as np\n",
    "import pandas\n",
    "import matplotlib.pyplot as plt\n",
    "\n",
    "from scipy.spatial.distance import cdist, hamming\n",
    "import scipy.stats\n",
    "\n",
    "from tape.datasets import FastaDataset, pad_sequences\n",
    "from tape.tokenizers import TAPETokenizer"
   ]
  },
  {
   "cell_type": "markdown",
   "metadata": {},
   "source": [
    "### Finding Perfect Predictions in Generated Data"
   ]
  },
  {
   "cell_type": "code",
   "execution_count": 8,
   "metadata": {},
   "outputs": [],
   "source": [
    "data_file = '/group/ag_cmb/scratch/jqin/projects/tape/results/tcr_classification_transformer_21-04-26-17-02-27_872893/eval_predictions_030521_194829.txt'\n",
    "data = pandas.read_csv(data_file, sep='\\t')"
   ]
  },
  {
   "cell_type": "code",
   "execution_count": 12,
   "metadata": {},
   "outputs": [
    {
     "name": "stderr",
     "output_type": "stream",
     "text": [
      "<ipython-input-12-6ece0dbe828b>:5: FutureWarning: The default value of regex will change from True to False in a future version.\n",
      "  data[col] = data[col].str.replace(r'.*\\[', '')\n",
      "<ipython-input-12-6ece0dbe828b>:6: FutureWarning: The default value of regex will change from True to False in a future version.\n",
      "  data[col] = data[col].str.replace(r'\\].*', '')\n"
     ]
    },
    {
     "ename": "AttributeError",
     "evalue": "Can only use .str accessor with string values!",
     "output_type": "error",
     "traceback": [
      "\u001b[0;31m---------------------------------------------------------------------------\u001b[0m",
      "\u001b[0;31mAttributeError\u001b[0m                            Traceback (most recent call last)",
      "\u001b[0;32m<ipython-input-12-6ece0dbe828b>\u001b[0m in \u001b[0;36m<module>\u001b[0;34m\u001b[0m\n\u001b[1;32m      3\u001b[0m \u001b[0;32mfor\u001b[0m \u001b[0mcol\u001b[0m \u001b[0;32min\u001b[0m \u001b[0mcolumn_names\u001b[0m\u001b[0;34m:\u001b[0m\u001b[0;34m\u001b[0m\u001b[0;34m\u001b[0m\u001b[0m\n\u001b[1;32m      4\u001b[0m     \u001b[0;31m# remove all non-numeric parts of data\u001b[0m\u001b[0;34m\u001b[0m\u001b[0;34m\u001b[0m\u001b[0;34m\u001b[0m\u001b[0m\n\u001b[0;32m----> 5\u001b[0;31m     \u001b[0mdata\u001b[0m\u001b[0;34m[\u001b[0m\u001b[0mcol\u001b[0m\u001b[0;34m]\u001b[0m \u001b[0;34m=\u001b[0m \u001b[0mdata\u001b[0m\u001b[0;34m[\u001b[0m\u001b[0mcol\u001b[0m\u001b[0;34m]\u001b[0m\u001b[0;34m.\u001b[0m\u001b[0mstr\u001b[0m\u001b[0;34m.\u001b[0m\u001b[0mreplace\u001b[0m\u001b[0;34m(\u001b[0m\u001b[0;34mr'.*\\['\u001b[0m\u001b[0;34m,\u001b[0m \u001b[0;34m''\u001b[0m\u001b[0;34m)\u001b[0m\u001b[0;34m\u001b[0m\u001b[0;34m\u001b[0m\u001b[0m\n\u001b[0m\u001b[1;32m      6\u001b[0m     \u001b[0mdata\u001b[0m\u001b[0;34m[\u001b[0m\u001b[0mcol\u001b[0m\u001b[0;34m]\u001b[0m \u001b[0;34m=\u001b[0m \u001b[0mdata\u001b[0m\u001b[0;34m[\u001b[0m\u001b[0mcol\u001b[0m\u001b[0;34m]\u001b[0m\u001b[0;34m.\u001b[0m\u001b[0mstr\u001b[0m\u001b[0;34m.\u001b[0m\u001b[0mreplace\u001b[0m\u001b[0;34m(\u001b[0m\u001b[0;34mr'\\].*'\u001b[0m\u001b[0;34m,\u001b[0m \u001b[0;34m''\u001b[0m\u001b[0;34m)\u001b[0m\u001b[0;34m\u001b[0m\u001b[0;34m\u001b[0m\u001b[0m\n\u001b[1;32m      7\u001b[0m     \u001b[0mdata\u001b[0m\u001b[0;34m[\u001b[0m\u001b[0mcol\u001b[0m\u001b[0;34m]\u001b[0m \u001b[0;34m=\u001b[0m \u001b[0mdata\u001b[0m\u001b[0;34m[\u001b[0m\u001b[0mcol\u001b[0m\u001b[0;34m]\u001b[0m\u001b[0;34m.\u001b[0m\u001b[0mstr\u001b[0m\u001b[0;34m.\u001b[0m\u001b[0mreplace\u001b[0m\u001b[0;34m(\u001b[0m\u001b[0;34mr'        '\u001b[0m\u001b[0;34m,\u001b[0m \u001b[0;34m','\u001b[0m\u001b[0;34m)\u001b[0m\u001b[0;34m\u001b[0m\u001b[0;34m\u001b[0m\u001b[0m\n",
      "\u001b[0;32m/group/ag_cmb/scratch/jqin/miniconda3/envs/tape/lib/python3.8/site-packages/pandas/core/generic.py\u001b[0m in \u001b[0;36m__getattr__\u001b[0;34m(self, name)\u001b[0m\n\u001b[1;32m   5459\u001b[0m             \u001b[0;32mor\u001b[0m \u001b[0mname\u001b[0m \u001b[0;32min\u001b[0m \u001b[0mself\u001b[0m\u001b[0;34m.\u001b[0m\u001b[0m_accessors\u001b[0m\u001b[0;34m\u001b[0m\u001b[0;34m\u001b[0m\u001b[0m\n\u001b[1;32m   5460\u001b[0m         ):\n\u001b[0;32m-> 5461\u001b[0;31m             \u001b[0;32mreturn\u001b[0m \u001b[0mobject\u001b[0m\u001b[0;34m.\u001b[0m\u001b[0m__getattribute__\u001b[0m\u001b[0;34m(\u001b[0m\u001b[0mself\u001b[0m\u001b[0;34m,\u001b[0m \u001b[0mname\u001b[0m\u001b[0;34m)\u001b[0m\u001b[0;34m\u001b[0m\u001b[0;34m\u001b[0m\u001b[0m\n\u001b[0m\u001b[1;32m   5462\u001b[0m         \u001b[0;32melse\u001b[0m\u001b[0;34m:\u001b[0m\u001b[0;34m\u001b[0m\u001b[0;34m\u001b[0m\u001b[0m\n\u001b[1;32m   5463\u001b[0m             \u001b[0;32mif\u001b[0m \u001b[0mself\u001b[0m\u001b[0;34m.\u001b[0m\u001b[0m_info_axis\u001b[0m\u001b[0;34m.\u001b[0m\u001b[0m_can_hold_identifiers_and_holds_name\u001b[0m\u001b[0;34m(\u001b[0m\u001b[0mname\u001b[0m\u001b[0;34m)\u001b[0m\u001b[0;34m:\u001b[0m\u001b[0;34m\u001b[0m\u001b[0;34m\u001b[0m\u001b[0m\n",
      "\u001b[0;32m/group/ag_cmb/scratch/jqin/miniconda3/envs/tape/lib/python3.8/site-packages/pandas/core/accessor.py\u001b[0m in \u001b[0;36m__get__\u001b[0;34m(self, obj, cls)\u001b[0m\n\u001b[1;32m    178\u001b[0m             \u001b[0;31m# we're accessing the attribute of the class, i.e., Dataset.geo\u001b[0m\u001b[0;34m\u001b[0m\u001b[0;34m\u001b[0m\u001b[0;34m\u001b[0m\u001b[0m\n\u001b[1;32m    179\u001b[0m             \u001b[0;32mreturn\u001b[0m \u001b[0mself\u001b[0m\u001b[0;34m.\u001b[0m\u001b[0m_accessor\u001b[0m\u001b[0;34m\u001b[0m\u001b[0;34m\u001b[0m\u001b[0m\n\u001b[0;32m--> 180\u001b[0;31m         \u001b[0maccessor_obj\u001b[0m \u001b[0;34m=\u001b[0m \u001b[0mself\u001b[0m\u001b[0;34m.\u001b[0m\u001b[0m_accessor\u001b[0m\u001b[0;34m(\u001b[0m\u001b[0mobj\u001b[0m\u001b[0;34m)\u001b[0m\u001b[0;34m\u001b[0m\u001b[0;34m\u001b[0m\u001b[0m\n\u001b[0m\u001b[1;32m    181\u001b[0m         \u001b[0;31m# Replace the property with the accessor object. Inspired by:\u001b[0m\u001b[0;34m\u001b[0m\u001b[0;34m\u001b[0m\u001b[0;34m\u001b[0m\u001b[0m\n\u001b[1;32m    182\u001b[0m         \u001b[0;31m# https://www.pydanny.com/cached-property.html\u001b[0m\u001b[0;34m\u001b[0m\u001b[0;34m\u001b[0m\u001b[0;34m\u001b[0m\u001b[0m\n",
      "\u001b[0;32m/group/ag_cmb/scratch/jqin/miniconda3/envs/tape/lib/python3.8/site-packages/pandas/core/strings/accessor.py\u001b[0m in \u001b[0;36m__init__\u001b[0;34m(self, data)\u001b[0m\n\u001b[1;32m    152\u001b[0m         \u001b[0;32mfrom\u001b[0m \u001b[0mpandas\u001b[0m\u001b[0;34m.\u001b[0m\u001b[0mcore\u001b[0m\u001b[0;34m.\u001b[0m\u001b[0marrays\u001b[0m\u001b[0;34m.\u001b[0m\u001b[0mstring_\u001b[0m \u001b[0;32mimport\u001b[0m \u001b[0mStringDtype\u001b[0m\u001b[0;34m\u001b[0m\u001b[0;34m\u001b[0m\u001b[0m\n\u001b[1;32m    153\u001b[0m \u001b[0;34m\u001b[0m\u001b[0m\n\u001b[0;32m--> 154\u001b[0;31m         \u001b[0mself\u001b[0m\u001b[0;34m.\u001b[0m\u001b[0m_inferred_dtype\u001b[0m \u001b[0;34m=\u001b[0m \u001b[0mself\u001b[0m\u001b[0;34m.\u001b[0m\u001b[0m_validate\u001b[0m\u001b[0;34m(\u001b[0m\u001b[0mdata\u001b[0m\u001b[0;34m)\u001b[0m\u001b[0;34m\u001b[0m\u001b[0;34m\u001b[0m\u001b[0m\n\u001b[0m\u001b[1;32m    155\u001b[0m         \u001b[0mself\u001b[0m\u001b[0;34m.\u001b[0m\u001b[0m_is_categorical\u001b[0m \u001b[0;34m=\u001b[0m \u001b[0mis_categorical_dtype\u001b[0m\u001b[0;34m(\u001b[0m\u001b[0mdata\u001b[0m\u001b[0;34m.\u001b[0m\u001b[0mdtype\u001b[0m\u001b[0;34m)\u001b[0m\u001b[0;34m\u001b[0m\u001b[0;34m\u001b[0m\u001b[0m\n\u001b[1;32m    156\u001b[0m         \u001b[0mself\u001b[0m\u001b[0;34m.\u001b[0m\u001b[0m_is_string\u001b[0m \u001b[0;34m=\u001b[0m \u001b[0misinstance\u001b[0m\u001b[0;34m(\u001b[0m\u001b[0mdata\u001b[0m\u001b[0;34m.\u001b[0m\u001b[0mdtype\u001b[0m\u001b[0;34m,\u001b[0m \u001b[0mStringDtype\u001b[0m\u001b[0;34m)\u001b[0m\u001b[0;34m\u001b[0m\u001b[0;34m\u001b[0m\u001b[0m\n",
      "\u001b[0;32m/group/ag_cmb/scratch/jqin/miniconda3/envs/tape/lib/python3.8/site-packages/pandas/core/strings/accessor.py\u001b[0m in \u001b[0;36m_validate\u001b[0;34m(data)\u001b[0m\n\u001b[1;32m    215\u001b[0m \u001b[0;34m\u001b[0m\u001b[0m\n\u001b[1;32m    216\u001b[0m         \u001b[0;32mif\u001b[0m \u001b[0minferred_dtype\u001b[0m \u001b[0;32mnot\u001b[0m \u001b[0;32min\u001b[0m \u001b[0mallowed_types\u001b[0m\u001b[0;34m:\u001b[0m\u001b[0;34m\u001b[0m\u001b[0;34m\u001b[0m\u001b[0m\n\u001b[0;32m--> 217\u001b[0;31m             \u001b[0;32mraise\u001b[0m \u001b[0mAttributeError\u001b[0m\u001b[0;34m(\u001b[0m\u001b[0;34m\"Can only use .str accessor with string values!\"\u001b[0m\u001b[0;34m)\u001b[0m\u001b[0;34m\u001b[0m\u001b[0;34m\u001b[0m\u001b[0m\n\u001b[0m\u001b[1;32m    218\u001b[0m         \u001b[0;32mreturn\u001b[0m \u001b[0minferred_dtype\u001b[0m\u001b[0;34m\u001b[0m\u001b[0;34m\u001b[0m\u001b[0m\n\u001b[1;32m    219\u001b[0m \u001b[0;34m\u001b[0m\u001b[0m\n",
      "\u001b[0;31mAttributeError\u001b[0m: Can only use .str accessor with string values!"
     ]
    }
   ],
   "source": [
    "# clean and organize data\n",
    "column_names = ['input', 'target', 'prediction', 'index']\n",
    "for col in column_names:\n",
    "    # remove all non-numeric parts of data\n",
    "    if (data[col] )\n",
    "    data[col] = data[col].str.replace(r'.*\\[', '')\n",
    "    data[col] = data[col].str.replace(r'\\].*', '')\n",
    "    data[col] = data[col].str.replace(r'        ', ',')\n",
    "    data[col] = data[col].str.strip()\n",
    "    \n",
    "    # convert comma-separated string of ints to list of ints\n",
    "    data[col] = [np.array([float(y.strip('.')) for y in x]) for x in data[col].str.split(',')]"
   ]
  },
  {
   "cell_type": "code",
   "execution_count": 4,
   "metadata": {},
   "outputs": [],
   "source": [
    "antigens = data['antigen']\n",
    "predictions = data['prediction']"
   ]
  },
  {
   "cell_type": "code",
   "execution_count": 5,
   "metadata": {},
   "outputs": [],
   "source": [
    "# reduce length of predictions to be closest to each antigen\n",
    "# this lets us find the closest match between the targets and the\n",
    "# generated predictions\n",
    "truncated_predictions = []\n",
    "for antigen, pred in zip(antigens, predictions):\n",
    "    stop_idx = np.where(antigen == 3)[0][0]\n",
    "    if antigen.shape[0] < pred.shape[0]:\n",
    "        pred[stop_idx] = 3\n",
    "        pred = pred[0:(stop_idx+1)]\n",
    "    truncated_predictions += [pred]"
   ]
  },
  {
   "cell_type": "code",
   "execution_count": 26,
   "metadata": {},
   "outputs": [],
   "source": [
    "# compare truncated predictions to the known targets\n",
    "truncated_differences = []\n",
    "for antigen, pred in zip(antigens, truncated_predictions):\n",
    "    antigen = np.expand_dims(antigen, 0)\n",
    "    pred = np.expand_dims(pred, 0)\n",
    "    truncated_differences += [cdist(antigen, pred, metric='hamming').squeeze()]"
   ]
  },
  {
   "cell_type": "code",
   "execution_count": 28,
   "metadata": {},
   "outputs": [],
   "source": [
    "# truncated predictions and Hamming distance scores of truncated predictions\n",
    "# to data frame\n",
    "data['truncated_prediction'] = truncated_predictions\n",
    "data['truncated_difference'] = truncated_differences"
   ]
  },
  {
   "cell_type": "code",
   "execution_count": 45,
   "metadata": {},
   "outputs": [],
   "source": [
    "# find all sequences that were perfectly predicted\n",
    "perf_preds = data[data['truncated_difference'] == 0]['truncated_prediction']"
   ]
  },
  {
   "cell_type": "code",
   "execution_count": 46,
   "metadata": {},
   "outputs": [
    {
     "name": "stdout",
     "output_type": "stream",
     "text": [
      "Number of total sequences predicted: 1174\n",
      "Number of perfect predictions (after truncation): 239\n"
     ]
    }
   ],
   "source": [
    "print('Number of total sequences with predictions: {}'.format(data.shape[0]))\n",
    "print('Number of perfect predictions (after truncation): {}'.format(len(perf_preds)))"
   ]
  },
  {
   "cell_type": "code",
   "execution_count": 3,
   "metadata": {},
   "outputs": [
    {
     "ename": "NameError",
     "evalue": "name 'perf_preds' is not defined",
     "output_type": "error",
     "traceback": [
      "\u001b[0;31m---------------------------------------------------------------------------\u001b[0m",
      "\u001b[0;31mNameError\u001b[0m                                 Traceback (most recent call last)",
      "\u001b[0;32m<ipython-input-3-b3998df7f2b0>\u001b[0m in \u001b[0;36m<module>\u001b[0;34m\u001b[0m\n\u001b[1;32m      1\u001b[0m \u001b[0;31m# how many of the unique sequences are there in those that were\u001b[0m\u001b[0;34m\u001b[0m\u001b[0;34m\u001b[0m\u001b[0;34m\u001b[0m\u001b[0m\n\u001b[1;32m      2\u001b[0m \u001b[0;31m# perfectly predicted?\u001b[0m\u001b[0;34m\u001b[0m\u001b[0;34m\u001b[0m\u001b[0;34m\u001b[0m\u001b[0m\n\u001b[0;32m----> 3\u001b[0;31m \u001b[0munique_perf_preds\u001b[0m \u001b[0;34m=\u001b[0m \u001b[0;34m[\u001b[0m\u001b[0mlist\u001b[0m\u001b[0;34m(\u001b[0m\u001b[0my\u001b[0m\u001b[0;34m)\u001b[0m \u001b[0;32mfor\u001b[0m \u001b[0my\u001b[0m \u001b[0;32min\u001b[0m \u001b[0mset\u001b[0m\u001b[0;34m(\u001b[0m\u001b[0mtuple\u001b[0m\u001b[0;34m(\u001b[0m\u001b[0mx\u001b[0m\u001b[0;34m)\u001b[0m \u001b[0;32mfor\u001b[0m \u001b[0mx\u001b[0m \u001b[0;32min\u001b[0m \u001b[0mperf_preds\u001b[0m\u001b[0;34m)\u001b[0m\u001b[0;34m]\u001b[0m\u001b[0;34m\u001b[0m\u001b[0;34m\u001b[0m\u001b[0m\n\u001b[0m",
      "\u001b[0;31mNameError\u001b[0m: name 'perf_preds' is not defined"
     ]
    }
   ],
   "source": [
    "# how many of the unique sequences are there in those that were \n",
    "# perfectly predicted?\n",
    "unique_perf_preds = [list(y) for y in set(tuple(x) for x in perf_preds)]"
   ]
  },
  {
   "cell_type": "code",
   "execution_count": 49,
   "metadata": {},
   "outputs": [
    {
     "name": "stdout",
     "output_type": "stream",
     "text": [
      "Among perfect predictions, number of unique sequences: 30\n"
     ]
    }
   ],
   "source": [
    "print('Among perfect predictions, number of unique sequences: {}'.format(len(unique_perf_preds)))"
   ]
  },
  {
   "cell_type": "code",
   "execution_count": 59,
   "metadata": {},
   "outputs": [],
   "source": [
    "# how many times does each of the 30 unique sequences get generated?\n",
    "unique_pred_counts = []\n",
    "for pred in unique_perf_preds:\n",
    "    pred_match = [list(x) == pred for x in perf_preds]\n",
    "    unique_pred_counts += [sum(pred_match)]"
   ]
  },
  {
   "cell_type": "code",
   "execution_count": 63,
   "metadata": {},
   "outputs": [
    {
     "data": {
      "text/plain": [
       "(array([25.,  3.,  0.,  0.,  0.,  0.,  0.,  0.,  0.,  2.]),\n",
       " array([ 1. ,  9.3, 17.6, 25.9, 34.2, 42.5, 50.8, 59.1, 67.4, 75.7, 84. ]),\n",
       " <BarContainer object of 10 artists>)"
      ]
     },
     "execution_count": 63,
     "metadata": {},
     "output_type": "execute_result"
    },
    {
     "data": {
      "image/png": "[encoded data removed]",
      "text/plain": [
       "<Figure size 432x288 with 1 Axes>"
      ]
     },
     "metadata": {
      "needs_background": "light"
     },
     "output_type": "display_data"
    }
   ],
   "source": [
    "plt.hist(unique_pred_counts)"
   ]
  },
  {
   "cell_type": "markdown",
   "metadata": {},
   "source": [
    "### Compare Training Data to Validation Data"
   ]
  },
  {
   "cell_type": "code",
   "execution_count": 80,
   "metadata": {},
   "outputs": [],
   "source": [
    "# relevant data files\n",
    "data_dir = '/group/ag_cmb/scratch/jqin/projects/tape/data/tcr'\n",
    "cdr3_train_file = data_dir + '/cdr3_train.fasta'\n",
    "antigen_train_file = data_dir + '/antigen_train.fasta'\n",
    "cdr3_valid_file = data_dir + '/cdr3_valid.fasta'\n",
    "antigen_valid_file = data_dir + '/antigen_valid.fasta'\n",
    "\n",
    "# set up tokenizer\n",
    "tokenizer = TAPETokenizer(vocab='iupac')\n",
    "\n",
    "# load relevant data\n",
    "antigen_train_data_uncleaned = FastaDataset(antigen_train_file, in_memory=True)"
   ]
  },
  {
   "cell_type": "code",
   "execution_count": 81,
   "metadata": {},
   "outputs": [],
   "source": [
    "# organize data\n",
    "antigen_train_data = [list(tokenizer.encode(x['primary'])) for x in antigen_train_data_uncleaned]"
   ]
  },
  {
   "cell_type": "code",
   "execution_count": 2,
   "metadata": {},
   "outputs": [
    {
     "ename": "NameError",
     "evalue": "name 'unique_perf_preds' is not defined",
     "output_type": "error",
     "traceback": [
      "\u001b[0;31m---------------------------------------------------------------------------\u001b[0m",
      "\u001b[0;31mNameError\u001b[0m                                 Traceback (most recent call last)",
      "\u001b[0;32m<ipython-input-2-66f735e092f7>\u001b[0m in \u001b[0;36m<module>\u001b[0;34m\u001b[0m\n\u001b[1;32m      2\u001b[0m \u001b[0;31m# can be found in training data\u001b[0m\u001b[0;34m\u001b[0m\u001b[0;34m\u001b[0m\u001b[0;34m\u001b[0m\u001b[0m\n\u001b[1;32m      3\u001b[0m \u001b[0munique_pred_counts_in_train\u001b[0m \u001b[0;34m=\u001b[0m \u001b[0;34m[\u001b[0m\u001b[0;34m]\u001b[0m\u001b[0;34m\u001b[0m\u001b[0;34m\u001b[0m\u001b[0m\n\u001b[0;32m----> 4\u001b[0;31m \u001b[0;32mfor\u001b[0m \u001b[0mpred\u001b[0m \u001b[0;32min\u001b[0m \u001b[0munique_perf_preds\u001b[0m\u001b[0;34m:\u001b[0m\u001b[0;34m\u001b[0m\u001b[0;34m\u001b[0m\u001b[0m\n\u001b[0m\u001b[1;32m      5\u001b[0m     \u001b[0mpred_match\u001b[0m \u001b[0;34m=\u001b[0m \u001b[0;34m[\u001b[0m\u001b[0mlist\u001b[0m\u001b[0;34m(\u001b[0m\u001b[0mx\u001b[0m\u001b[0;34m)\u001b[0m \u001b[0;34m==\u001b[0m \u001b[0mpred\u001b[0m \u001b[0;32mfor\u001b[0m \u001b[0mx\u001b[0m \u001b[0;32min\u001b[0m \u001b[0mantigen_train_data\u001b[0m\u001b[0;34m]\u001b[0m\u001b[0;34m\u001b[0m\u001b[0;34m\u001b[0m\u001b[0m\n\u001b[1;32m      6\u001b[0m     \u001b[0munique_pred_counts_in_train\u001b[0m \u001b[0;34m+=\u001b[0m \u001b[0;34m[\u001b[0m\u001b[0msum\u001b[0m\u001b[0;34m(\u001b[0m\u001b[0mpred_match\u001b[0m\u001b[0;34m)\u001b[0m\u001b[0;34m]\u001b[0m\u001b[0;34m\u001b[0m\u001b[0;34m\u001b[0m\u001b[0m\n",
      "\u001b[0;31mNameError\u001b[0m: name 'unique_perf_preds' is not defined"
     ]
    }
   ],
   "source": [
    "# find number of times each unique perfect (truncated) prediction \n",
    "# can be found in training data\n",
    "unique_pred_counts_in_train = []\n",
    "for pred in unique_perf_preds:\n",
    "    pred_match = [list(x) == pred for x in antigen_train_data]\n",
    "    unique_pred_counts_in_train += [sum(pred_match)]"
   ]
  },
  {
   "cell_type": "code",
   "execution_count": 90,
   "metadata": {},
   "outputs": [
    {
     "data": {
      "text/plain": [
       "<matplotlib.collections.PathCollection at 0x7f2335bd5f70>"
      ]
     },
     "execution_count": 90,
     "metadata": {},
     "output_type": "execute_result"
    },
    {
     "data": {
      "image/png": "[encoded data removed]",
      "text/plain": [
       "<Figure size 432x288 with 1 Axes>"
      ]
     },
     "metadata": {
      "needs_background": "light"
     },
     "output_type": "display_data"
    }
   ],
   "source": [
    "plt.scatter(np.log(unique_pred_counts_in_train), np.log(unique_pred_counts))"
   ]
  },
  {
   "cell_type": "code",
   "execution_count": null,
   "metadata": {},
   "outputs": [
    {
     "name": "stdout",
     "output_type": "stream",
     "text": [
      "[ 2 17 15 22  5 19 25 13 23 19  3]\n",
      "[ 2 11 13 15 11 10 25 10 23 15  3]\n",
      "[ 2 11 13 15 11 10 25 10 23 15  3]\n",
      "[ 2 11 13 15 11 10 25 10 23 15  3]\n",
      "[ 2 14 15 11 11  5 15 20  5 14  3]\n",
      "[ 2 11 19 11 12  9  5 21 10 19  3]\n",
      "[ 2 14 15 25  5 15 11 13 17  5 25  3]\n",
      "[ 2 17  9 11 25  5  5 10 21 14  3]\n",
      "[ 2 11 16 10 17 16 15 22 23 25  3]\n",
      "[ 2 14 15 22  5 16 15 20  5 16  3]\n",
      "[ 2 23 23 21  9 22 15 17 19  3]\n",
      "[ 2 14 15 25  5 15 11 13 17  5 25  3]\n",
      "[ 2 14 15 11 11  5 15 20  5 14  3]\n",
      "[ 2 28 15 20 19 20 23 20 19 15  3]\n",
      "[ 2 11 23 22 11 22 19 13 25 17 21  3]\n",
      "[ 2 14 15 11 25  5 15  8  5 22  3]\n",
      "[ 2 14 15 11 11  5 15 20  5 14  3]\n",
      "[ 2 14 15 11 11  5 15 20  5 14  3]\n",
      "[ 2 11 19  9 19 15 19 20  5 23  3]\n",
      "[ 2 15 22 28 26 17 20 16 23  5  9 20  5 23  3]\n",
      "[ 2 11 15 17 14 13 25 21 16 28 21  3]\n",
      "[ 2  9 19 15 19 20 11 20 15 23  5  3]\n",
      "[ 2 11  5  8 21 10 20 21 23 15  3]\n",
      "[ 2 17  9 22 25  9  5  5 17  3]\n",
      "[ 2  9  5  5 11 13 11 15  8 19 25  3]\n",
      "[ 2 14 15 22  5 16 15 20  5 16  3]\n",
      "[ 2 21 15 21 21 19 25  5 19 25  3]\n",
      "[ 2 23 19 21 25 23  7 17 17  7  7  3]\n",
      "[ 2 17 15 25 21 16 25  5 23 16  3]\n",
      "[ 2 14 15 22  5 16 15 20  5 16  3]\n",
      "[ 2 14 15 11 11  5 15 20 21  5  3]\n",
      "[ 2  5 15 26 22 21 23 15 21  5  3]\n",
      "[ 2  5  5 11 13  5 28 20 16 19  3]\n",
      "[ 2 22 22 19 19 16 10 21 25 19 21  3]\n",
      "[ 2 11 13 15 11 10 25 10 23 15  3]\n",
      "[ 2 17 15 17  7 19 22 14  9 19  3]\n",
      "[ 2 14 15 11 11  5 15 20  5 14  3]\n",
      "[ 2 11 13 15 11 10 25 10 23 15  3]\n",
      "[ 2 11 23 11 11 22 22 19 13 19  3]\n",
      "[ 2 14 15 11 11  5 15 20  5 14  3]\n",
      "[ 2 17 15 17  7  7 22 25 19  7  3]\n",
      "[ 2 11 13 15 11 10 25 10 23 15  3]\n",
      "[ 2 14 15 25  5 16 15  5 23 21  3]\n",
      "[ 2 10 21  8 28 25  8 21 10 28 14 23 15 21 19  9 20  5 22  3  1  1]\n",
      "[ 2 14 15 22  5 16 15 20  5 16  3]\n",
      "[ 2 22 22 15 22 17 10 21 19 19  5  3]\n",
      "[ 2 14 15 11 11  5 15 20  5 14  3]\n",
      "[ 2  5 19 20 19  9 15 19 19 21 19 19 13 11 19 12 19  3]\n",
      "[ 2 17 16 16 28 16 25  5 23 25  3]\n",
      "[ 2 14 15 11 11  5 15 20  5 14  3]\n",
      "[ 2 14 15 25  5 15 11 13 17  5 25  3]\n",
      "[ 2  9 19 15 19 20 19 20 15  5  3]\n",
      "[ 2 14 15 22  5 16 15 20  5 16  3]\n",
      "[ 2 14 15 11 11  5 15 20  5 14  3]\n",
      "[ 2 22 22 15  9 17 10 21  5 28 22  3]\n",
      "[ 2 11 13 15 11 10 25 10 23 15  3]\n",
      "[ 2 22 20 15 15 17  5 14 28  5  3]\n",
      "[ 2 11 13 15  8 20 25 22 21  5  3]\n",
      "[ 2 14 15 25  5 16 15 20  5 16  3]\n",
      "[ 2 22 23 19 23 22  5 17 23  3]\n",
      "[ 2 22 22 19 28 16  5 21 10 28 14  3]\n",
      "[ 2 17  5 20  9 16 25 21 23 16  3]\n",
      "[ 2 11 23 11 11 22 22 22 19 19 25  3]\n",
      "[ 2 21  5 14 10 14 20 15 15  3]\n",
      "[ 2  5 25 10  8 21 14 22  8  5 14  3]\n",
      "[ 2 11 13 15 11 10 25 10 23 15  3]\n",
      "[ 2 14 15 11 11  5 15 20 21  5  3]\n",
      "[ 2 14  5 22 20 13 25 20  5 16 21 23 13 11 23 12 19  3]\n",
      "[ 2 14 15 11 11  5 15 20  5 14  3]\n",
      "[ 2 14  5 10 25 21 20 15 21  5  9  3]\n",
      "[ 2 17 15 22  5 15 11 23 10 22  3]\n",
      "[ 2  5 28 11 22 10 22 25 22 20  3]\n",
      "[ 2 14 15 22  5 16 15 20  5 16  3]\n",
      "[ 2 11 15  7 23 15 25  5 16 15  3]\n",
      "[ 2 15 22 19  9 13  5 21 10 28 14  3]\n",
      "[ 2 11 13 15 11 10 25 10 23 19  3]\n",
      "[ 2 14 21 26  7 20  9 15 20  5  3]\n",
      "[ 2 14 15 11 11  5 15 20  5 14  3]\n",
      "[ 2 17 15 25 21 16 25  5 16 25  3]\n",
      "[ 2 17  5 20  9 16 25 21 23 16  3]\n",
      "[ 2 11 23 11 22 22 20 19 22 19  9 20 19 20 19 20  3]\n",
      "[ 2 11 13 15 11 10 25 10 23 15  3]\n",
      "[ 2 21  5 14 10 14 20 15 15  3]\n",
      "[ 2 28 15 20 28 28 23 20 15 15  3]\n",
      "[ 2  5 19 20 19 15 15 20 19 20  3]\n",
      "[ 2  5 21 16 12 15 20 23 16 23  3]\n",
      "[ 2  9 15  5 11 13 11 19 16 23  5  3]\n",
      "[ 2 11 16 10  8 21 25 22  8  5 14  3]\n",
      "[ 2 14 15 22  5 16 15 20  5 16  3]\n",
      "[ 2 11 13 15 11 10 25 10 23 15  3]\n",
      "[ 2 11 15 13 28 17 21 16  5  5  3]\n",
      "[ 2  7 23 19 28  8 13 17 20 16  3]\n",
      "[ 2 21 15 22 19 12 19 20 12 12  3]\n",
      "[ 2 17  5 20 16 14  5 16 25  5 20 25 21  3]\n",
      "[ 2 14 21 28 25 14 16  7 23 19 22 20  5 21  3]\n",
      "[ 2 15 19  9 11 15 19 20  5 20  3]\n",
      "[ 2  7 23 19 28  8 13 17 20 17  3]\n",
      "[ 2 22 22 15  9 17 10 21  5 28 25  3]\n",
      "[ 2 14 15 22  5 16 15 20  5 16  3]\n",
      "[ 2 13 25 23  8 10 22 25 13 14  3]\n",
      "[ 2  9 19 19 19 20 15 20 19 20  3]\n",
      "[ 2 11 13 15 11 10 25 10 27 19  3]\n",
      "[ 2 14 15 25  5 15 11 13 17  5  3]\n",
      "[ 2 14 15 22  5 16 15 20  5 16  3]\n",
      "[ 2 22 22 15  9 17 10 21 19 12  5  3]\n",
      "[ 2 11 13 15 11 10 25 10 23 15  3]\n",
      "[ 2 11 15  7 23 15 25  5 16 15  3]\n",
      "[ 2  5 28 11 22 10 22 25 22 20  3]\n",
      "[ 2  7 23 19 28  8 13 17 20 17  3]\n",
      "[ 2  5  5 11 13  5 15 20  5 21  3]\n",
      "[ 2  5 22 17  9 17  9  9 23  9  3]\n",
      "[ 2 14 15 25  5 15 11 20 17  5  3]\n",
      "[ 2 15 15 15 25  5 25  5 15 25  3]\n",
      "[ 2 22 20 28 28 21 21 15 15  3]\n",
      "[ 2 14  5 25 28 17 10  5 23 17  3]\n",
      "[ 2  5 19 20 19  9 15 19 20  5 19  3]\n",
      "[ 2  9 19 19 19 20 15 20 19 20  3]\n",
      "[ 2 14 21 28 25 14 20 25 15 21 23 15 21  5  3]\n",
      "[ 2 22 22 28 21 21 28 25 21 12  3]\n",
      "[ 2  5 19 20 19 15 15 20 19  9  3]\n",
      "[ 2 11 23 11 11 22 15 22 19 21  3]\n",
      "[ 2 21  5 14 10 14 20 15 15  3]\n",
      "[ 2 22 20 15 15 28  8 10 15  3]\n",
      "[ 2 15 19  9 21  5 19 20  5 19  3]\n",
      "[ 2 11 15  7 23 15 25  5 16 16  3]\n",
      "[ 2 15 19  9 11 15 19 20  5 20  3]\n",
      "[ 2  5 23  8  5 15 16 23 11 28  3]\n",
      "[ 2  7 23 19 28  8 13 17 20 17  3]\n",
      "[ 2 17  9 11 25  5  5 10 10 14  3]\n",
      "[ 2 14 15 25  5 15 11 13 17  5  3]\n",
      "[ 2 21  5 20 25 21 20 16 15 20  3]\n",
      "[ 2 23 23 19 23 22  5 17  9  3]\n",
      "[ 2 17 15 17  7  7 22  7 19 25  3]\n",
      "[ 2 14  5 10 25 21 22 15 21  5 20  3]\n",
      "[ 2 17  5 14 25 14 20  9 25  3]\n",
      "[ 2 23 23 19  9 22  5 17 15  3]\n",
      "[ 2  5 19  5 19  9 19 20 19 20  3]\n",
      "[ 2 10 19 21 19 26 15 12 11 15  3]\n",
      "[ 2 14 15 11 11  5 15 20  5 14  3]\n",
      "[ 2  5 25 28  8 10 10 21 23 15  3]\n",
      "[ 2 21  5 21 20 15 16  9 23 16  3]\n",
      "[ 2 22 22 19 19 10 21 21 19  3]\n",
      "[ 2 14 15 22  5 16 15 20  5 16  3]\n",
      "[ 2 11 13 15 25 21 25 15 21  5  3]\n",
      "[ 2 14 15 22  5 16 15 20  5 16  3]\n",
      "[ 2 14  5 25 26 21 10 15 17  5  9  3]\n",
      "[ 2  9 19 15 19 20 19 20 15 19 15 19 20 19 20 15  3]\n",
      "[ 2 23 19 21 25 23 21 21  8  5  5  3]\n",
      "[ 2 14 15 22  5 16 15 20  5 16  3]\n",
      "[ 2 17  5 14 13 23  5  9 25 12 19  3]\n",
      "[ 2 21 15 19 19 10 19 20 19  9  3]\n",
      "[ 2 14 15 22  5 16 15 20  5 16  3]\n",
      "[ 2 15 19  9 11 19 19 20  5  5  3]\n",
      "[ 2 14 15 22  5 16 15 20  5 16  3]\n",
      "[ 2 14 15 22  5 16 15 20  5 16  3]\n",
      "[ 2 14 15 25  5 15 11 13 17  5 25  3]\n",
      "[ 2 28 22 20 19 19 23 10 23 15  3]\n",
      "[ 2 14 15 25  5 15 11 13 17  5 25  3]\n"
     ]
    }
   ],
   "source": [
    "# what is correlation between Hamming distance and number of same\n",
    "# antigens seen in training data?\n",
    "all_pred_counts_in_train = []\n",
    "for pred in truncated_predictions:\n",
    "    print(pred)\n",
    "    pred_match = [list(x) == list(pred) for x in antigen_train_data]\n",
    "    all_pred_counts_in_train += [sum(pred_match)]"
   ]
  },
  {
   "cell_type": "code",
   "execution_count": 1,
   "metadata": {},
   "outputs": [
    {
     "ename": "NameError",
     "evalue": "name 'all_pred_counts_in_train' is not defined",
     "output_type": "error",
     "traceback": [
      "\u001b[0;31m---------------------------------------------------------------------------\u001b[0m",
      "\u001b[0;31mNameError\u001b[0m                                 Traceback (most recent call last)",
      "\u001b[0;32m<ipython-input-1-8c84093615dd>\u001b[0m in \u001b[0;36m<module>\u001b[0;34m\u001b[0m\n\u001b[0;32m----> 1\u001b[0;31m \u001b[0mall_pred_counts_in_train\u001b[0m\u001b[0;34m\u001b[0m\u001b[0;34m\u001b[0m\u001b[0m\n\u001b[0m",
      "\u001b[0;31mNameError\u001b[0m: name 'all_pred_counts_in_train' is not defined"
     ]
    }
   ],
   "source": [
    "all_pred_counts_in_train"
   ]
  }
 ],
 "metadata": {
  "kernelspec": {
   "display_name": "Python 3",
   "language": "python",
   "name": "python3"
  },
  "language_info": {
   "codemirror_mode": {
    "name": "ipython",
    "version": 3
   },
   "file_extension": ".py",
   "mimetype": "text/x-python",
   "name": "python",
   "nbconvert_exporter": "python",
   "pygments_lexer": "ipython3",
   "version": "3.8.5"
  }
 },
 "nbformat": 4,
 "nbformat_minor": 4
}
